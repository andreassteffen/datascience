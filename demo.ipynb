{
 "cells": [
  {
   "cell_type": "markdown",
   "metadata": {},
   "source": [
    "# Import libraries"
   ]
  },
  {
   "cell_type": "code",
   "execution_count": 1,
   "metadata": {
    "collapsed": false
   },
   "outputs": [
    {
     "name": "stdout",
     "output_type": "stream",
     "text": [
      "Populating the interactive namespace from numpy and matplotlib\n"
     ]
    }
   ],
   "source": [
    "import pandas as pd\n",
    "import seaborn as sns\n",
    "import psycopg2 as pg\n",
    "import re\n",
    "import steffen.cbioportal.data as cbd\n",
    "from scipy.stats import ttest_ind\n",
    "from collections import Counter\n",
    "%pylab inline"
   ]
  },
  {
   "cell_type": "markdown",
   "metadata": {},
   "source": [
    "# Data access"
   ]
  },
  {
   "cell_type": "markdown",
   "metadata": {},
   "source": [
    "## from excel file"
   ]
  },
  {
   "cell_type": "code",
   "execution_count": 2,
   "metadata": {
    "collapsed": false
   },
   "outputs": [],
   "source": [
    "cipl = pd.read_excel('../data/overview_cipl_pitches.xlsx')"
   ]
  },
  {
   "cell_type": "markdown",
   "metadata": {},
   "source": [
    "## from database"
   ]
  },
  {
   "cell_type": "code",
   "execution_count": 6,
   "metadata": {
    "collapsed": true
   },
   "outputs": [],
   "source": [
    "# establish connection\n",
    "conn = pg.connect('dbname=cbiodb host=wdec005438 user=postgres password=postgres')"
   ]
  },
  {
   "cell_type": "code",
   "execution_count": 7,
   "metadata": {
    "collapsed": false
   },
   "outputs": [],
   "source": [
    "# get expression data\n",
    "expr = pd.read_sql(\"SELECT * from rnaseqdb.expression where symbol = 'TP53'\", conn)"
   ]
  },
  {
   "cell_type": "code",
   "execution_count": 9,
   "metadata": {
    "collapsed": true
   },
   "outputs": [],
   "source": [
    "expr_slice = expr.set_index('sample_barcode').query('sample_type == \"tumor\"')"
   ]
  },
  {
   "cell_type": "markdown",
   "metadata": {},
   "source": [
    "## from web"
   ]
  },
  {
   "cell_type": "code",
   "execution_count": 10,
   "metadata": {
    "collapsed": false
   },
   "outputs": [],
   "source": [
    "# get studies from cbioportal\n",
    "studies = cbd.get_tcga_provisional_studies()"
   ]
  },
  {
   "cell_type": "code",
   "execution_count": 11,
   "metadata": {
    "collapsed": false
   },
   "outputs": [],
   "source": [
    "a\n",
    "# get mutation data\n",
    "mut = cbd.get_mutations(studies.cancer_study_id.tolist(), ['TP53'])a\n"
   ]
  },
  {
   "cell_type": "code",
   "execution_count": 12,
   "metadata": {
    "collapsed": false
   },
   "outputs": [
    {
     "data": {
      "text/html": [
       "<div>\n",
       "<table border=\"1\" class=\"dataframe\">\n",
       "  <thead>\n",
       "    <tr style=\"text-align: right;\">\n",
       "      <th></th>\n",
       "      <th>TP53_MUT</th>\n",
       "      <th>cancer_study_id</th>\n",
       "    </tr>\n",
       "  </thead>\n",
       "  <tbody>\n",
       "    <tr>\n",
       "      <th>TCGA-AB-2802-03</th>\n",
       "      <td>NaN</td>\n",
       "      <td>laml_tcga</td>\n",
       "    </tr>\n",
       "    <tr>\n",
       "      <th>TCGA-AB-2803-03</th>\n",
       "      <td>NaN</td>\n",
       "      <td>laml_tcga</td>\n",
       "    </tr>\n",
       "    <tr>\n",
       "      <th>TCGA-AB-2804-03</th>\n",
       "      <td>NaN</td>\n",
       "      <td>laml_tcga</td>\n",
       "    </tr>\n",
       "    <tr>\n",
       "      <th>TCGA-AB-2805-03</th>\n",
       "      <td>NaN</td>\n",
       "      <td>laml_tcga</td>\n",
       "    </tr>\n",
       "    <tr>\n",
       "      <th>TCGA-AB-2806-03</th>\n",
       "      <td>NaN</td>\n",
       "      <td>laml_tcga</td>\n",
       "    </tr>\n",
       "  </tbody>\n",
       "</table>\n",
       "</div>"
      ],
      "text/plain": [
       "                TP53_MUT cancer_study_id\n",
       "TCGA-AB-2802-03      NaN       laml_tcga\n",
       "TCGA-AB-2803-03      NaN       laml_tcga\n",
       "TCGA-AB-2804-03      NaN       laml_tcga\n",
       "TCGA-AB-2805-03      NaN       laml_tcga\n",
       "TCGA-AB-2806-03      NaN       laml_tcga"
      ]
     },
     "execution_count": 12,
     "metadata": {},
     "output_type": "execute_result"
    }
   ],
   "source": [
    "mut.head()"
   ]
  },
  {
   "cell_type": "markdown",
   "metadata": {},
   "source": [
    "# data cleaning/reformatting/shaping"
   ]
  },
  {
   "cell_type": "code",
   "execution_count": 13,
   "metadata": {
    "collapsed": true
   },
   "outputs": [],
   "source": [
    "# cut type from index\n",
    "mut.index = [ele[:12] for ele in mut.index]"
   ]
  },
  {
   "cell_type": "code",
   "execution_count": 14,
   "metadata": {
    "collapsed": true
   },
   "outputs": [],
   "source": [
    "# set na to wildtype\n",
    "mut = mut.fillna('wt')"
   ]
  },
  {
   "cell_type": "code",
   "execution_count": 15,
   "metadata": {
    "collapsed": false
   },
   "outputs": [],
   "source": [
    "# join mutation and expression data\n",
    "joined = mut.join(expr_slice)"
   ]
  },
  {
   "cell_type": "code",
   "execution_count": 16,
   "metadata": {
    "collapsed": false
   },
   "outputs": [
    {
     "data": {
      "text/html": [
       "<div>\n",
       "<table border=\"1\" class=\"dataframe\">\n",
       "  <thead>\n",
       "    <tr style=\"text-align: right;\">\n",
       "      <th></th>\n",
       "      <th>TP53_MUT</th>\n",
       "      <th>cancer_study_id</th>\n",
       "      <th>symbol</th>\n",
       "      <th>entrezid</th>\n",
       "      <th>log2_tpm</th>\n",
       "      <th>sample_type</th>\n",
       "      <th>data_source</th>\n",
       "      <th>tissue_type</th>\n",
       "      <th>tissue_subtype</th>\n",
       "      <th>cancer_type</th>\n",
       "    </tr>\n",
       "  </thead>\n",
       "  <tbody>\n",
       "    <tr>\n",
       "      <th>TCGA-02-0003</th>\n",
       "      <td>R282W,H178Q</td>\n",
       "      <td>gbm_tcga</td>\n",
       "      <td>NaN</td>\n",
       "      <td>NaN</td>\n",
       "      <td>NaN</td>\n",
       "      <td>NaN</td>\n",
       "      <td>NaN</td>\n",
       "      <td>NaN</td>\n",
       "      <td>NaN</td>\n",
       "      <td>NaN</td>\n",
       "    </tr>\n",
       "    <tr>\n",
       "      <th>TCGA-02-0033</th>\n",
       "      <td>R248Q</td>\n",
       "      <td>gbm_tcga</td>\n",
       "      <td>NaN</td>\n",
       "      <td>NaN</td>\n",
       "      <td>NaN</td>\n",
       "      <td>NaN</td>\n",
       "      <td>NaN</td>\n",
       "      <td>NaN</td>\n",
       "      <td>NaN</td>\n",
       "      <td>NaN</td>\n",
       "    </tr>\n",
       "    <tr>\n",
       "      <th>TCGA-02-0047</th>\n",
       "      <td>wt</td>\n",
       "      <td>gbm_tcga</td>\n",
       "      <td>NaN</td>\n",
       "      <td>NaN</td>\n",
       "      <td>NaN</td>\n",
       "      <td>NaN</td>\n",
       "      <td>NaN</td>\n",
       "      <td>NaN</td>\n",
       "      <td>NaN</td>\n",
       "      <td>NaN</td>\n",
       "    </tr>\n",
       "    <tr>\n",
       "      <th>TCGA-02-0055</th>\n",
       "      <td>V216M</td>\n",
       "      <td>gbm_tcga</td>\n",
       "      <td>NaN</td>\n",
       "      <td>NaN</td>\n",
       "      <td>NaN</td>\n",
       "      <td>NaN</td>\n",
       "      <td>NaN</td>\n",
       "      <td>NaN</td>\n",
       "      <td>NaN</td>\n",
       "      <td>NaN</td>\n",
       "    </tr>\n",
       "    <tr>\n",
       "      <th>TCGA-02-2470</th>\n",
       "      <td>wt</td>\n",
       "      <td>gbm_tcga</td>\n",
       "      <td>NaN</td>\n",
       "      <td>NaN</td>\n",
       "      <td>NaN</td>\n",
       "      <td>NaN</td>\n",
       "      <td>NaN</td>\n",
       "      <td>NaN</td>\n",
       "      <td>NaN</td>\n",
       "      <td>NaN</td>\n",
       "    </tr>\n",
       "  </tbody>\n",
       "</table>\n",
       "</div>"
      ],
      "text/plain": [
       "                 TP53_MUT cancer_study_id symbol  entrezid  log2_tpm  \\\n",
       "TCGA-02-0003  R282W,H178Q        gbm_tcga    NaN       NaN       NaN   \n",
       "TCGA-02-0033        R248Q        gbm_tcga    NaN       NaN       NaN   \n",
       "TCGA-02-0047           wt        gbm_tcga    NaN       NaN       NaN   \n",
       "TCGA-02-0055        V216M        gbm_tcga    NaN       NaN       NaN   \n",
       "TCGA-02-2470           wt        gbm_tcga    NaN       NaN       NaN   \n",
       "\n",
       "             sample_type data_source tissue_type tissue_subtype cancer_type  \n",
       "TCGA-02-0003         NaN         NaN         NaN            NaN         NaN  \n",
       "TCGA-02-0033         NaN         NaN         NaN            NaN         NaN  \n",
       "TCGA-02-0047         NaN         NaN         NaN            NaN         NaN  \n",
       "TCGA-02-0055         NaN         NaN         NaN            NaN         NaN  \n",
       "TCGA-02-2470         NaN         NaN         NaN            NaN         NaN  "
      ]
     },
     "execution_count": 16,
     "metadata": {},
     "output_type": "execute_result"
    }
   ],
   "source": [
    "joined.head()"
   ]
  },
  {
   "cell_type": "code",
   "execution_count": 17,
   "metadata": {
    "collapsed": false
   },
   "outputs": [],
   "source": [
    "# keep only rows with expression data\n",
    "joined = joined.dropna(subset = ['log2_tpm'])"
   ]
  },
  {
   "cell_type": "code",
   "execution_count": 18,
   "metadata": {
    "collapsed": false
   },
   "outputs": [
    {
     "data": {
      "text/html": [
       "<div>\n",
       "<table border=\"1\" class=\"dataframe\">\n",
       "  <thead>\n",
       "    <tr style=\"text-align: right;\">\n",
       "      <th></th>\n",
       "      <th>TP53_MUT</th>\n",
       "      <th>cancer_study_id</th>\n",
       "      <th>symbol</th>\n",
       "      <th>entrezid</th>\n",
       "      <th>log2_tpm</th>\n",
       "      <th>sample_type</th>\n",
       "      <th>data_source</th>\n",
       "      <th>tissue_type</th>\n",
       "      <th>tissue_subtype</th>\n",
       "      <th>cancer_type</th>\n",
       "    </tr>\n",
       "  </thead>\n",
       "  <tbody>\n",
       "    <tr>\n",
       "      <th>TCGA-05-4249</th>\n",
       "      <td>wt</td>\n",
       "      <td>luad_tcga</td>\n",
       "      <td>TP53</td>\n",
       "      <td>7157.0</td>\n",
       "      <td>10.47</td>\n",
       "      <td>tumor</td>\n",
       "      <td>tcga</td>\n",
       "      <td>lung</td>\n",
       "      <td>None</td>\n",
       "      <td>luad</td>\n",
       "    </tr>\n",
       "    <tr>\n",
       "      <th>TCGA-05-4382</th>\n",
       "      <td>V272G</td>\n",
       "      <td>luad_tcga</td>\n",
       "      <td>TP53</td>\n",
       "      <td>7157.0</td>\n",
       "      <td>9.45</td>\n",
       "      <td>tumor</td>\n",
       "      <td>tcga</td>\n",
       "      <td>lung</td>\n",
       "      <td>None</td>\n",
       "      <td>luad</td>\n",
       "    </tr>\n",
       "    <tr>\n",
       "      <th>TCGA-05-4384</th>\n",
       "      <td>Y205C</td>\n",
       "      <td>luad_tcga</td>\n",
       "      <td>TP53</td>\n",
       "      <td>7157.0</td>\n",
       "      <td>10.25</td>\n",
       "      <td>tumor</td>\n",
       "      <td>tcga</td>\n",
       "      <td>lung</td>\n",
       "      <td>None</td>\n",
       "      <td>luad</td>\n",
       "    </tr>\n",
       "    <tr>\n",
       "      <th>TCGA-05-4389</th>\n",
       "      <td>wt</td>\n",
       "      <td>luad_tcga</td>\n",
       "      <td>TP53</td>\n",
       "      <td>7157.0</td>\n",
       "      <td>9.47</td>\n",
       "      <td>tumor</td>\n",
       "      <td>tcga</td>\n",
       "      <td>lung</td>\n",
       "      <td>None</td>\n",
       "      <td>luad</td>\n",
       "    </tr>\n",
       "    <tr>\n",
       "      <th>TCGA-05-4390</th>\n",
       "      <td>wt</td>\n",
       "      <td>luad_tcga</td>\n",
       "      <td>TP53</td>\n",
       "      <td>7157.0</td>\n",
       "      <td>9.63</td>\n",
       "      <td>tumor</td>\n",
       "      <td>tcga</td>\n",
       "      <td>lung</td>\n",
       "      <td>None</td>\n",
       "      <td>luad</td>\n",
       "    </tr>\n",
       "  </tbody>\n",
       "</table>\n",
       "</div>"
      ],
      "text/plain": [
       "             TP53_MUT cancer_study_id symbol  entrezid  log2_tpm sample_type  \\\n",
       "TCGA-05-4249       wt       luad_tcga   TP53    7157.0     10.47       tumor   \n",
       "TCGA-05-4382    V272G       luad_tcga   TP53    7157.0      9.45       tumor   \n",
       "TCGA-05-4384    Y205C       luad_tcga   TP53    7157.0     10.25       tumor   \n",
       "TCGA-05-4389       wt       luad_tcga   TP53    7157.0      9.47       tumor   \n",
       "TCGA-05-4390       wt       luad_tcga   TP53    7157.0      9.63       tumor   \n",
       "\n",
       "             data_source tissue_type tissue_subtype cancer_type  \n",
       "TCGA-05-4249        tcga        lung           None        luad  \n",
       "TCGA-05-4382        tcga        lung           None        luad  \n",
       "TCGA-05-4384        tcga        lung           None        luad  \n",
       "TCGA-05-4389        tcga        lung           None        luad  \n",
       "TCGA-05-4390        tcga        lung           None        luad  "
      ]
     },
     "execution_count": 18,
     "metadata": {},
     "output_type": "execute_result"
    }
   ],
   "source": [
    "joined.head()"
   ]
  },
  {
   "cell_type": "code",
   "execution_count": 19,
   "metadata": {
    "collapsed": false
   },
   "outputs": [],
   "source": [
    "# set all mutated to mut\n",
    "joined['TP53_MUTCALL'] = joined.apply(lambda x: 'wt' if x.TP53_MUT == \"wt\" else \"mut\", axis = 1)"
   ]
  },
  {
   "cell_type": "code",
   "execution_count": 20,
   "metadata": {
    "collapsed": true
   },
   "outputs": [],
   "source": [
    "MISSENSE = re.compile('[A-Z]\\d+[A-Z]')"
   ]
  },
  {
   "cell_type": "code",
   "execution_count": 21,
   "metadata": {
    "collapsed": false
   },
   "outputs": [
    {
     "data": {
      "text/plain": [
       "<_sre.SRE_Match object; span=(0, 5), match='A234V'>"
      ]
     },
     "execution_count": 21,
     "metadata": {},
     "output_type": "execute_result"
    }
   ],
   "source": [
    "MISSENSE.match('A234V')"
   ]
  },
  {
   "cell_type": "code",
   "execution_count": 22,
   "metadata": {
    "collapsed": false
   },
   "outputs": [
    {
     "data": {
      "text/plain": [
       "<_sre.SRE_Match object; span=(0, 8), match='A123123T'>"
      ]
     },
     "execution_count": 22,
     "metadata": {},
     "output_type": "execute_result"
    }
   ],
   "source": [
    "MISSENSE.match('A123123T')"
   ]
  },
  {
   "cell_type": "code",
   "execution_count": 23,
   "metadata": {
    "collapsed": true
   },
   "outputs": [],
   "source": [
    "def muttype_call_tp53(data):\n",
    "    if data.TP53_MUT == \"wt\":\n",
    "        return \"wt\"\n",
    "    if \"*\" in data.TP53_MUT or 'fs' in data.TP53_MUT:\n",
    "        return 'lof'\n",
    "    if MISSENSE.match(data.TP53_MUT):\n",
    "        return 'missense'\n",
    "    return None"
   ]
  },
  {
   "cell_type": "code",
   "execution_count": 24,
   "metadata": {
    "collapsed": false
   },
   "outputs": [],
   "source": [
    "joined['TP53_MUTCALL_FINE'] = joined.apply(muttype_call_tp53, axis = 1)"
   ]
  },
  {
   "cell_type": "code",
   "execution_count": 26,
   "metadata": {
    "collapsed": false
   },
   "outputs": [
    {
     "data": {
      "text/plain": [
       "wt     2941\n",
       "mut    1465\n",
       "Name: TP53_MUTCALL, dtype: int64"
      ]
     },
     "execution_count": 26,
     "metadata": {},
     "output_type": "execute_result"
    }
   ],
   "source": [
    "joined.TP53_MUTCALL.value_counts()"
   ]
  },
  {
   "cell_type": "markdown",
   "metadata": {},
   "source": [
    "# visualization"
   ]
  },
  {
   "cell_type": "code",
   "execution_count": 27,
   "metadata": {
    "collapsed": true
   },
   "outputs": [],
   "source": [
    "# some viz parameters\n",
    "sns.set_context('talk')\n",
    "sns.set_style('white')"
   ]
  },
  {
   "cell_type": "markdown",
   "metadata": {},
   "source": [
    "## plot expression against mutation"
   ]
  },
  {
   "cell_type": "code",
   "execution_count": 28,
   "metadata": {
    "collapsed": false
   },
   "outputs": [
    {
     "data": {
      "image/png": "[encoded data removed]",
      "text/plain": [
       "<matplotlib.figure.Figure at 0x7f19f1192ef0>"
      ]
     },
     "metadata": {},
     "output_type": "display_data"
    }
   ],
   "source": [
    "sns.boxplot(data = joined, x = 'TP53_MUTCALL', y = 'log2_tpm', width = 0.3, linewidth = 1.5, fliersize = 2)\n",
    "sns.despine()"
   ]
  },
  {
   "cell_type": "code",
   "execution_count": 29,
   "metadata": {
    "collapsed": false
   },
   "outputs": [
    {
     "data": {
      "image/png": "[encoded data removed]",
      "text/plain": [
       "<matplotlib.figure.Figure at 0x7f19e31c9208>"
      ]
     },
     "metadata": {},
     "output_type": "display_data"
    }
   ],
   "source": [
    "sns.boxplot(data = joined, x = 'TP53_MUTCALL_FINE', y = 'log2_tpm', width = 0.3, linewidth = 1.5, fliersize = 2)\n",
    "sns.despine()"
   ]
  },
  {
   "cell_type": "markdown",
   "metadata": {},
   "source": [
    "## who pitched most?"
   ]
  },
  {
   "cell_type": "code",
   "execution_count": 89,
   "metadata": {
    "collapsed": false
   },
   "outputs": [
    {
     "data": {
      "text/plain": [
       "Andreas Steffen                                    4\n",
       "Florian Sohler                                     3\n",
       "Lena Willkomm                                      3\n",
       "Barbara Nicke                                      2\n",
       "Daniel Freitag                                     2\n",
       "Michael Steckel                                    2\n",
       "Helge Roider, Andreas Steffen                      2\n",
       "Justus Veerkamp, Daniel Freitag                    1\n",
       "Kirsten Leineweber                                 1\n",
       "Alexandra Becker                                   1\n",
       "Alexander Zink                                     1\n",
       "Holger Trucks                                      1\n",
       "Benjamin Georgi, Daniel Freitag, Florian Sohler    1\n",
       "Andreas Steffen, Daniel Freitag                    1\n",
       "Stephan Decker                                     1\n",
       "Luisella Toschi                                    1\n",
       "Benjamin Georgi                                    1\n",
       "Michael Becker, Ralf Lesche                        1\n",
       "Name: Presenter, dtype: int64"
      ]
     },
     "execution_count": 89,
     "metadata": {},
     "output_type": "execute_result"
    }
   ],
   "source": [
    "cipl.Presenter.value_counts()"
   ]
  },
  {
   "cell_type": "code",
   "execution_count": 91,
   "metadata": {
    "collapsed": false
   },
   "outputs": [],
   "source": [
    "listlist = [ele1.split(',') for ele1 in cipl.Presenter.tolist()]"
   ]
  },
  {
   "cell_type": "code",
   "execution_count": 95,
   "metadata": {
    "collapsed": false
   },
   "outputs": [],
   "source": [
    "presenter = [item.strip() for sublist in listlist for item in sublist]"
   ]
  },
  {
   "cell_type": "code",
   "execution_count": 117,
   "metadata": {
    "collapsed": false
   },
   "outputs": [],
   "source": [
    "num_pitches = pd.DataFrame.from_dict(Counter(presenter), orient='index').rename(columns = {0:'number_of_pitches'}).sort_values('number_of_pitches', ascending = True)"
   ]
  },
  {
   "cell_type": "code",
   "execution_count": 118,
   "metadata": {
    "collapsed": false
   },
   "outputs": [
    {
     "data": {
      "text/html": [
       "<div>\n",
       "<table border=\"1\" class=\"dataframe\">\n",
       "  <thead>\n",
       "    <tr style=\"text-align: right;\">\n",
       "      <th></th>\n",
       "      <th>index</th>\n",
       "      <th>number_of_pitches</th>\n",
       "    </tr>\n",
       "  </thead>\n",
       "  <tbody>\n",
       "    <tr>\n",
       "      <th>0</th>\n",
       "      <td>Kirsten Leineweber</td>\n",
       "      <td>1</td>\n",
       "    </tr>\n",
       "    <tr>\n",
       "      <th>1</th>\n",
       "      <td>Alexandra Becker</td>\n",
       "      <td>1</td>\n",
       "    </tr>\n",
       "    <tr>\n",
       "      <th>2</th>\n",
       "      <td>Justus Veerkamp</td>\n",
       "      <td>1</td>\n",
       "    </tr>\n",
       "    <tr>\n",
       "      <th>3</th>\n",
       "      <td>Stephan Decker</td>\n",
       "      <td>1</td>\n",
       "    </tr>\n",
       "    <tr>\n",
       "      <th>4</th>\n",
       "      <td>Luisella Toschi</td>\n",
       "      <td>1</td>\n",
       "    </tr>\n",
       "    <tr>\n",
       "      <th>5</th>\n",
       "      <td>Holger Trucks</td>\n",
       "      <td>1</td>\n",
       "    </tr>\n",
       "    <tr>\n",
       "      <th>6</th>\n",
       "      <td>Michael Becker</td>\n",
       "      <td>1</td>\n",
       "    </tr>\n",
       "    <tr>\n",
       "      <th>7</th>\n",
       "      <td>Ralf Lesche</td>\n",
       "      <td>1</td>\n",
       "    </tr>\n",
       "    <tr>\n",
       "      <th>8</th>\n",
       "      <td>Alexander Zink</td>\n",
       "      <td>1</td>\n",
       "    </tr>\n",
       "    <tr>\n",
       "      <th>9</th>\n",
       "      <td>Michael Steckel</td>\n",
       "      <td>2</td>\n",
       "    </tr>\n",
       "    <tr>\n",
       "      <th>10</th>\n",
       "      <td>Benjamin Georgi</td>\n",
       "      <td>2</td>\n",
       "    </tr>\n",
       "    <tr>\n",
       "      <th>11</th>\n",
       "      <td>Barbara Nicke</td>\n",
       "      <td>2</td>\n",
       "    </tr>\n",
       "    <tr>\n",
       "      <th>12</th>\n",
       "      <td>Helge Roider</td>\n",
       "      <td>2</td>\n",
       "    </tr>\n",
       "    <tr>\n",
       "      <th>13</th>\n",
       "      <td>Lena Willkomm</td>\n",
       "      <td>3</td>\n",
       "    </tr>\n",
       "    <tr>\n",
       "      <th>14</th>\n",
       "      <td>Florian Sohler</td>\n",
       "      <td>4</td>\n",
       "    </tr>\n",
       "    <tr>\n",
       "      <th>15</th>\n",
       "      <td>Daniel Freitag</td>\n",
       "      <td>5</td>\n",
       "    </tr>\n",
       "    <tr>\n",
       "      <th>16</th>\n",
       "      <td>Andreas Steffen</td>\n",
       "      <td>7</td>\n",
       "    </tr>\n",
       "  </tbody>\n",
       "</table>\n",
       "</div>"
      ],
      "text/plain": [
       "                 index  number_of_pitches\n",
       "0   Kirsten Leineweber                  1\n",
       "1     Alexandra Becker                  1\n",
       "2      Justus Veerkamp                  1\n",
       "3       Stephan Decker                  1\n",
       "4      Luisella Toschi                  1\n",
       "5        Holger Trucks                  1\n",
       "6       Michael Becker                  1\n",
       "7          Ralf Lesche                  1\n",
       "8       Alexander Zink                  1\n",
       "9      Michael Steckel                  2\n",
       "10     Benjamin Georgi                  2\n",
       "11       Barbara Nicke                  2\n",
       "12        Helge Roider                  2\n",
       "13       Lena Willkomm                  3\n",
       "14      Florian Sohler                  4\n",
       "15      Daniel Freitag                  5\n",
       "16     Andreas Steffen                  7"
      ]
     },
     "execution_count": 118,
     "metadata": {},
     "output_type": "execute_result"
    }
   ],
   "source": [
    "num_pitches.reset_index()"
   ]
  },
  {
   "cell_type": "code",
   "execution_count": 119,
   "metadata": {
    "collapsed": false
   },
   "outputs": [
    {
     "data": {
      "text/plain": [
       "<matplotlib.text.Text at 0x7f1b613ae8d0>"
      ]
     },
     "execution_count": 119,
     "metadata": {},
     "output_type": "execute_result"
    },
    {
     "data": {
      "image/png": "[encoded data removed]",
      "text/plain": [
       "<matplotlib.figure.Figure at 0x7f1b614d36d8>"
      ]
     },
     "metadata": {},
     "output_type": "display_data"
    }
   ],
   "source": [
    "sns.barplot(data = num_pitches.reset_index(), x = 'index', y = 'number_of_pitches', color = 'red')\n",
    "plt.xticks(rotation = 90)\n",
    "sns.despine()\n",
    "plt.xlabel('')\n",
    "plt.ylabel('number of pitches')"
   ]
  },
  {
   "cell_type": "markdown",
   "metadata": {},
   "source": [
    "# statistics"
   ]
  },
  {
   "cell_type": "markdown",
   "metadata": {},
   "source": [
    "## is there a significant difference between lof and wt?"
   ]
  },
  {
   "cell_type": "code",
   "execution_count": 58,
   "metadata": {
    "collapsed": true
   },
   "outputs": [],
   "source": [
    "wt = joined.query('TP53_MUTCALL_FINE == \"wt\"').log2_tpm.tolist()\n",
    "lof = joined.query('TP53_MUTCALL_FINE == \"lof\"').log2_tpm.tolist()"
   ]
  },
  {
   "cell_type": "code",
   "execution_count": 61,
   "metadata": {
    "collapsed": true
   },
   "outputs": [],
   "source": [
    "t,p = ttest_ind(wt, lof)"
   ]
  },
  {
   "cell_type": "code",
   "execution_count": 63,
   "metadata": {
    "collapsed": false
   },
   "outputs": [
    {
     "name": "stdout",
     "output_type": "stream",
     "text": [
      "pval: 2.02330897439995e-178, t: 30.290231327742212\n"
     ]
    }
   ],
   "source": [
    "print(\"pval: {p}, t: {t}\".format(p=p, t=t))"
   ]
  }
 ],
 "metadata": {
  "kernelspec": {
   "display_name": "Python 3",
   "language": "python",
   "name": "python3"
  },
  "language_info": {
   "codemirror_mode": {
    "name": "ipython",
    "version": 3
   },
   "file_extension": ".py",
   "mimetype": "text/x-python",
   "name": "python",
   "nbconvert_exporter": "python",
   "pygments_lexer": "ipython3",
   "version": "3.6.0"
  }
 },
 "nbformat": 4,
 "nbformat_minor": 2
}
