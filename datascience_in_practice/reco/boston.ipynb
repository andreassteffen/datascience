{
 "cells": [
  {
   "cell_type": "markdown",
   "metadata": {
    "slideshow": {
     "slide_type": "skip"
    }
   },
   "source": [
    "```\n",
    "pip install RISE\n",
    "jupyter-nbextension install rise --py --sys-prefix\n",
    "jupyter-nbextension enable rise --py --sys-prefix\n",
    "```\n"
   ]
  },
  {
   "cell_type": "code",
   "execution_count": 359,
   "metadata": {
    "collapsed": true,
    "slideshow": {
     "slide_type": "skip"
    }
   },
   "outputs": [],
   "source": [
    "# Add all necessary imports here\n",
    "import matplotlib.pyplot as plt\n",
    "%matplotlib inline\n",
    "plt.style.reload_library()\n",
    "plt.style.use(\"ggplot\")\n",
    "\n",
    "class display2(object):\n",
    "    \"\"\"Display HTML representation of multiple objects\"\"\"\n",
    "    template = \"\"\"<div style=\"float: left; padding: 10px;\">\n",
    "    <p style='font-family:\"Courier New\", Courier, monospace'>{1}\n",
    "    </div>\"\"\"\n",
    "    def __init__(self, *args):\n",
    "        self.args = args\n",
    "\n",
    "    def _repr_html_(self):\n",
    "        return ''.join(self.template.format(a, eval(a)._repr_html_())\n",
    "                     for a in self.args)\n",
    "\n",
    "    def __repr__(self):\n",
    "        return ''.join(a + '' + repr(eval(a))\n",
    "                       for a in self.args)"
   ]
  },
  {
   "cell_type": "code",
   "execution_count": 360,
   "metadata": {
    "slideshow": {
     "slide_type": "skip"
    }
   },
   "outputs": [
    {
     "data": {
      "text/html": [
       "<style>\n",
       "\n",
       "body {\n",
       "  background: url(img/logo_medium-pad.png)\n",
       "  no-repeat\n",
       "  top right;\n",
       "    padding: 10px;\n",
       "#padding: 10px 10px 0px 0px;\n",
       "  padding-right: 10px;\n",
       "  padding-top: 10px;\n",
       "}\n",
       "\n",
       "table.dataframe {\n",
       "font-size:150%;\n",
       "}\n",
       "\n",
       ".column-left{\n",
       "  float: left;\n",
       "  width: 45%;\n",
       "  text-align: left;\n",
       "  image-align:middle;  \n",
       "}\n",
       ".column-left_large{\n",
       "  float: left;\n",
       "  width: 52%;\n",
       "  text-align: left;\n",
       "  image-align:middle;  \n",
       "}\n",
       ".column-right{\n",
       "  float: right;\n",
       "  width: 45%;\n",
       "  text-align: left;\n",
       "}\n",
       "\n",
       "</style>"
      ],
      "text/plain": [
       "<IPython.core.display.HTML object>"
      ]
     },
     "metadata": {},
     "output_type": "display_data"
    }
   ],
   "source": [
    "%%html\n",
    "<style>\n",
    "\n",
    "body {\n",
    "  background: url(img/logo_medium-pad.png)\n",
    "  no-repeat\n",
    "  top right;\n",
    "    padding: 10px;\n",
    "#padding: 10px 10px 0px 0px;\n",
    "  padding-right: 10px;\n",
    "  padding-top: 10px;\n",
    "}\n",
    "\n",
    "table.dataframe {\n",
    "font-size:150%;\n",
    "}\n",
    "\n",
    ".column-left{\n",
    "  float: left;\n",
    "  width: 45%;\n",
    "  text-align: left;\n",
    "  image-align:middle;  \n",
    "}\n",
    ".column-left_large{\n",
    "  float: left;\n",
    "  width: 52%;\n",
    "  text-align: left;\n",
    "  image-align:middle;  \n",
    "}\n",
    ".column-right{\n",
    "  float: right;\n",
    "  width: 45%;\n",
    "  text-align: left;\n",
    "}\n",
    "\n",
    "</style>"
   ]
  },
  {
   "cell_type": "markdown",
   "metadata": {
    "slideshow": {
     "slide_type": "slide"
    }
   },
   "source": [
    "\n",
    "\n",
    "\n",
    "\n",
    "<div class=\"intro-body\">\n",
    "<p>&nbsp;</p>\n",
    "<p>&nbsp;</p>\n",
    "<div class=\"intro_h1\"><h1>Exercise: Building Recommender Systems</h1></div>\n",
    "<p>&nbsp;</p>\n",
    "<h3>The Boston Immersion Program</h3>\n",
    "<p><strong><span class=\"a\">Djork-Arné Clevert</span></strong><span class=\"b\"> [Okko]</span></p>\n",
    "<p><span class=\"b\">Boston, November 2017</span></p>\n",
    "<p>&nbsp;</p>\n",
    "</div>"
   ]
  },
  {
   "cell_type": "markdown",
   "metadata": {
    "slideshow": {
     "slide_type": "slide"
    }
   },
   "source": [
    "# A typical business problem"
   ]
  },
  {
   "cell_type": "markdown",
   "metadata": {
    "slideshow": {
     "slide_type": "fragment"
    }
   },
   "source": [
    "Consider a scenario of an online fashion retailer which sells hundred thousands of different articles."
   ]
  },
  {
   "cell_type": "markdown",
   "metadata": {
    "slideshow": {
     "slide_type": "fragment"
    }
   },
   "source": [
    "With growing number of customers every day, the task in hand is to showcase the best choices of article to the users... "
   ]
  },
  {
   "cell_type": "markdown",
   "metadata": {
    "slideshow": {
     "slide_type": "fragment"
    }
   },
   "source": [
    "...according to users individual needs and preferences."
   ]
  },
  {
   "cell_type": "markdown",
   "metadata": {
    "slideshow": {
     "slide_type": "subslide"
    }
   },
   "source": [
    "# Understand how recommendation works"
   ]
  },
  {
   "cell_type": "markdown",
   "metadata": {
    "slideshow": {
     "slide_type": "fragment"
    }
   },
   "source": [
    "To understand how a recommendation engine works, let’s assume five products {P1,P2,...,P5} with two major features “fabric (scratchy|soft), pattern (patterned|patternless)”. The five products have following properties:"
   ]
  },
  {
   "cell_type": "markdown",
   "metadata": {
    "slideshow": {
     "slide_type": "fragment"
    }
   },
   "source": [
    "- P1 has a super cool pattern but sctrachy fabric\n",
    "- P2 has a flashy pattern but soft fabric\n",
    "- P3 has a pronounced pattern but rough fabric\n",
    "- P4 have subtly pattern but very soft fabric\n",
    "- P5 have poor pattern but super soft fabric"
   ]
  },
  {
   "cell_type": "markdown",
   "metadata": {
    "slideshow": {
     "slide_type": "subslide"
    }
   },
   "source": [
    "Using these characteristics, we can create an **Item – Feature Matrix**. Value in the cell represents the rating of the product feature ranging from zero to one."
   ]
  },
  {
   "cell_type": "code",
   "execution_count": 376,
   "metadata": {
    "slideshow": {
     "slide_type": "fragment"
    }
   },
   "outputs": [
    {
     "data": {
      "text/html": [
       "<div>\n",
       "<style>\n",
       "    .dataframe thead tr:only-child th {\n",
       "        text-align: right;\n",
       "    }\n",
       "\n",
       "    .dataframe thead th {\n",
       "        text-align: left;\n",
       "    }\n",
       "\n",
       "    .dataframe tbody tr th {\n",
       "        vertical-align: top;\n",
       "    }\n",
       "</style>\n",
       "<table border=\"1\" class=\"dataframe\">\n",
       "  <thead>\n",
       "    <tr style=\"text-align: right;\">\n",
       "      <th></th>\n",
       "      <th>P1</th>\n",
       "      <th>P2</th>\n",
       "      <th>P3</th>\n",
       "      <th>P4</th>\n",
       "      <th>P5</th>\n",
       "    </tr>\n",
       "  </thead>\n",
       "  <tbody>\n",
       "    <tr>\n",
       "      <th>Pattern</th>\n",
       "      <td>0.9</td>\n",
       "      <td>0.6</td>\n",
       "      <td>0.55</td>\n",
       "      <td>0.4</td>\n",
       "      <td>0.1</td>\n",
       "    </tr>\n",
       "    <tr>\n",
       "      <th>Fabric</th>\n",
       "      <td>0.1</td>\n",
       "      <td>0.6</td>\n",
       "      <td>0.45</td>\n",
       "      <td>0.8</td>\n",
       "      <td>0.9</td>\n",
       "    </tr>\n",
       "  </tbody>\n",
       "</table>\n",
       "</div>"
      ],
      "text/plain": [
       "          P1   P2    P3   P4   P5\n",
       "Pattern  0.9  0.6  0.55  0.4  0.1\n",
       "Fabric   0.1  0.6  0.45  0.8  0.9"
      ]
     },
     "execution_count": 376,
     "metadata": {},
     "output_type": "execute_result"
    }
   ],
   "source": [
    "import pandas as pd\n",
    "P = pd.read_excel(\"data/feature.xlsx\", header=0, index_col=0)\n",
    "P"
   ]
  },
  {
   "cell_type": "markdown",
   "metadata": {
    "slideshow": {
     "slide_type": "subslide"
    }
   },
   "source": [
    "Our test data set also consist of four active users, namley Alon, Andreas, Eren and Okko with their preferences.\n",
    "Using their interests, we can create a **User – Feature Matrix** as follows:"
   ]
  },
  {
   "cell_type": "markdown",
   "metadata": {
    "slideshow": {
     "slide_type": "fragment"
    }
   },
   "source": [
    "- Alon: prefers subtle patterns and fabric should be soft.\n",
    "- Andreas: likes pronounced patterns and fabric is not so important.\n",
    "- Eren: prefers super soft fabric and faint patters.\n",
    "- Okko: only pattern is important, fabric doesn't matter."
   ]
  },
  {
   "cell_type": "markdown",
   "metadata": {
    "slideshow": {
     "slide_type": "subslide"
    }
   },
   "source": [
    "Using their interests, we can create a **User – Feature Matrix** as follows:"
   ]
  },
  {
   "cell_type": "code",
   "execution_count": 362,
   "metadata": {
    "slideshow": {
     "slide_type": "fragment"
    }
   },
   "outputs": [
    {
     "data": {
      "text/html": [
       "<div>\n",
       "<style>\n",
       "    .dataframe thead tr:only-child th {\n",
       "        text-align: right;\n",
       "    }\n",
       "\n",
       "    .dataframe thead th {\n",
       "        text-align: left;\n",
       "    }\n",
       "\n",
       "    .dataframe tbody tr th {\n",
       "        vertical-align: top;\n",
       "    }\n",
       "</style>\n",
       "<table border=\"1\" class=\"dataframe\">\n",
       "  <thead>\n",
       "    <tr style=\"text-align: right;\">\n",
       "      <th></th>\n",
       "      <th>Pattern</th>\n",
       "      <th>Fabric</th>\n",
       "    </tr>\n",
       "  </thead>\n",
       "  <tbody>\n",
       "    <tr>\n",
       "      <th>Alon</th>\n",
       "      <td>0.30</td>\n",
       "      <td>0.70</td>\n",
       "    </tr>\n",
       "    <tr>\n",
       "      <th>Andreas</th>\n",
       "      <td>0.55</td>\n",
       "      <td>0.45</td>\n",
       "    </tr>\n",
       "    <tr>\n",
       "      <th>Eren</th>\n",
       "      <td>0.05</td>\n",
       "      <td>0.95</td>\n",
       "    </tr>\n",
       "    <tr>\n",
       "      <th>Okko</th>\n",
       "      <td>1.00</td>\n",
       "      <td>0.00</td>\n",
       "    </tr>\n",
       "  </tbody>\n",
       "</table>\n",
       "</div>"
      ],
      "text/plain": [
       "         Pattern  Fabric\n",
       "Alon        0.30    0.70\n",
       "Andreas     0.55    0.45\n",
       "Eren        0.05    0.95\n",
       "Okko        1.00    0.00"
      ]
     },
     "execution_count": 362,
     "metadata": {},
     "output_type": "execute_result"
    }
   ],
   "source": [
    "U = pd.read_excel(\"data/user.xlsx\", header=0, index_col=[0])\n",
    "U"
   ]
  },
  {
   "cell_type": "markdown",
   "metadata": {
    "slideshow": {
     "slide_type": "subslide"
    }
   },
   "source": [
    "# Content Based Recommendations\n",
    "Now having two matrices, **Item – Feature (P)** and **User – Feature (U)**. "
   ]
  },
  {
   "cell_type": "code",
   "execution_count": 363,
   "metadata": {
    "slideshow": {
     "slide_type": "fragment"
    }
   },
   "outputs": [
    {
     "data": {
      "text/html": [
       "<div style=\"float: left; padding: 10px;\">\n",
       "    <p style='font-family:\"Courier New\", Courier, monospace'><div>\n",
       "<style>\n",
       "    .dataframe thead tr:only-child th {\n",
       "        text-align: right;\n",
       "    }\n",
       "\n",
       "    .dataframe thead th {\n",
       "        text-align: left;\n",
       "    }\n",
       "\n",
       "    .dataframe tbody tr th {\n",
       "        vertical-align: top;\n",
       "    }\n",
       "</style>\n",
       "<table border=\"1\" class=\"dataframe\">\n",
       "  <thead>\n",
       "    <tr style=\"text-align: right;\">\n",
       "      <th></th>\n",
       "      <th>Pattern</th>\n",
       "      <th>Fabric</th>\n",
       "    </tr>\n",
       "  </thead>\n",
       "  <tbody>\n",
       "    <tr>\n",
       "      <th>Alon</th>\n",
       "      <td>0.30</td>\n",
       "      <td>0.70</td>\n",
       "    </tr>\n",
       "    <tr>\n",
       "      <th>Andreas</th>\n",
       "      <td>0.55</td>\n",
       "      <td>0.45</td>\n",
       "    </tr>\n",
       "    <tr>\n",
       "      <th>Eren</th>\n",
       "      <td>0.05</td>\n",
       "      <td>0.95</td>\n",
       "    </tr>\n",
       "    <tr>\n",
       "      <th>Okko</th>\n",
       "      <td>1.00</td>\n",
       "      <td>0.00</td>\n",
       "    </tr>\n",
       "  </tbody>\n",
       "</table>\n",
       "</div>\n",
       "    </div><div style=\"float: left; padding: 10px;\">\n",
       "    <p style='font-family:\"Courier New\", Courier, monospace'><div>\n",
       "<style>\n",
       "    .dataframe thead tr:only-child th {\n",
       "        text-align: right;\n",
       "    }\n",
       "\n",
       "    .dataframe thead th {\n",
       "        text-align: left;\n",
       "    }\n",
       "\n",
       "    .dataframe tbody tr th {\n",
       "        vertical-align: top;\n",
       "    }\n",
       "</style>\n",
       "<table border=\"1\" class=\"dataframe\">\n",
       "  <thead>\n",
       "    <tr style=\"text-align: right;\">\n",
       "      <th></th>\n",
       "      <th>P1</th>\n",
       "      <th>P2</th>\n",
       "      <th>P3</th>\n",
       "      <th>P4</th>\n",
       "      <th>P5</th>\n",
       "    </tr>\n",
       "  </thead>\n",
       "  <tbody>\n",
       "    <tr>\n",
       "      <th>Pattern</th>\n",
       "      <td>0.9</td>\n",
       "      <td>0.6</td>\n",
       "      <td>0.55</td>\n",
       "      <td>0.4</td>\n",
       "      <td>0.1</td>\n",
       "    </tr>\n",
       "    <tr>\n",
       "      <th>Fabric</th>\n",
       "      <td>0.1</td>\n",
       "      <td>0.6</td>\n",
       "      <td>0.45</td>\n",
       "      <td>0.8</td>\n",
       "      <td>0.9</td>\n",
       "    </tr>\n",
       "  </tbody>\n",
       "</table>\n",
       "</div>\n",
       "    </div>"
      ],
      "text/plain": [
       "U         Pattern  Fabric\n",
       "Alon        0.30    0.70\n",
       "Andreas     0.55    0.45\n",
       "Eren        0.05    0.95\n",
       "Okko        1.00    0.00P          P1   P2    P3   P4   P5\n",
       "Pattern  0.9  0.6  0.55  0.4  0.1\n",
       "Fabric   0.1  0.6  0.45  0.8  0.9"
      ]
     },
     "execution_count": 363,
     "metadata": {},
     "output_type": "execute_result"
    }
   ],
   "source": [
    "display2(\"U\",\"P\")"
   ]
  },
  {
   "cell_type": "markdown",
   "metadata": {
    "slideshow": {
     "slide_type": "fragment"
    }
   },
   "source": [
    "Considering both matrices, we now calcluate a recommendation score for Alon as the weighted sum of the product features and Alon's preferences as:\n",
    "$$SCORE_{Alon}^{P1} =\\sum{U_{Alon}*P_{P1}}= [0.30 ~~ 0.70] * [0.9 ~~~ 0.1]^T = 0.34 $$"
   ]
  },
  {
   "cell_type": "markdown",
   "metadata": {
    "slideshow": {
     "slide_type": "subslide"
    }
   },
   "source": [
    "\n",
    "\n",
    "For **Content based systems**, recommendation is based on a weighted sum between the <br> items feature and user’s preference profile. The feature of items are mapped with <br> feature of users in order to obtain user – item score. "
   ]
  },
  {
   "cell_type": "code",
   "execution_count": 364,
   "metadata": {
    "slideshow": {
     "slide_type": "fragment"
    }
   },
   "outputs": [
    {
     "data": {
      "text/html": [
       "<div>\n",
       "<style>\n",
       "    .dataframe thead tr:only-child th {\n",
       "        text-align: right;\n",
       "    }\n",
       "\n",
       "    .dataframe thead th {\n",
       "        text-align: left;\n",
       "    }\n",
       "\n",
       "    .dataframe tbody tr th {\n",
       "        vertical-align: top;\n",
       "    }\n",
       "</style>\n",
       "<table border=\"1\" class=\"dataframe\">\n",
       "  <thead>\n",
       "    <tr style=\"text-align: right;\">\n",
       "      <th></th>\n",
       "      <th>P1</th>\n",
       "      <th>P2</th>\n",
       "      <th>P3</th>\n",
       "      <th>P4</th>\n",
       "      <th>P5</th>\n",
       "    </tr>\n",
       "  </thead>\n",
       "  <tbody>\n",
       "    <tr>\n",
       "      <th>Alon</th>\n",
       "      <td>0.34</td>\n",
       "      <td>0.6</td>\n",
       "      <td>0.480</td>\n",
       "      <td>0.68</td>\n",
       "      <td>0.66</td>\n",
       "    </tr>\n",
       "    <tr>\n",
       "      <th>Andreas</th>\n",
       "      <td>0.54</td>\n",
       "      <td>0.6</td>\n",
       "      <td>0.505</td>\n",
       "      <td>0.58</td>\n",
       "      <td>0.46</td>\n",
       "    </tr>\n",
       "    <tr>\n",
       "      <th>Eren</th>\n",
       "      <td>0.14</td>\n",
       "      <td>0.6</td>\n",
       "      <td>0.455</td>\n",
       "      <td>0.78</td>\n",
       "      <td>0.86</td>\n",
       "    </tr>\n",
       "    <tr>\n",
       "      <th>Okko</th>\n",
       "      <td>0.90</td>\n",
       "      <td>0.6</td>\n",
       "      <td>0.550</td>\n",
       "      <td>0.40</td>\n",
       "      <td>0.10</td>\n",
       "    </tr>\n",
       "  </tbody>\n",
       "</table>\n",
       "</div>"
      ],
      "text/plain": [
       "           P1   P2     P3    P4    P5\n",
       "Alon     0.34  0.6  0.480  0.68  0.66\n",
       "Andreas  0.54  0.6  0.505  0.58  0.46\n",
       "Eren     0.14  0.6  0.455  0.78  0.86\n",
       "Okko     0.90  0.6  0.550  0.40  0.10"
      ]
     },
     "execution_count": 364,
     "metadata": {},
     "output_type": "execute_result"
    }
   ],
   "source": [
    "SCORE = U.dot(P)\n",
    "SCORE"
   ]
  },
  {
   "cell_type": "markdown",
   "metadata": {
    "slideshow": {
     "slide_type": "subslide"
    }
   },
   "source": [
    "The top matched pairs are given as recommendations, as demonstrated below:"
   ]
  },
  {
   "cell_type": "code",
   "execution_count": 365,
   "metadata": {
    "slideshow": {
     "slide_type": "fragment"
    }
   },
   "outputs": [
    {
     "data": {
      "text/plain": [
       "Alon       P4\n",
       "Andreas    P2\n",
       "Eren       P5\n",
       "Okko       P1\n",
       "dtype: object"
      ]
     },
     "execution_count": 365,
     "metadata": {},
     "output_type": "execute_result"
    }
   ],
   "source": [
    "SCORE.idxmax(axis=1)"
   ]
  },
  {
   "cell_type": "markdown",
   "metadata": {
    "slideshow": {
     "slide_type": "fragment"
    }
   },
   "source": [
    "- **Alon** prefers subtle patterns and fabric should be soft -->  reco:  **P4** have subtly pattern but very soft fabric\n",
    "- **Andreas** likes pronounced patterns and fabric is not so important --> his reco: **P2** has a flashy pattern but soft fabric \n",
    "- **Eren** prefers super soft fabric over flashy patters --> his reco: **P5** have faint pattern but super soft fabric\n",
    "- For **Okko** only pattern is important, fabric doesn't matter --> his reco: **P1** has a super cool pattern but sctrachy fabric"
   ]
  },
  {
   "cell_type": "markdown",
   "metadata": {
    "slideshow": {
     "slide_type": "subslide"
    }
   },
   "source": [
    "**Exercise: **\n",
    "Alon has changed his preferences, instead of subtle patterns and soft fabric, he is now interested in distinct patterns and very soft fabric. \n",
    "Adjust the User-Feature (U) matrix accordingly and recommend a product to Alon.<br>\n",
    "Helpful hints:\n",
    "```python\n",
    "U.columns  ## list column names\n",
    "U.Pattern.Eren ## accessor for column 'Pattern' and row 'Eren'\n",
    "U.loc['Eren'] ## accessor for all elements in row 'Eren'\n",
    "U.dot(P) ## weighted products by user preferences \n",
    "U.idxmax(axis = 0) ## column (axis=0) or row (axis=1) maximum   \n",
    "```"
   ]
  },
  {
   "cell_type": "markdown",
   "metadata": {
    "slideshow": {
     "slide_type": "subslide"
    }
   },
   "source": [
    "# Solution\n",
    "```\n",
    "U.Pattern.Alon = 0.7\n",
    "U.Fabric.Alon = 0.6\n",
    "U.loc['Alon'].dot(P).idxmax()\n",
    "```"
   ]
  },
  {
   "cell_type": "code",
   "execution_count": 374,
   "metadata": {
    "slideshow": {
     "slide_type": "fragment"
    }
   },
   "outputs": [
    {
     "data": {
      "text/plain": [
       "u'P2'"
      ]
     },
     "execution_count": 374,
     "metadata": {},
     "output_type": "execute_result"
    }
   ],
   "source": [
    "U.Pattern.Alon = 0.7\n",
    "U.Fabric.Alon = 0.6\n",
    "U.loc['Alon'].dot(P).idxmax()"
   ]
  },
  {
   "cell_type": "markdown",
   "metadata": {
    "slideshow": {
     "slide_type": "slide"
    }
   },
   "source": [
    "# Collaborative Filtering\n",
    "Content-based recommendation **lacks in detecting inter dependencies** or complex behaviors. \n",
    "\n",
    "**For example**: Some fashion victoms might only like cool patterns, if and only if they belong to a particular brand, otherwise not."
   ]
  },
  {
   "cell_type": "markdown",
   "metadata": {
    "slideshow": {
     "slide_type": "fragment"
    }
   },
   "source": [
    "- Collaborative Filtering algorithms take **user behaviour** for recommendation into account. Such systems exploit behaviour of other users and items in terms of transaction histories, ratings, selection and purchase information. \n"
   ]
  },
  {
   "cell_type": "markdown",
   "metadata": {
    "slideshow": {
     "slide_type": "fragment"
    }
   },
   "source": [
    "- Other users behaviour and preferences over the items are used to recommend items to the new users. "
   ]
  },
  {
   "cell_type": "markdown",
   "metadata": {
    "slideshow": {
     "slide_type": "subslide"
    }
   },
   "source": [
    "This time we **don’t know features of the items** but we have user  behaviour - we know,<br>  i.e., how our users brought/rated/visited the existing items.\n",
    "\n",
    "**User- Behaviour Matrix**"
   ]
  },
  {
   "cell_type": "code",
   "execution_count": 366,
   "metadata": {
    "slideshow": {
     "slide_type": "fragment"
    }
   },
   "outputs": [
    {
     "data": {
      "text/html": [
       "<div style=\"float: left; padding: 10px;\">\n",
       "    <p style='font-family:\"Courier New\", Courier, monospace'><div>\n",
       "<style>\n",
       "    .dataframe thead tr:only-child th {\n",
       "        text-align: right;\n",
       "    }\n",
       "\n",
       "    .dataframe thead th {\n",
       "        text-align: left;\n",
       "    }\n",
       "\n",
       "    .dataframe tbody tr th {\n",
       "        vertical-align: top;\n",
       "    }\n",
       "</style>\n",
       "<table border=\"1\" class=\"dataframe\">\n",
       "  <thead>\n",
       "    <tr style=\"text-align: right;\">\n",
       "      <th></th>\n",
       "      <th>Alon</th>\n",
       "      <th>Andreas</th>\n",
       "      <th>Eren</th>\n",
       "      <th>Okko</th>\n",
       "    </tr>\n",
       "  </thead>\n",
       "  <tbody>\n",
       "    <tr>\n",
       "      <th>P1</th>\n",
       "      <td>0.5</td>\n",
       "      <td>NaN</td>\n",
       "      <td>NaN</td>\n",
       "      <td>4.0</td>\n",
       "    </tr>\n",
       "    <tr>\n",
       "      <th>P2</th>\n",
       "      <td>1.0</td>\n",
       "      <td>NaN</td>\n",
       "      <td>1.0</td>\n",
       "      <td>NaN</td>\n",
       "    </tr>\n",
       "    <tr>\n",
       "      <th>P3</th>\n",
       "      <td>NaN</td>\n",
       "      <td>3.0</td>\n",
       "      <td>1.0</td>\n",
       "      <td>3.0</td>\n",
       "    </tr>\n",
       "    <tr>\n",
       "      <th>P4</th>\n",
       "      <td>NaN</td>\n",
       "      <td>NaN</td>\n",
       "      <td>4.0</td>\n",
       "      <td>NaN</td>\n",
       "    </tr>\n",
       "    <tr>\n",
       "      <th>P5</th>\n",
       "      <td>5.0</td>\n",
       "      <td>2.0</td>\n",
       "      <td>4.0</td>\n",
       "      <td>NaN</td>\n",
       "    </tr>\n",
       "  </tbody>\n",
       "</table>\n",
       "</div>\n",
       "    </div><div style=\"float: left; padding: 10px;\">\n",
       "    <p style='font-family:\"Courier New\", Courier, monospace'><div>\n",
       "<style>\n",
       "    .dataframe thead tr:only-child th {\n",
       "        text-align: right;\n",
       "    }\n",
       "\n",
       "    .dataframe thead th {\n",
       "        text-align: left;\n",
       "    }\n",
       "\n",
       "    .dataframe tbody tr th {\n",
       "        vertical-align: top;\n",
       "    }\n",
       "</style>\n",
       "<table border=\"1\" class=\"dataframe\">\n",
       "  <thead>\n",
       "    <tr style=\"text-align: right;\">\n",
       "      <th></th>\n",
       "      <th>Alon</th>\n",
       "      <th>Andreas</th>\n",
       "      <th>Eren</th>\n",
       "      <th>Okko</th>\n",
       "    </tr>\n",
       "  </thead>\n",
       "  <tbody>\n",
       "    <tr>\n",
       "      <th>P1</th>\n",
       "      <td>0.5</td>\n",
       "      <td>0.0</td>\n",
       "      <td>0.0</td>\n",
       "      <td>4.0</td>\n",
       "    </tr>\n",
       "    <tr>\n",
       "      <th>P2</th>\n",
       "      <td>1.0</td>\n",
       "      <td>0.0</td>\n",
       "      <td>1.0</td>\n",
       "      <td>0.0</td>\n",
       "    </tr>\n",
       "    <tr>\n",
       "      <th>P3</th>\n",
       "      <td>0.0</td>\n",
       "      <td>3.0</td>\n",
       "      <td>1.0</td>\n",
       "      <td>3.0</td>\n",
       "    </tr>\n",
       "    <tr>\n",
       "      <th>P4</th>\n",
       "      <td>0.0</td>\n",
       "      <td>0.0</td>\n",
       "      <td>4.0</td>\n",
       "      <td>0.0</td>\n",
       "    </tr>\n",
       "    <tr>\n",
       "      <th>P5</th>\n",
       "      <td>5.0</td>\n",
       "      <td>2.0</td>\n",
       "      <td>4.0</td>\n",
       "      <td>0.0</td>\n",
       "    </tr>\n",
       "  </tbody>\n",
       "</table>\n",
       "</div>\n",
       "    </div>"
      ],
      "text/plain": [
       "B    Alon  Andreas  Eren  Okko\n",
       "P1   0.5      NaN   NaN   4.0\n",
       "P2   1.0      NaN   1.0   NaN\n",
       "P3   NaN      3.0   1.0   3.0\n",
       "P4   NaN      NaN   4.0   NaN\n",
       "P5   5.0      2.0   4.0   NaNB_filled    Alon  Andreas  Eren  Okko\n",
       "P1   0.5      0.0   0.0   4.0\n",
       "P2   1.0      0.0   1.0   0.0\n",
       "P3   0.0      3.0   1.0   3.0\n",
       "P4   0.0      0.0   4.0   0.0\n",
       "P5   5.0      2.0   4.0   0.0"
      ]
     },
     "execution_count": 366,
     "metadata": {},
     "output_type": "execute_result"
    }
   ],
   "source": [
    "B = pd.read_excel(\"data/behaviour.xlsx\", header=0, index_col=[0],dtype=float())\n",
    "B_filled = B.fillna(0.0)\n",
    "display2(\"B\",\"B_filled\")"
   ]
  },
  {
   "cell_type": "markdown",
   "metadata": {
    "slideshow": {
     "slide_type": "subslide"
    }
   },
   "source": [
    "# Item-based collaborative filtering\n",
    "Item-based collaborative filtering is a model-based algorithm for making recommendations, by exploiting the similarities between different items in the dataset. \n",
    "Similarity values are used to predict ratings for user-item pairs not present in the dataset.\n",
    "\n",
    "\n",
    "<div class=\"column-left\">\n",
    "<div style=\"text-align:center\"><img src=\"img/itembased.png\" alt=\"item-based\" style=\"width: 800px;\"class=\"center\" /></div>\n",
    "</div>\n",
    "<div class=\"column-center\">\n",
    "</div>\n",
    "<div class=\"column-right\"><span class=\"b\">\n",
    "<br>\n",
    "<br>\n",
    "The similarity values between items are measured by observing all the users who have rated both the items. As shown in the diagram left, the similarity between two items is dependent upon the ratings given to the items by users who have rated both of them. \n",
    "</span>\n",
    "</div>\n",
    "\n",
    "\n",
    "\n"
   ]
  },
  {
   "cell_type": "markdown",
   "metadata": {
    "slideshow": {
     "slide_type": "subslide"
    }
   },
   "source": [
    "# Understanding the concepts of similarity between products \n"
   ]
  },
  {
   "cell_type": "markdown",
   "metadata": {
    "slideshow": {
     "slide_type": "fragment"
    }
   },
   "source": [
    "- In the next section we will explain the most popular similarity meassures, such as intersection, cosine, Pearson, Jaccard (Tanimoto) and compare them on four different use cases (UCs)."
   ]
  },
  {
   "cell_type": "markdown",
   "metadata": {
    "slideshow": {
     "slide_type": "fragment"
    }
   },
   "source": [
    "- When two customers rate two products exactly the same (UC1).\n",
    "- When two customers rate the same products very differently (UC2).\n",
    "- When two customers rate different products (UC3).\n",
    "- Positive people vs. negative people (UC4)."
   ]
  },
  {
   "cell_type": "markdown",
   "metadata": {
    "slideshow": {
     "slide_type": "subslide"
    }
   },
   "source": [
    "# Jaccard similarity\n",
    "\n",
    "<div class=\"column-left_large\">\n",
    "<br>\n",
    "<br>\n",
    "<img src=\"img/jaccard.svg\" align=\"center\" alt=\"jaccard\" style=\"width:700px;\"/></div>\n",
    "</div>\n",
    "<div class=\"column-right\"><span class=\"b\">\n",
    "<br>\n",
    "<ul>\n",
    "   <li>Similarity score ranges from 0 to 1</li>\n",
    "   <li>1 means two products are rated exactly the same</li>\n",
    "   <li>0 means two products have nothing in common</li>\n",
    "</ul>\n",
    "</span>\n",
    "</div>"
   ]
  },
  {
   "cell_type": "markdown",
   "metadata": {
    "slideshow": {
     "slide_type": "subslide"
    }
   },
   "source": [
    "# Cosine similarity\n",
    "\n",
    "\n",
    "\n",
    "<div class=\"column-left_large\">\n",
    "<br>\n",
    "<br>\n",
    "<img src=\"img/cosine.svg\" align=\"center\" alt=\"cosine\" style=\"width:700px;\"/></div>\n",
    "</div>\n",
    "<div class=\"column-right\"><span class=\"b\">\n",
    "<br>\n",
    "<ul>\n",
    "   <li>Similarity based on the angle between two vectors</li>\n",
    "   <li>Similarity score ranges from −1 to 1</li>\n",
    "   <li>1 means two products are rated exactly the same</li>\n",
    "   <li>-1 means two products are rated exactly opposite</li>\n",
    "   <li>0 is indicating orthogonality (decorrelation)</li>\n",
    "</ul>\n",
    "</span>\n",
    "</div>\n"
   ]
  },
  {
   "cell_type": "markdown",
   "metadata": {
    "slideshow": {
     "slide_type": "subslide"
    }
   },
   "source": [
    "# Pearson similarity or correlation\n",
    "\n",
    "\n",
    "\n",
    "\n",
    "<div class=\"column-left_large\">\n",
    "<br>\n",
    "<br>\n",
    "<img src=\"img/pearson.svg\" align=\"center\" alt=\"cosine\" style=\"width:700px;\"/></div>\n",
    "</div>\n",
    "<div class=\"column-right\"><span class=\"b\">\n",
    "<br>\n",
    "<ul>\n",
    "   <li>Similarity based on the deviation from average ratings for two items</li>\n",
    "   <li>Similarity score ranges from −1 to 1</li>\n",
    "   <li>1 means two products are rated exactly the same</li>\n",
    "   <li>-1 means two products are rated exactly opposite</li>\n",
    "   <li>0 is indicating orthogonality (decorrelation)</li>\n",
    "</ul>\n",
    "</span>\n",
    "</div>\n"
   ]
  },
  {
   "cell_type": "markdown",
   "metadata": {
    "slideshow": {
     "slide_type": "subslide"
    }
   },
   "source": [
    "# Exercise\n",
    "\n",
    "Complete the following function body, so that it returns the intersection score of two ratings.\n",
    "```python\n",
    "def intersection_sim(rating1, rating2):\n",
    "    \"\"\"\n",
    "    :param rating1:\n",
    "    :param rating2:\n",
    "    :return: number of common items\n",
    "    \"\"\"\n",
    "    # remove elements which contain zero ratings\n",
    "\n",
    "    \n",
    "    # calculate the intersection \n",
    "    \n",
    "    \n",
    "    return \n",
    "\n",
    "    \n",
    "```"
   ]
  },
  {
   "cell_type": "code",
   "execution_count": null,
   "metadata": {
    "collapsed": true,
    "slideshow": {
     "slide_type": "subslide"
    }
   },
   "outputs": [],
   "source": []
  },
  {
   "cell_type": "markdown",
   "metadata": {
    "slideshow": {
     "slide_type": "subslide"
    }
   },
   "source": [
    "# Solution\n",
    "\n",
    "\n",
    "\n",
    "```python\n",
    "def intersection_sim(rating1, rating2):\n",
    "    \"\"\"\n",
    "    :param rating1:\n",
    "    :param rating2:\n",
    "    :return: number of common items\n",
    "    \"\"\"\n",
    "    # remove zero ratings\n",
    "    rating1 = rating1.loc[rating1 != 0]\n",
    "    rating2 = rating2.loc[rating2 != 0]\n",
    "    return len(rating1.index.intersection(rating2.index))\n",
    "    \n",
    "```\n",
    "\n",
    "\n"
   ]
  },
  {
   "cell_type": "code",
   "execution_count": null,
   "metadata": {
    "collapsed": true,
    "slideshow": {
     "slide_type": "fragment"
    }
   },
   "outputs": [],
   "source": []
  },
  {
   "cell_type": "code",
   "execution_count": 375,
   "metadata": {
    "slideshow": {
     "slide_type": "subslide"
    }
   },
   "outputs": [
    {
     "name": "stdout",
     "output_type": "stream",
     "text": [
      "5\n",
      "2\n",
      "2\n",
      "0.471404520791\n",
      "-0.60858061945\n"
     ]
    }
   ],
   "source": [
    "import numpy as np\n",
    "\n",
    "def cosine_sim(rating1, rating2):\n",
    "    \"\"\"\n",
    "    :param rating1:\n",
    "    :param rating2:\n",
    "    :return: cosine similarity\n",
    "    \"\"\"\n",
    "    return sum(rating1*rating2)/(pow(sum(pow(rating1,2)),0.5)*pow(sum(pow(rating2,2)),0.5))\n",
    "\n",
    "def pearson_sim(rating1, rating2):\n",
    "    \"\"\"\n",
    "    :param rating1:\n",
    "    :param rating2:\n",
    "    :return: cosine similarity\n",
    "    \"\"\"    \n",
    "    rating1 -= np.mean(rating1)\n",
    "    rating2 -= np.mean(rating2)\n",
    "    \n",
    "    return sum(rating1*rating2)/(pow(sum(pow(rating1,2)),0.5)*pow(sum(pow(rating2,2)),0.5))\n",
    "\n",
    "def jaccard_sim(rating1, rating2):\n",
    "    \"\"\"\n",
    "    :param rating1:\n",
    "    :param rating2:\n",
    "    :return: number of common items\n",
    "    \"\"\"\n",
    "    rating1 = rating1.loc[rating1 != 0]\n",
    "    rating2 = rating2.loc[rating2 != 0]\n",
    "    return len(rating1.index.union(rating2.index))/(len(rating1.index.intersection(rating2.index)))\n",
    "\n",
    "def intersection_sim(rating1, rating2):\n",
    "    \"\"\"\n",
    "    :param rating1:\n",
    "    :param rating2:\n",
    "    :return: number of common items\n",
    "    \"\"\"\n",
    "    # remove zero ratings\n",
    "    rating1 = rating1.loc[rating1 != 0]\n",
    "    rating2 = rating2.loc[rating2 != 0]\n",
    "    return len(rating1.index.intersection(rating2.index))\n",
    "\n",
    "def union(rating1, rating2):\n",
    "    \"\"\"\n",
    "    :param rating1:\n",
    "    :param rating2:\n",
    "    :return: number of common items\n",
    "    \"\"\"\n",
    "    # remove zero ratings\n",
    "    \n",
    "    rating1 = rating1.loc[rating1 != 0]\n",
    "    rating2 = rating2.loc[rating2 != 0]\n",
    "    return len(rating1.index.union(rating2.index))\n",
    "\n",
    "print(union(mat.loc['Eren'],mat.loc['Okko']))\n",
    "print(intersection_sim(mat.loc['Eren'],mat.loc['Okko']))\n",
    "print(jaccard_sim(mat.loc['Eren'],mat.loc['Okko']))\n",
    "print(cosine_sim(mat.loc['Eren'],mat.loc['Okko']))\n",
    "print(pearson_sim(mat.loc['Eren'],mat.loc['Okko']))"
   ]
  },
  {
   "cell_type": "code",
   "execution_count": 368,
   "metadata": {
    "collapsed": true
   },
   "outputs": [],
   "source": [
    "tmp = mat.loc['Eren']"
   ]
  },
  {
   "cell_type": "code",
   "execution_count": 369,
   "metadata": {
    "collapsed": true
   },
   "outputs": [],
   "source": [
    "def intersection_sim(rating1, rating2):\n",
    "    \"\"\"\n",
    "    :param rating1:\n",
    "    :param rating2:\n",
    "    :return: number of common items\n",
    "    \"\"\"\n",
    "    # remove zero ratings\n",
    "    rating1 = rating1.loc[rating1 != 0]\n",
    "    rating2 = rating2.loc[rating2 != 0]\n",
    "    return len(rating1.index.intersection(rating2.index))"
   ]
  },
  {
   "cell_type": "code",
   "execution_count": 370,
   "metadata": {},
   "outputs": [
    {
     "data": {
      "text/plain": [
       "2"
      ]
     },
     "execution_count": 370,
     "metadata": {},
     "output_type": "execute_result"
    }
   ],
   "source": [
    "intersection_sim(mat.loc['Eren'], mat.loc['Alon'])"
   ]
  },
  {
   "cell_type": "markdown",
   "metadata": {
    "slideshow": {
     "slide_type": "subslide"
    }
   },
   "source": [
    "# Exercise\n",
    "```\n",
    "def jaccard_sim(rating1, rating2):\n",
    "    \"\"\"\n",
    "    :param rating1:\n",
    "    :param rating2:\n",
    "    :return: number of common items\n",
    "    \"\"\"\n",
    "    # remove zero ratings\n",
    "    rating1 = rating1[rating1 != 0]\n",
    "    rating2 = rating2[rating2 != 0]\n",
    "    return len(rating1.index.union(rating2.index))/(1.0*len(rating1.index.intersection(rating2.index)))\n",
    "    \n",
    "\n",
    "def union(rating1, rating2):\n",
    "    \"\"\"\n",
    "    :param rating1:\n",
    "    :param rating2:\n",
    "    :return: number of common items\n",
    "    \"\"\"\n",
    "    # remove zero ratings\n",
    "    rating1 = rating1[rating1 != 0]\n",
    "    rating2 = rating2[rating2 != 0]\n",
    "    return len(rating1.index.union(rating2.index))\n",
    "```"
   ]
  },
  {
   "cell_type": "markdown",
   "metadata": {
    "slideshow": {
     "slide_type": "subslide"
    }
   },
   "source": [
    "# Use case 1: Two users rate two products exactly the same "
   ]
  },
  {
   "cell_type": "code",
   "execution_count": 371,
   "metadata": {
    "slideshow": {
     "slide_type": "fragment"
    }
   },
   "outputs": [
    {
     "data": {
      "text/plain": [
       "1.0000000000000002"
      ]
     },
     "execution_count": 371,
     "metadata": {},
     "output_type": "execute_result"
    }
   ],
   "source": [
    "ratings = pd.DataFrame(columns = [\"user\", \"product\", \"rating\"], \n",
    "                       data=[['Silke','P1',1],\n",
    "                           ['Silke', 'P2', 5],\n",
    "                           ['Timo','P1',1],\n",
    "                           ['Timo', 'P2', 5]])\n",
    "ratings_matrix = ratings.pivot_table(index='user', columns='product', values='rating', fill_value=0)\n",
    "\n",
    "rating_1 = ratings_matrix.loc['Silke']\n",
    "rating_2 = ratings_matrix.loc['Timo']\n",
    "\n",
    "cosine_sim(ratings_matrix.loc['Silke'],ratings_matrix.loc['Timo'])"
   ]
  },
  {
   "cell_type": "code",
   "execution_count": 372,
   "metadata": {},
   "outputs": [
    {
     "data": {
      "text/plain": [
       "array([[ 1.  ,  0.75,  0.5 ,  0.4 ],\n",
       "       [ 0.75,  1.  ,  0.75,  0.6 ],\n",
       "       [ 0.5 ,  0.75,  1.  ,  0.4 ],\n",
       "       [ 0.4 ,  0.6 ,  0.4 ,  1.  ]])"
      ]
     },
     "execution_count": 372,
     "metadata": {},
     "output_type": "execute_result"
    }
   ],
   "source": [
    "from sklearn.metrics.pairwise import pairwise_distances\n",
    "jac_sim = 1 - pairwise_distances(mat, metric = 'jaccard')\n",
    "jac_sim"
   ]
  },
  {
   "cell_type": "markdown",
   "metadata": {
    "slideshow": {
     "slide_type": "subslide"
    }
   },
   "source": [
    "# Excerise\n",
    "The data (**'data/behaviour_long.xlsx'**) is stored in a long pandas dataframe. Pivot the data to create a [user x item] matrix and fill missing values with zeros.\n",
    "Helpful hints:\n",
    "```python\n",
    "import pandas as pd ## loads pandas library for data import\n",
    "pd.read_excel(...) ## imports excel tables\n",
    "pd.pivot_table(...) ## pivots a table\n",
    "```\n"
   ]
  },
  {
   "cell_type": "markdown",
   "metadata": {
    "slideshow": {
     "slide_type": "subslide"
    }
   },
   "source": [
    "# Solution\n",
    "```\n",
    "data = pd.read_excel(\"data/behaviour_long.xlsx\", header=0, index_col=0)\n",
    "mat = data.pivot_table(index=['customer'],columns='product',values='rating', fill_value=0)\n",
    "```"
   ]
  },
  {
   "cell_type": "code",
   "execution_count": 373,
   "metadata": {},
   "outputs": [
    {
     "data": {
      "text/html": [
       "<div>\n",
       "<style>\n",
       "    .dataframe thead tr:only-child th {\n",
       "        text-align: right;\n",
       "    }\n",
       "\n",
       "    .dataframe thead th {\n",
       "        text-align: left;\n",
       "    }\n",
       "\n",
       "    .dataframe tbody tr th {\n",
       "        vertical-align: top;\n",
       "    }\n",
       "</style>\n",
       "<table border=\"1\" class=\"dataframe\">\n",
       "  <thead>\n",
       "    <tr style=\"text-align: right;\">\n",
       "      <th>product</th>\n",
       "      <th>P1</th>\n",
       "      <th>P2</th>\n",
       "      <th>P3</th>\n",
       "      <th>P4</th>\n",
       "      <th>P5</th>\n",
       "    </tr>\n",
       "    <tr>\n",
       "      <th>customer</th>\n",
       "      <th></th>\n",
       "      <th></th>\n",
       "      <th></th>\n",
       "      <th></th>\n",
       "      <th></th>\n",
       "    </tr>\n",
       "  </thead>\n",
       "  <tbody>\n",
       "    <tr>\n",
       "      <th>Alon</th>\n",
       "      <td>5</td>\n",
       "      <td>4</td>\n",
       "      <td>3</td>\n",
       "      <td>0</td>\n",
       "      <td>0</td>\n",
       "    </tr>\n",
       "    <tr>\n",
       "      <th>Andreas</th>\n",
       "      <td>3</td>\n",
       "      <td>4</td>\n",
       "      <td>5</td>\n",
       "      <td>2</td>\n",
       "      <td>0</td>\n",
       "    </tr>\n",
       "    <tr>\n",
       "      <th>Eren</th>\n",
       "      <td>0</td>\n",
       "      <td>2</td>\n",
       "      <td>4</td>\n",
       "      <td>4</td>\n",
       "      <td>0</td>\n",
       "    </tr>\n",
       "    <tr>\n",
       "      <th>Okko</th>\n",
       "      <td>3</td>\n",
       "      <td>4</td>\n",
       "      <td>0</td>\n",
       "      <td>3</td>\n",
       "      <td>4</td>\n",
       "    </tr>\n",
       "  </tbody>\n",
       "</table>\n",
       "</div>"
      ],
      "text/plain": [
       "product   P1  P2  P3  P4  P5\n",
       "customer                    \n",
       "Alon       5   4   3   0   0\n",
       "Andreas    3   4   5   2   0\n",
       "Eren       0   2   4   4   0\n",
       "Okko       3   4   0   3   4"
      ]
     },
     "execution_count": 373,
     "metadata": {},
     "output_type": "execute_result"
    }
   ],
   "source": [
    "data = pd.read_excel(\"data/behaviour_long.xlsx\", header=0, index_col=0)\n",
    "mat = data.pivot_table(index=['customer'],columns='product',values='rating', fill_value=0)\n",
    "mat"
   ]
  },
  {
   "cell_type": "markdown",
   "metadata": {
    "slideshow": {
     "slide_type": "slide"
    }
   },
   "source": [
    "<img src=\"img/fashion-mnist-sprite.png\" alt=\"item-based\" style=\"width: 1200px;\"/>\n"
   ]
  },
  {
   "cell_type": "markdown",
   "metadata": {
    "slideshow": {
     "slide_type": "subslide"
    }
   },
   "source": [
    "# Headline Subslide"
   ]
  },
  {
   "cell_type": "markdown",
   "metadata": {
    "raw_mimetype": "text/html",
    "slideshow": {
     "slide_type": "slide"
    }
   },
   "source": [
    "<image>\n",
    "</section>\n",
    "<section data-background=\"#F27C3A\" data-state=\"no-title-footer\">\n",
    "  <div class=\"divider_h1\">\n",
    "    <h1>Divider</h1>\n",
    "  </div>\n",
    "</section>\n",
    "</image>"
   ]
  },
  {
   "cell_type": "markdown",
   "metadata": {
    "slideshow": {
     "slide_type": "skip"
    }
   },
   "source": [
    "### Q&A Slide"
   ]
  },
  {
   "cell_type": "markdown",
   "metadata": {
    "slideshow": {
     "slide_type": "slide"
    }
   },
   "source": [
    "<image>\n",
    "</section>\n",
    "<section data-background=\"#0093C9\" data-state=\"no-title-footer\">\n",
    "  <div class=\"divider_h1\">\n",
    "    <h1>Questions???</h1>\n",
    "  </div>\n",
    "</section>\n",
    "</image>"
   ]
  }
 ],
 "metadata": {
  "celltoolbar": "Slideshow",
  "kernelspec": {
   "display_name": "Python [Root]",
   "language": "python",
   "name": "Python [Root]"
  },
  "language_info": {
   "codemirror_mode": {
    "name": "ipython",
    "version": 2
   },
   "file_extension": ".py",
   "mimetype": "text/x-python",
   "name": "python",
   "nbconvert_exporter": "python",
   "pygments_lexer": "ipython2",
   "version": "2.7.13"
  },
  "widgets": {
   "state": {},
   "version": "1.1.2"
  }
 },
 "nbformat": 4,
 "nbformat_minor": 1
}
