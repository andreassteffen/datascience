{
 "cells": [
  {
   "cell_type": "markdown",
   "metadata": {
    "slideshow": {
     "slide_type": "slide"
    }
   },
   "source": [
    "# how to find a gift using simple data science techniques"
   ]
  },
  {
   "cell_type": "markdown",
   "metadata": {
    "slideshow": {
     "slide_type": "slide"
    }
   },
   "source": [
    "# problem statement"
   ]
  },
  {
   "cell_type": "markdown",
   "metadata": {
    "slideshow": {
     "slide_type": "slide"
    }
   },
   "source": [
    "| [![](./img/timo_grumpy.jpg)]()  | [![](./img/melanie_grumpy.jpg)]() | [![](./img/alon_grumpy.jpg)]() |\n",
    "|:---:|:---:|:---:|\n",
    "| <span style=\"font-size:large;\">timo sorrow-stricken</span> | <span style=\"font-size:large;\">melanie sorrow-stricken</span> | <span style=\"font-size:large;\">alon sorrow-stricken</span> |"
   ]
  },
  {
   "cell_type": "markdown",
   "metadata": {
    "slideshow": {
     "slide_type": "slide"
    }
   },
   "source": [
    "| [![](./img/timo_excited.jpg)]()  | [![](./img/melanie_happy.jpg)]() | [![](./img/alon_excited.jpg)]() |\n",
    "|:---:|:---:|:---:|\n",
    "| <span style=\"font-size:large;\">timo happy</span> | <span style=\"font-size:large;\">melanie happy</span> | <span style=\"font-size:large;\">alon happy </span> |"
   ]
  },
  {
   "cell_type": "markdown",
   "metadata": {
    "slideshow": {
     "slide_type": "slide"
    }
   },
   "source": [
    "## what can we do?"
   ]
  },
  {
   "cell_type": "markdown",
   "metadata": {
    "slideshow": {
     "slide_type": "fragment"
    }
   },
   "source": [
    "* be good students!"
   ]
  },
  {
   "cell_type": "markdown",
   "metadata": {
    "slideshow": {
     "slide_type": "fragment"
    }
   },
   "source": [
    "* spread the data science virus across the organisation"
   ]
  },
  {
   "cell_type": "markdown",
   "metadata": {
    "slideshow": {
     "slide_type": "fragment"
    }
   },
   "source": [
    "* __let's give them a gift (using simple data science techniques)__"
   ]
  },
  {
   "cell_type": "markdown",
   "metadata": {
    "slideshow": {
     "slide_type": "slide"
    }
   },
   "source": [
    "| [![](./img/timo_philosophical.jpg)]()  | [![](./img/chocolate.jpg)]() | [![](./img/marshmallow.jpg)]() | [![](./img/cookies.jpg)]() |\n",
    "|:---:|:---:|:---:|:---:|\n",
    "| <span style=\"font-size:large;\">timo undecided</span> | <span style=\"font-size:large;\">chocolate</span> | <span style=\"font-size:large;\">marshmallow</span> | <span style=\"font-size:large;\">cookies</span> |"
   ]
  },
  {
   "cell_type": "markdown",
   "metadata": {
    "slideshow": {
     "slide_type": "slide"
    }
   },
   "source": [
    "| [![](./img/melanie_phylosophical.jpg)]()  | [![](./img/red_wine.jpg)]() | [![](./img/white_wine.jpg)]() | [![](./img/rose_wine.jpg)]() |\n",
    "|:---:|:---:|:---:|:---:|\n",
    "| <span style=\"font-size:large;\">melanie undecided</span> | <span style=\"font-size:large;\">red wine</span> | <span style=\"font-size:large;\">white wine</span> | <span style=\"font-size:large;\">rose</span> |"
   ]
  },
  {
   "cell_type": "markdown",
   "metadata": {
    "slideshow": {
     "slide_type": "slide"
    }
   },
   "source": [
    "| [![](./img/alon_phylosophical.jpg)]()  | [![](./img/JAZZ_MUSIC.jpg)]() | [![](./img/classical_music.jpg)]() | [![](./img/pop_music.jpg)]() |\n",
    "|:---:|:---:|:---:|:---:|\n",
    "| <span style=\"font-size:large;\">alon undecided</span> | <span style=\"font-size:large;\">a jazz cd</span> | <span style=\"font-size:large;\">a classic cd</span> | <span style=\"font-size:large;\">a pop cd</span> |"
   ]
  },
  {
   "cell_type": "markdown",
   "metadata": {
    "slideshow": {
     "slide_type": "slide"
    }
   },
   "source": [
    "# our solution"
   ]
  },
  {
   "cell_type": "markdown",
   "metadata": {
    "slideshow": {
     "slide_type": "slide"
    }
   },
   "source": [
    "# let's train a classification model\n",
    "[![](./img/model_predict.png)]() "
   ]
  },
  {
   "cell_type": "markdown",
   "metadata": {
    "slideshow": {
     "slide_type": "slide"
    }
   },
   "source": [
    "# small excursion: what's a classifier?\n",
    "<img src=\"./img/train_model.png\" style=\"height: 600px;\"/>"
   ]
  },
  {
   "cell_type": "markdown",
   "metadata": {
    "slideshow": {
     "slide_type": "slide"
    }
   },
   "source": [
    "# small excursion: what's a classifier?\n",
    "<img src=\"./img/predict_on_training.png\" style=\"height: 600px;\"/>"
   ]
  },
  {
   "cell_type": "markdown",
   "metadata": {
    "slideshow": {
     "slide_type": "slide"
    }
   },
   "source": [
    "# small excursion: pitfalls...\n",
    "[![](./img/overfit.png)]() \n"
   ]
  },
  {
   "cell_type": "markdown",
   "metadata": {
    "slideshow": {
     "slide_type": "slide"
    }
   },
   "source": [
    "# reduce model complexity...\n",
    "[![](./img/better_generizability.png)]() "
   ]
  },
  {
   "cell_type": "markdown",
   "metadata": {
    "slideshow": {
     "slide_type": "slide"
    }
   },
   "source": [
    "# but how getting to a gift classification model?"
   ]
  },
  {
   "cell_type": "markdown",
   "metadata": {
    "slideshow": {
     "slide_type": "slide"
    }
   },
   "source": [
    "1. __data collection and labeling__"
   ]
  },
  {
   "cell_type": "markdown",
   "metadata": {
    "slideshow": {
     "slide_type": "fragment"
    }
   },
   "source": [
    " * pick one gift type per group (i.e. either wine, sweets or music)"
   ]
  },
  {
   "cell_type": "markdown",
   "metadata": {
    "slideshow": {
     "slide_type": "fragment"
    }
   },
   "source": [
    " * ideate 4 categorical people attributes that could be related to wine/sweets/music taste (e.g. gender → male|female, preferred_dish → fish|meat|vegetables etc).\n",
    " __choose 2-4 categories per attribute, not more__"
   ]
  },
  {
   "cell_type": "markdown",
   "metadata": {
    "slideshow": {
     "slide_type": "fragment"
    }
   },
   "source": [
    "* prepare an csv sheet based on the questionaire.csv in the folder"
   ]
  },
  {
   "cell_type": "markdown",
   "metadata": {
    "slideshow": {
     "slide_type": "slide"
    }
   },
   "source": [
    "* do interviews with all participants and fill out your sheet. for everything you enter always check your spelling (e.g. male is always male, not Male, MALE or malle). seperate two attributes by \",\"."
   ]
  },
  {
   "cell_type": "markdown",
   "metadata": {
    "slideshow": {
     "slide_type": "fragment"
    }
   },
   "source": [
    "* also interview the corresponding facilitators, but don't ask for the label (__remember we want to predict__),e.g. Melanie Heroult,,female,brown hair, etc. For Melanie ask Alon."
   ]
  },
  {
   "cell_type": "markdown",
   "metadata": {
    "slideshow": {
     "slide_type": "slide"
    }
   },
   "source": [
    "#### it should look something like this in the end\n",
    "[![](./img/questionaire.png)]() "
   ]
  },
  {
   "cell_type": "markdown",
   "metadata": {
    "slideshow": {
     "slide_type": "slide"
    }
   },
   "source": [
    "__2\\. data preparation, exploration and visualization__"
   ]
  },
  {
   "cell_type": "markdown",
   "metadata": {
    "slideshow": {
     "slide_type": "fragment"
    }
   },
   "source": [
    "* split the data into training (the participants) and prediction set (the facilitators)"
   ]
  },
  {
   "cell_type": "markdown",
   "metadata": {
    "collapsed": true,
    "slideshow": {
     "slide_type": "fragment"
    }
   },
   "source": [
    "* understand the data and find out how the individual attributes relate to the label"
   ]
  },
  {
   "cell_type": "markdown",
   "metadata": {
    "slideshow": {
     "slide_type": "fragment"
    }
   },
   "source": [
    "* visualize findings"
   ]
  },
  {
   "cell_type": "markdown",
   "metadata": {
    "slideshow": {
     "slide_type": "slide"
    }
   },
   "source": [
    "__3\\. model generation on training data (the participants)__"
   ]
  },
  {
   "cell_type": "markdown",
   "metadata": {
    "slideshow": {
     "slide_type": "fragment"
    }
   },
   "source": [
    "__4\\. the prediction on unlabelled data (the facilitators)__"
   ]
  },
  {
   "cell_type": "markdown",
   "metadata": {
    "slideshow": {
     "slide_type": "slide"
    }
   },
   "source": [
    "# let's get our hands dirty"
   ]
  },
  {
   "cell_type": "markdown",
   "metadata": {
    "slideshow": {
     "slide_type": "slide"
    }
   },
   "source": [
    "# data preparation, exploration and visualization"
   ]
  },
  {
   "cell_type": "markdown",
   "metadata": {
    "slideshow": {
     "slide_type": "fragment"
    }
   },
   "source": [
    "* ok, please fasten your seat belts: codings starts now"
   ]
  },
  {
   "cell_type": "code",
   "execution_count": 82,
   "metadata": {
    "slideshow": {
     "slide_type": "fragment"
    }
   },
   "outputs": [
    {
     "name": "stdout",
     "output_type": "stream",
     "text": [
      "Populating the interactive namespace from numpy and matplotlib\n"
     ]
    },
    {
     "name": "stderr",
     "output_type": "stream",
     "text": [
      "/home/ggayq/anaconda3/lib/python3.6/site-packages/IPython/core/magics/pylab.py:161: UserWarning: pylab import has clobbered these variables: ['test', 'clf']\n",
      "`%matplotlib` prevents importing * from pylab and numpy\n",
      "  \"\\n`%matplotlib` prevents importing * from pylab and numpy\"\n"
     ]
    }
   ],
   "source": [
    "# import libraries\n",
    "import pandas as pd # library for data handling (PANel DAta, common term for multidimensional data)\n",
    "import seaborn as sns # library for plotting\n",
    "%pylab inline"
   ]
  },
  {
   "cell_type": "code",
   "execution_count": 83,
   "metadata": {
    "collapsed": true,
    "slideshow": {
     "slide_type": "fragment"
    }
   },
   "outputs": [],
   "source": [
    "# read in the data from the prepared excel sheet\n",
    "data = pd.read_excel('data/wine_taste.xlsx', index_col = 'Name') # modify the filename accordingly"
   ]
  },
  {
   "cell_type": "code",
   "execution_count": 84,
   "metadata": {
    "slideshow": {
     "slide_type": "slide"
    }
   },
   "outputs": [
    {
     "data": {
      "text/html": [
       "<div>\n",
       "<style>\n",
       "    .dataframe thead tr:only-child th {\n",
       "        text-align: right;\n",
       "    }\n",
       "\n",
       "    .dataframe thead th {\n",
       "        text-align: left;\n",
       "    }\n",
       "\n",
       "    .dataframe tbody tr th {\n",
       "        vertical-align: top;\n",
       "    }\n",
       "</style>\n",
       "<table border=\"1\" class=\"dataframe\">\n",
       "  <thead>\n",
       "    <tr style=\"text-align: right;\">\n",
       "      <th></th>\n",
       "      <th>Label</th>\n",
       "      <th>Taste</th>\n",
       "      <th>Gender</th>\n",
       "      <th>Personality</th>\n",
       "      <th>eat_in_or_out</th>\n",
       "    </tr>\n",
       "    <tr>\n",
       "      <th>Name</th>\n",
       "      <th></th>\n",
       "      <th></th>\n",
       "      <th></th>\n",
       "      <th></th>\n",
       "      <th></th>\n",
       "    </tr>\n",
       "  </thead>\n",
       "  <tbody>\n",
       "    <tr>\n",
       "      <th>Peter</th>\n",
       "      <td>red</td>\n",
       "      <td>sweet</td>\n",
       "      <td>male</td>\n",
       "      <td>introvert</td>\n",
       "      <td>in</td>\n",
       "    </tr>\n",
       "    <tr>\n",
       "      <th>Andreas</th>\n",
       "      <td>white</td>\n",
       "      <td>spicy</td>\n",
       "      <td>male</td>\n",
       "      <td>extrovert</td>\n",
       "      <td>in</td>\n",
       "    </tr>\n",
       "    <tr>\n",
       "      <th>James</th>\n",
       "      <td>red</td>\n",
       "      <td>sweet</td>\n",
       "      <td>male</td>\n",
       "      <td>extrovert</td>\n",
       "      <td>in</td>\n",
       "    </tr>\n",
       "    <tr>\n",
       "      <th>Jim</th>\n",
       "      <td>white</td>\n",
       "      <td>spicy</td>\n",
       "      <td>male</td>\n",
       "      <td>introvert</td>\n",
       "      <td>out</td>\n",
       "    </tr>\n",
       "    <tr>\n",
       "      <th>John</th>\n",
       "      <td>white</td>\n",
       "      <td>spicy</td>\n",
       "      <td>male</td>\n",
       "      <td>extrovert</td>\n",
       "      <td>out</td>\n",
       "    </tr>\n",
       "    <tr>\n",
       "      <th>Daniel</th>\n",
       "      <td>white</td>\n",
       "      <td>hot</td>\n",
       "      <td>male</td>\n",
       "      <td>extrovert</td>\n",
       "      <td>in</td>\n",
       "    </tr>\n",
       "    <tr>\n",
       "      <th>Catherine</th>\n",
       "      <td>rose</td>\n",
       "      <td>hot</td>\n",
       "      <td>female</td>\n",
       "      <td>extrovert</td>\n",
       "      <td>out</td>\n",
       "    </tr>\n",
       "    <tr>\n",
       "      <th>Paula</th>\n",
       "      <td>rose</td>\n",
       "      <td>hot</td>\n",
       "      <td>female</td>\n",
       "      <td>introvert</td>\n",
       "      <td>out</td>\n",
       "    </tr>\n",
       "    <tr>\n",
       "      <th>Adrian</th>\n",
       "      <td>red</td>\n",
       "      <td>sweet</td>\n",
       "      <td>male</td>\n",
       "      <td>extrovert</td>\n",
       "      <td>in</td>\n",
       "    </tr>\n",
       "    <tr>\n",
       "      <th>Maria</th>\n",
       "      <td>red</td>\n",
       "      <td>sweet</td>\n",
       "      <td>female</td>\n",
       "      <td>extrovert</td>\n",
       "      <td>in</td>\n",
       "    </tr>\n",
       "    <tr>\n",
       "      <th>Ben</th>\n",
       "      <td>white</td>\n",
       "      <td>sweet</td>\n",
       "      <td>male</td>\n",
       "      <td>introvert</td>\n",
       "      <td>out</td>\n",
       "    </tr>\n",
       "    <tr>\n",
       "      <th>Zac</th>\n",
       "      <td>white</td>\n",
       "      <td>sour</td>\n",
       "      <td>male</td>\n",
       "      <td>introvert</td>\n",
       "      <td>in</td>\n",
       "    </tr>\n",
       "    <tr>\n",
       "      <th>Hans</th>\n",
       "      <td>red</td>\n",
       "      <td>sweet</td>\n",
       "      <td>male</td>\n",
       "      <td>extrovert</td>\n",
       "      <td>out</td>\n",
       "    </tr>\n",
       "    <tr>\n",
       "      <th>Ian</th>\n",
       "      <td>red</td>\n",
       "      <td>sour</td>\n",
       "      <td>male</td>\n",
       "      <td>introvert</td>\n",
       "      <td>in</td>\n",
       "    </tr>\n",
       "    <tr>\n",
       "      <th>Ralf</th>\n",
       "      <td>red</td>\n",
       "      <td>sour</td>\n",
       "      <td>male</td>\n",
       "      <td>extrovert</td>\n",
       "      <td>out</td>\n",
       "    </tr>\n",
       "    <tr>\n",
       "      <th>Ortrud</th>\n",
       "      <td>white</td>\n",
       "      <td>sour</td>\n",
       "      <td>female</td>\n",
       "      <td>introvert</td>\n",
       "      <td>out</td>\n",
       "    </tr>\n",
       "    <tr>\n",
       "      <th>Lilly</th>\n",
       "      <td>white</td>\n",
       "      <td>sweet</td>\n",
       "      <td>female</td>\n",
       "      <td>introvert</td>\n",
       "      <td>in</td>\n",
       "    </tr>\n",
       "    <tr>\n",
       "      <th>Georgina</th>\n",
       "      <td>rose</td>\n",
       "      <td>hot</td>\n",
       "      <td>male</td>\n",
       "      <td>introvert</td>\n",
       "      <td>out</td>\n",
       "    </tr>\n",
       "    <tr>\n",
       "      <th>Patricia</th>\n",
       "      <td>white</td>\n",
       "      <td>spicy</td>\n",
       "      <td>female</td>\n",
       "      <td>extrovert</td>\n",
       "      <td>out</td>\n",
       "    </tr>\n",
       "    <tr>\n",
       "      <th>Xavier</th>\n",
       "      <td>rose</td>\n",
       "      <td>spicy</td>\n",
       "      <td>male</td>\n",
       "      <td>extrovert</td>\n",
       "      <td>in</td>\n",
       "    </tr>\n",
       "    <tr>\n",
       "      <th>Melanie</th>\n",
       "      <td>NaN</td>\n",
       "      <td>spicy</td>\n",
       "      <td>female</td>\n",
       "      <td>extrovert</td>\n",
       "      <td>out</td>\n",
       "    </tr>\n",
       "  </tbody>\n",
       "</table>\n",
       "</div>"
      ],
      "text/plain": [
       "           Label  Taste  Gender Personality eat_in_or_out\n",
       "Name                                                     \n",
       "Peter        red  sweet    male   introvert            in\n",
       "Andreas    white  spicy    male   extrovert            in\n",
       "James        red  sweet    male   extrovert            in\n",
       "Jim        white  spicy    male   introvert           out\n",
       "John       white  spicy    male   extrovert           out\n",
       "Daniel     white    hot    male   extrovert            in\n",
       "Catherine   rose    hot  female   extrovert           out\n",
       "Paula       rose    hot  female   introvert           out\n",
       "Adrian       red  sweet    male   extrovert            in\n",
       "Maria        red  sweet  female   extrovert            in\n",
       "Ben        white  sweet    male   introvert           out\n",
       "Zac        white   sour    male   introvert            in\n",
       "Hans         red  sweet    male   extrovert           out\n",
       "Ian          red   sour    male   introvert            in\n",
       "Ralf         red   sour    male   extrovert           out\n",
       "Ortrud     white   sour  female   introvert           out\n",
       "Lilly      white  sweet  female   introvert            in\n",
       "Georgina    rose    hot    male   introvert           out\n",
       "Patricia   white  spicy  female   extrovert           out\n",
       "Xavier      rose  spicy    male   extrovert            in\n",
       "Melanie      NaN  spicy  female   extrovert           out"
      ]
     },
     "execution_count": 84,
     "metadata": {},
     "output_type": "execute_result"
    }
   ],
   "source": [
    "# let's inspect the data\n",
    "data"
   ]
  },
  {
   "cell_type": "markdown",
   "metadata": {
    "slideshow": {
     "slide_type": "fragment"
    }
   },
   "source": [
    "do you see something abnormal?"
   ]
  },
  {
   "cell_type": "markdown",
   "metadata": {
    "slideshow": {
     "slide_type": "slide"
    }
   },
   "source": [
    "__we now need to split into training data (=all participants) and prediction data (=facilitator)__"
   ]
  },
  {
   "cell_type": "code",
   "execution_count": 85,
   "metadata": {
    "slideshow": {
     "slide_type": "fragment"
    }
   },
   "outputs": [
    {
     "data": {
      "text/html": [
       "<div>\n",
       "<style>\n",
       "    .dataframe thead tr:only-child th {\n",
       "        text-align: right;\n",
       "    }\n",
       "\n",
       "    .dataframe thead th {\n",
       "        text-align: left;\n",
       "    }\n",
       "\n",
       "    .dataframe tbody tr th {\n",
       "        vertical-align: top;\n",
       "    }\n",
       "</style>\n",
       "<table border=\"1\" class=\"dataframe\">\n",
       "  <thead>\n",
       "    <tr style=\"text-align: right;\">\n",
       "      <th></th>\n",
       "      <th>Label</th>\n",
       "      <th>Taste</th>\n",
       "      <th>Gender</th>\n",
       "      <th>Personality</th>\n",
       "      <th>eat_in_or_out</th>\n",
       "    </tr>\n",
       "    <tr>\n",
       "      <th>Name</th>\n",
       "      <th></th>\n",
       "      <th></th>\n",
       "      <th></th>\n",
       "      <th></th>\n",
       "      <th></th>\n",
       "    </tr>\n",
       "  </thead>\n",
       "  <tbody>\n",
       "    <tr>\n",
       "      <th>Melanie</th>\n",
       "      <td>NaN</td>\n",
       "      <td>spicy</td>\n",
       "      <td>female</td>\n",
       "      <td>extrovert</td>\n",
       "      <td>out</td>\n",
       "    </tr>\n",
       "  </tbody>\n",
       "</table>\n",
       "</div>"
      ],
      "text/plain": [
       "        Label  Taste  Gender Personality eat_in_or_out\n",
       "Name                                                  \n",
       "Melanie   NaN  spicy  female   extrovert           out"
      ]
     },
     "execution_count": 85,
     "metadata": {},
     "output_type": "execute_result"
    }
   ],
   "source": [
    "data.loc[pd.isnull(data.Label),:]"
   ]
  },
  {
   "cell_type": "code",
   "execution_count": 86,
   "metadata": {
    "slideshow": {
     "slide_type": "fragment"
    }
   },
   "outputs": [
    {
     "data": {
      "text/html": [
       "<div>\n",
       "<style>\n",
       "    .dataframe thead tr:only-child th {\n",
       "        text-align: right;\n",
       "    }\n",
       "\n",
       "    .dataframe thead th {\n",
       "        text-align: left;\n",
       "    }\n",
       "\n",
       "    .dataframe tbody tr th {\n",
       "        vertical-align: top;\n",
       "    }\n",
       "</style>\n",
       "<table border=\"1\" class=\"dataframe\">\n",
       "  <thead>\n",
       "    <tr style=\"text-align: right;\">\n",
       "      <th></th>\n",
       "      <th>Label</th>\n",
       "      <th>Taste</th>\n",
       "      <th>Gender</th>\n",
       "      <th>Personality</th>\n",
       "      <th>eat_in_or_out</th>\n",
       "    </tr>\n",
       "    <tr>\n",
       "      <th>Name</th>\n",
       "      <th></th>\n",
       "      <th></th>\n",
       "      <th></th>\n",
       "      <th></th>\n",
       "      <th></th>\n",
       "    </tr>\n",
       "  </thead>\n",
       "  <tbody>\n",
       "    <tr>\n",
       "      <th>Peter</th>\n",
       "      <td>red</td>\n",
       "      <td>sweet</td>\n",
       "      <td>male</td>\n",
       "      <td>introvert</td>\n",
       "      <td>in</td>\n",
       "    </tr>\n",
       "    <tr>\n",
       "      <th>Andreas</th>\n",
       "      <td>white</td>\n",
       "      <td>spicy</td>\n",
       "      <td>male</td>\n",
       "      <td>extrovert</td>\n",
       "      <td>in</td>\n",
       "    </tr>\n",
       "    <tr>\n",
       "      <th>James</th>\n",
       "      <td>red</td>\n",
       "      <td>sweet</td>\n",
       "      <td>male</td>\n",
       "      <td>extrovert</td>\n",
       "      <td>in</td>\n",
       "    </tr>\n",
       "    <tr>\n",
       "      <th>Jim</th>\n",
       "      <td>white</td>\n",
       "      <td>spicy</td>\n",
       "      <td>male</td>\n",
       "      <td>introvert</td>\n",
       "      <td>out</td>\n",
       "    </tr>\n",
       "    <tr>\n",
       "      <th>John</th>\n",
       "      <td>white</td>\n",
       "      <td>spicy</td>\n",
       "      <td>male</td>\n",
       "      <td>extrovert</td>\n",
       "      <td>out</td>\n",
       "    </tr>\n",
       "    <tr>\n",
       "      <th>Daniel</th>\n",
       "      <td>white</td>\n",
       "      <td>hot</td>\n",
       "      <td>male</td>\n",
       "      <td>extrovert</td>\n",
       "      <td>in</td>\n",
       "    </tr>\n",
       "    <tr>\n",
       "      <th>Catherine</th>\n",
       "      <td>rose</td>\n",
       "      <td>hot</td>\n",
       "      <td>female</td>\n",
       "      <td>extrovert</td>\n",
       "      <td>out</td>\n",
       "    </tr>\n",
       "    <tr>\n",
       "      <th>Paula</th>\n",
       "      <td>rose</td>\n",
       "      <td>hot</td>\n",
       "      <td>female</td>\n",
       "      <td>introvert</td>\n",
       "      <td>out</td>\n",
       "    </tr>\n",
       "    <tr>\n",
       "      <th>Adrian</th>\n",
       "      <td>red</td>\n",
       "      <td>sweet</td>\n",
       "      <td>male</td>\n",
       "      <td>extrovert</td>\n",
       "      <td>in</td>\n",
       "    </tr>\n",
       "    <tr>\n",
       "      <th>Maria</th>\n",
       "      <td>red</td>\n",
       "      <td>sweet</td>\n",
       "      <td>female</td>\n",
       "      <td>extrovert</td>\n",
       "      <td>in</td>\n",
       "    </tr>\n",
       "    <tr>\n",
       "      <th>Ben</th>\n",
       "      <td>white</td>\n",
       "      <td>sweet</td>\n",
       "      <td>male</td>\n",
       "      <td>introvert</td>\n",
       "      <td>out</td>\n",
       "    </tr>\n",
       "    <tr>\n",
       "      <th>Zac</th>\n",
       "      <td>white</td>\n",
       "      <td>sour</td>\n",
       "      <td>male</td>\n",
       "      <td>introvert</td>\n",
       "      <td>in</td>\n",
       "    </tr>\n",
       "    <tr>\n",
       "      <th>Hans</th>\n",
       "      <td>red</td>\n",
       "      <td>sweet</td>\n",
       "      <td>male</td>\n",
       "      <td>extrovert</td>\n",
       "      <td>out</td>\n",
       "    </tr>\n",
       "    <tr>\n",
       "      <th>Ian</th>\n",
       "      <td>red</td>\n",
       "      <td>sour</td>\n",
       "      <td>male</td>\n",
       "      <td>introvert</td>\n",
       "      <td>in</td>\n",
       "    </tr>\n",
       "    <tr>\n",
       "      <th>Ralf</th>\n",
       "      <td>red</td>\n",
       "      <td>sour</td>\n",
       "      <td>male</td>\n",
       "      <td>extrovert</td>\n",
       "      <td>out</td>\n",
       "    </tr>\n",
       "    <tr>\n",
       "      <th>Ortrud</th>\n",
       "      <td>white</td>\n",
       "      <td>sour</td>\n",
       "      <td>female</td>\n",
       "      <td>introvert</td>\n",
       "      <td>out</td>\n",
       "    </tr>\n",
       "    <tr>\n",
       "      <th>Lilly</th>\n",
       "      <td>white</td>\n",
       "      <td>sweet</td>\n",
       "      <td>female</td>\n",
       "      <td>introvert</td>\n",
       "      <td>in</td>\n",
       "    </tr>\n",
       "    <tr>\n",
       "      <th>Georgina</th>\n",
       "      <td>rose</td>\n",
       "      <td>hot</td>\n",
       "      <td>male</td>\n",
       "      <td>introvert</td>\n",
       "      <td>out</td>\n",
       "    </tr>\n",
       "    <tr>\n",
       "      <th>Patricia</th>\n",
       "      <td>white</td>\n",
       "      <td>spicy</td>\n",
       "      <td>female</td>\n",
       "      <td>extrovert</td>\n",
       "      <td>out</td>\n",
       "    </tr>\n",
       "    <tr>\n",
       "      <th>Xavier</th>\n",
       "      <td>rose</td>\n",
       "      <td>spicy</td>\n",
       "      <td>male</td>\n",
       "      <td>extrovert</td>\n",
       "      <td>in</td>\n",
       "    </tr>\n",
       "  </tbody>\n",
       "</table>\n",
       "</div>"
      ],
      "text/plain": [
       "           Label  Taste  Gender Personality eat_in_or_out\n",
       "Name                                                     \n",
       "Peter        red  sweet    male   introvert            in\n",
       "Andreas    white  spicy    male   extrovert            in\n",
       "James        red  sweet    male   extrovert            in\n",
       "Jim        white  spicy    male   introvert           out\n",
       "John       white  spicy    male   extrovert           out\n",
       "Daniel     white    hot    male   extrovert            in\n",
       "Catherine   rose    hot  female   extrovert           out\n",
       "Paula       rose    hot  female   introvert           out\n",
       "Adrian       red  sweet    male   extrovert            in\n",
       "Maria        red  sweet  female   extrovert            in\n",
       "Ben        white  sweet    male   introvert           out\n",
       "Zac        white   sour    male   introvert            in\n",
       "Hans         red  sweet    male   extrovert           out\n",
       "Ian          red   sour    male   introvert            in\n",
       "Ralf         red   sour    male   extrovert           out\n",
       "Ortrud     white   sour  female   introvert           out\n",
       "Lilly      white  sweet  female   introvert            in\n",
       "Georgina    rose    hot    male   introvert           out\n",
       "Patricia   white  spicy  female   extrovert           out\n",
       "Xavier      rose  spicy    male   extrovert            in"
      ]
     },
     "execution_count": 86,
     "metadata": {},
     "output_type": "execute_result"
    }
   ],
   "source": [
    "data.loc[~pd.isnull(data.Label),:]"
   ]
  },
  {
   "cell_type": "code",
   "execution_count": 87,
   "metadata": {
    "collapsed": true,
    "slideshow": {
     "slide_type": "slide"
    }
   },
   "outputs": [],
   "source": [
    "train = data.loc[~pd.isnull(data.Label),:]\n",
    "test = data.loc[pd.isnull(data.Label),:]"
   ]
  },
  {
   "cell_type": "code",
   "execution_count": null,
   "metadata": {
    "slideshow": {
     "slide_type": "fragment"
    }
   },
   "outputs": [],
   "source": []
  },
  {
   "cell_type": "code",
   "execution_count": 88,
   "metadata": {
    "slideshow": {
     "slide_type": "fragment"
    }
   },
   "outputs": [
    {
     "data": {
      "text/plain": [
       "white    9\n",
       "red      7\n",
       "rose     4\n",
       "Name: Label, dtype: int64"
      ]
     },
     "execution_count": 88,
     "metadata": {},
     "output_type": "execute_result"
    }
   ],
   "source": [
    "# count of categories\n",
    "data.Label.value_counts()"
   ]
  },
  {
   "cell_type": "code",
   "execution_count": 89,
   "metadata": {
    "slideshow": {
     "slide_type": "fragment"
    }
   },
   "outputs": [
    {
     "data": {
      "text/plain": [
       "<matplotlib.axes._subplots.AxesSubplot at 0x7f5cdc9e3748>"
      ]
     },
     "execution_count": 89,
     "metadata": {},
     "output_type": "execute_result"
    },
    {
     "data": {
      "image/png": "[encoded data removed]",
      "text/plain": [
       "<matplotlib.figure.Figure at 0x7f5cdf99d940>"
      ]
     },
     "metadata": {},
     "output_type": "display_data"
    }
   ],
   "source": [
    "data.Label.value_counts().plot.bar()"
   ]
  },
  {
   "cell_type": "code",
   "execution_count": 90,
   "metadata": {
    "slideshow": {
     "slide_type": "slide"
    }
   },
   "outputs": [
    {
     "name": "stdout",
     "output_type": "stream",
     "text": [
      "Taste\n"
     ]
    },
    {
     "data": {
      "image/png": "[encoded data removed]",
      "text/plain": [
       "<matplotlib.figure.Figure at 0x7f5cdf7c25c0>"
      ]
     },
     "metadata": {},
     "output_type": "display_data"
    },
    {
     "name": "stdout",
     "output_type": "stream",
     "text": [
      "Gender\n"
     ]
    },
    {
     "data": {
      "image/png": "[encoded data removed]",
      "text/plain": [
       "<matplotlib.figure.Figure at 0x7f5cdc68f198>"
      ]
     },
     "metadata": {},
     "output_type": "display_data"
    },
    {
     "name": "stdout",
     "output_type": "stream",
     "text": [
      "Personality\n"
     ]
    },
    {
     "data": {
      "image/png": "[encoded data removed]",
      "text/plain": [
       "<matplotlib.figure.Figure at 0x7f5cdc9ff550>"
      ]
     },
     "metadata": {},
     "output_type": "display_data"
    },
    {
     "name": "stdout",
     "output_type": "stream",
     "text": [
      "eat_in_or_out\n"
     ]
    },
    {
     "data": {
      "image/png": "[encoded data removed]",
      "text/plain": [
       "<matplotlib.figure.Figure at 0x7f5cdf344198>"
      ]
     },
     "metadata": {},
     "output_type": "display_data"
    }
   ],
   "source": [
    "for attribute in train.drop('Label',axis = 1).columns:\n",
    "    print(attribute)\n",
    "    sns.heatmap(pd.crosstab(train.Label, train[attribute]), annot = True)\n",
    "    show()"
   ]
  },
  {
   "cell_type": "markdown",
   "metadata": {
    "collapsed": true,
    "slideshow": {
     "slide_type": "slide"
    }
   },
   "source": [
    "# model generation on training data (the participants)"
   ]
  },
  {
   "cell_type": "markdown",
   "metadata": {
    "slideshow": {
     "slide_type": "slide"
    }
   },
   "source": [
    "# decision tree\n",
    "[![](./img/decision_tree.png)]() "
   ]
  },
  {
   "cell_type": "markdown",
   "metadata": {
    "slideshow": {
     "slide_type": "slide"
    }
   },
   "source": [
    "# random forest\n",
    "[![](./img/random_forrest.png)]() "
   ]
  },
  {
   "cell_type": "code",
   "execution_count": 91,
   "metadata": {
    "collapsed": true,
    "slideshow": {
     "slide_type": "slide"
    }
   },
   "outputs": [],
   "source": [
    "# import machine learning libraries\n",
    "from sklearn.ensemble import RandomForestClassifier\n",
    "from sklearn.metrics import accuracy_score"
   ]
  },
  {
   "cell_type": "code",
   "execution_count": 92,
   "metadata": {
    "collapsed": true,
    "slideshow": {
     "slide_type": "fragment"
    }
   },
   "outputs": [],
   "source": [
    "# generate one-hot encoding\n",
    "train_one_hot = pd.get_dummies(train.drop('Label', axis = 1))\n",
    "test_one_hot = pd.get_dummies(test.drop('Label', axis = 1))\n",
    "test_one_hot = test_one_hot.loc[:,train_one_hot.columns].fillna(0).astype('int') # sorry that's a little dirty (but data science reality)"
   ]
  },
  {
   "cell_type": "code",
   "execution_count": 93,
   "metadata": {
    "slideshow": {
     "slide_type": "fragment"
    }
   },
   "outputs": [
    {
     "data": {
      "text/html": [
       "<div>\n",
       "<style>\n",
       "    .dataframe thead tr:only-child th {\n",
       "        text-align: right;\n",
       "    }\n",
       "\n",
       "    .dataframe thead th {\n",
       "        text-align: left;\n",
       "    }\n",
       "\n",
       "    .dataframe tbody tr th {\n",
       "        vertical-align: top;\n",
       "    }\n",
       "</style>\n",
       "<table border=\"1\" class=\"dataframe\">\n",
       "  <thead>\n",
       "    <tr style=\"text-align: right;\">\n",
       "      <th></th>\n",
       "      <th>Taste_hot</th>\n",
       "      <th>Taste_sour</th>\n",
       "      <th>Taste_spicy</th>\n",
       "      <th>Taste_sweet</th>\n",
       "      <th>Gender_female</th>\n",
       "      <th>Gender_male</th>\n",
       "      <th>Personality_extrovert</th>\n",
       "      <th>Personality_introvert</th>\n",
       "      <th>eat_in_or_out_in</th>\n",
       "      <th>eat_in_or_out_out</th>\n",
       "    </tr>\n",
       "    <tr>\n",
       "      <th>Name</th>\n",
       "      <th></th>\n",
       "      <th></th>\n",
       "      <th></th>\n",
       "      <th></th>\n",
       "      <th></th>\n",
       "      <th></th>\n",
       "      <th></th>\n",
       "      <th></th>\n",
       "      <th></th>\n",
       "      <th></th>\n",
       "    </tr>\n",
       "  </thead>\n",
       "  <tbody>\n",
       "    <tr>\n",
       "      <th>Peter</th>\n",
       "      <td>0</td>\n",
       "      <td>0</td>\n",
       "      <td>0</td>\n",
       "      <td>1</td>\n",
       "      <td>0</td>\n",
       "      <td>1</td>\n",
       "      <td>0</td>\n",
       "      <td>1</td>\n",
       "      <td>1</td>\n",
       "      <td>0</td>\n",
       "    </tr>\n",
       "    <tr>\n",
       "      <th>Andreas</th>\n",
       "      <td>0</td>\n",
       "      <td>0</td>\n",
       "      <td>1</td>\n",
       "      <td>0</td>\n",
       "      <td>0</td>\n",
       "      <td>1</td>\n",
       "      <td>1</td>\n",
       "      <td>0</td>\n",
       "      <td>1</td>\n",
       "      <td>0</td>\n",
       "    </tr>\n",
       "    <tr>\n",
       "      <th>James</th>\n",
       "      <td>0</td>\n",
       "      <td>0</td>\n",
       "      <td>0</td>\n",
       "      <td>1</td>\n",
       "      <td>0</td>\n",
       "      <td>1</td>\n",
       "      <td>1</td>\n",
       "      <td>0</td>\n",
       "      <td>1</td>\n",
       "      <td>0</td>\n",
       "    </tr>\n",
       "    <tr>\n",
       "      <th>Jim</th>\n",
       "      <td>0</td>\n",
       "      <td>0</td>\n",
       "      <td>1</td>\n",
       "      <td>0</td>\n",
       "      <td>0</td>\n",
       "      <td>1</td>\n",
       "      <td>0</td>\n",
       "      <td>1</td>\n",
       "      <td>0</td>\n",
       "      <td>1</td>\n",
       "    </tr>\n",
       "    <tr>\n",
       "      <th>John</th>\n",
       "      <td>0</td>\n",
       "      <td>0</td>\n",
       "      <td>1</td>\n",
       "      <td>0</td>\n",
       "      <td>0</td>\n",
       "      <td>1</td>\n",
       "      <td>1</td>\n",
       "      <td>0</td>\n",
       "      <td>0</td>\n",
       "      <td>1</td>\n",
       "    </tr>\n",
       "  </tbody>\n",
       "</table>\n",
       "</div>"
      ],
      "text/plain": [
       "         Taste_hot  Taste_sour  Taste_spicy  Taste_sweet  Gender_female  \\\n",
       "Name                                                                      \n",
       "Peter            0           0            0            1              0   \n",
       "Andreas          0           0            1            0              0   \n",
       "James            0           0            0            1              0   \n",
       "Jim              0           0            1            0              0   \n",
       "John             0           0            1            0              0   \n",
       "\n",
       "         Gender_male  Personality_extrovert  Personality_introvert  \\\n",
       "Name                                                                 \n",
       "Peter              1                      0                      1   \n",
       "Andreas            1                      1                      0   \n",
       "James              1                      1                      0   \n",
       "Jim                1                      0                      1   \n",
       "John               1                      1                      0   \n",
       "\n",
       "         eat_in_or_out_in  eat_in_or_out_out  \n",
       "Name                                          \n",
       "Peter                   1                  0  \n",
       "Andreas                 1                  0  \n",
       "James                   1                  0  \n",
       "Jim                     0                  1  \n",
       "John                    0                  1  "
      ]
     },
     "execution_count": 93,
     "metadata": {},
     "output_type": "execute_result"
    }
   ],
   "source": [
    "train_one_hot.head(5)"
   ]
  },
  {
   "cell_type": "code",
   "execution_count": 94,
   "metadata": {
    "collapsed": true,
    "slideshow": {
     "slide_type": "slide"
    }
   },
   "outputs": [],
   "source": [
    "# instantiate the model\n",
    "clf = RandomForestClassifier()"
   ]
  },
  {
   "cell_type": "code",
   "execution_count": 95,
   "metadata": {
    "slideshow": {
     "slide_type": "fragment"
    }
   },
   "outputs": [
    {
     "data": {
      "text/plain": [
       "RandomForestClassifier(bootstrap=True, class_weight=None, criterion='gini',\n",
       "            max_depth=None, max_features='auto', max_leaf_nodes=None,\n",
       "            min_impurity_decrease=0.0, min_impurity_split=None,\n",
       "            min_samples_leaf=1, min_samples_split=2,\n",
       "            min_weight_fraction_leaf=0.0, n_estimators=10, n_jobs=1,\n",
       "            oob_score=False, random_state=None, verbose=0,\n",
       "            warm_start=False)"
      ]
     },
     "execution_count": 95,
     "metadata": {},
     "output_type": "execute_result"
    }
   ],
   "source": [
    "# fit the model to the training data\n",
    "clf.fit(train_one_hot,train.Label)"
   ]
  },
  {
   "cell_type": "code",
   "execution_count": 96,
   "metadata": {
    "collapsed": true,
    "slideshow": {
     "slide_type": "fragment"
    }
   },
   "outputs": [],
   "source": [
    "pred_labels = clf.predict(test_one_hot)"
   ]
  },
  {
   "cell_type": "markdown",
   "metadata": {
    "slideshow": {
     "slide_type": "fragment"
    }
   },
   "source": [
    "[![](./img/drumroll.png)]() "
   ]
  },
  {
   "cell_type": "code",
   "execution_count": 97,
   "metadata": {
    "slideshow": {
     "slide_type": "fragment"
    }
   },
   "outputs": [
    {
     "name": "stdout",
     "output_type": "stream",
     "text": [
      "the model predicts: Melanie loves white wine\n"
     ]
    }
   ],
   "source": [
    "print('the model predicts: {} loves {} wine'.format(test.index[0],pred_labels[0]))"
   ]
  },
  {
   "cell_type": "markdown",
   "metadata": {
    "slideshow": {
     "slide_type": "slide"
    }
   },
   "source": [
    "# reflection"
   ]
  },
  {
   "cell_type": "markdown",
   "metadata": {
    "slideshow": {
     "slide_type": "fragment"
    }
   },
   "source": [
    "* stages of a data science project"
   ]
  },
  {
   "cell_type": "markdown",
   "metadata": {
    "slideshow": {
     "slide_type": "fragment"
    }
   },
   "source": [
    "* feature engineering influences model outcome"
   ]
  },
  {
   "cell_type": "markdown",
   "metadata": {
    "slideshow": {
     "slide_type": "fragment"
    }
   },
   "source": [
    "* data exploration to check validity of data"
   ]
  },
  {
   "cell_type": "markdown",
   "metadata": {
    "slideshow": {
     "slide_type": "fragment"
    }
   },
   "source": [
    "* good programmers don't reinvent the wheel"
   ]
  }
 ],
 "metadata": {
  "celltoolbar": "Slideshow",
  "kernelspec": {
   "display_name": "Python 3",
   "language": "python",
   "name": "python3"
  },
  "language_info": {
   "codemirror_mode": {
    "name": "ipython",
    "version": 3
   },
   "file_extension": ".py",
   "mimetype": "text/x-python",
   "name": "python",
   "nbconvert_exporter": "python",
   "pygments_lexer": "ipython3",
   "version": "3.6.1"
  },
  "livereveal": {
   "theme": "white",
   "transition": "appear"
  }
 },
 "nbformat": 4,
 "nbformat_minor": 2
}
