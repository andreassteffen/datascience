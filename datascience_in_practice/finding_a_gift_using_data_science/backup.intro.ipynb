{
 "cells": [
  {
   "cell_type": "markdown",
   "metadata": {},
   "source": [
    "## introduction into jupyter/python\n",
    "__a practioner's guide (no theory, little background, just doing)__"
   ]
  },
  {
   "cell_type": "markdown",
   "metadata": {},
   "source": [
    "### navigation in jupyter"
   ]
  },
  {
   "cell_type": "markdown",
   "metadata": {},
   "source": [
    "double-click into this cell (this is markdown)\n",
    "\n",
    "__I can write in bold letter__\n",
    "### this is a headline\n",
    "\n",
    "#### now follows an unordered list\n",
    "* ham\n",
    "* spam\n",
    "* eggs\n",
    "\n",
    "#### and now an ordered list\n",
    "1. imitate\n",
    "2. assimilate\n",
    "3. innovate\n",
    "\n",
    "and this is just normal text.\n",
    "\n",
    "use all this to describe, structure and protocol your analysis"
   ]
  },
  {
   "cell_type": "markdown",
   "metadata": {},
   "source": [
    "jshhhhhhhhhhhh"
   ]
  },
  {
   "cell_type": "markdown",
   "metadata": {},
   "source": [
    "#### excercise 1 - get familiar with the menu, markdown and code execution\n",
    "1. insert a new cell below/above this cell\n",
    "2. make a markdown cell out of the cell below and add a list of items (markdown format) \n",
    "3. execute the print statement in a cell\n",
    "\n",
    " `print(\"I will become a good data scientist, I will practice every day, After I wake up I will log into my computer and programm python until my fingers will be chafed.\")`\n",
    "4. clear the output\n",
    "5. delete the cell\n",
    "6. make a copy of the notebook\n",
    "7. rename it\n",
    "8. save it\n",
    "9. BONUS: make yourself familiar with keyboard shortcuts (see Help)"
   ]
  },
  {
   "cell_type": "markdown",
   "metadata": {},
   "source": [
    "### simple python"
   ]
  },
  {
   "cell_type": "code",
   "execution_count": 1,
   "metadata": {
    "collapsed": true
   },
   "outputs": [],
   "source": [
    "# import libraries\n",
    "import math # math functions\n",
    "import numpy as np\n",
    "from os import path"
   ]
  },
  {
   "cell_type": "code",
   "execution_count": 2,
   "metadata": {
    "collapsed": false
   },
   "outputs": [
    {
     "name": "stdout",
     "output_type": "stream",
     "text": [
      "Requirement already satisfied: fuzzywuzzy in /gpfs01/home/ggayq/.local/lib/python3.6/site-packages\r\n"
     ]
    }
   ],
   "source": [
    "# install a new library\n",
    "!pip install fuzzywuzzy"
   ]
  },
  {
   "cell_type": "code",
   "execution_count": 3,
   "metadata": {
    "collapsed": true
   },
   "outputs": [],
   "source": [
    "import fuzzywuzzy as fw"
   ]
  },
  {
   "cell_type": "code",
   "execution_count": 4,
   "metadata": {
    "collapsed": false
   },
   "outputs": [
    {
     "data": {
      "text/plain": [
       "120.0"
      ]
     },
     "execution_count": 4,
     "metadata": {},
     "output_type": "execute_result"
    }
   ],
   "source": [
    "# can be used as a calculator\n",
    "230 - 220 * 0.5"
   ]
  },
  {
   "cell_type": "code",
   "execution_count": 5,
   "metadata": {
    "collapsed": false
   },
   "outputs": [
    {
     "data": {
      "text/plain": [
       "True"
      ]
     },
     "execution_count": 5,
     "metadata": {},
     "output_type": "execute_result"
    }
   ],
   "source": [
    "# simple boolean statements\n",
    "230 - 220 * 0.5 == math.factorial(5)"
   ]
  },
  {
   "cell_type": "code",
   "execution_count": 6,
   "metadata": {
    "collapsed": true
   },
   "outputs": [],
   "source": [
    "# assign a variable\n",
    "first_name = 'Max'\n",
    "name = 'Mustermann'"
   ]
  },
  {
   "cell_type": "code",
   "execution_count": 7,
   "metadata": {
    "collapsed": false
   },
   "outputs": [
    {
     "name": "stdout",
     "output_type": "stream",
     "text": [
      "Max Mustermann\n"
     ]
    }
   ],
   "source": [
    "print(first_name, name)"
   ]
  },
  {
   "cell_type": "code",
   "execution_count": 8,
   "metadata": {
    "collapsed": true
   },
   "outputs": [],
   "source": [
    "# datastructures\n",
    "mylist = ['ham','eggs','spam']\n",
    "mydict = {'ham':'Schinken','eggs':'Eier','spam':'Frühstücksfleisch'}"
   ]
  },
  {
   "cell_type": "code",
   "execution_count": 9,
   "metadata": {
    "collapsed": false
   },
   "outputs": [
    {
     "name": "stdout",
     "output_type": "stream",
     "text": [
      "ham\n",
      "eggs\n",
      "spam\n"
     ]
    }
   ],
   "source": [
    "# loop over list\n",
    "for ele in mylist:\n",
    "    print(ele)"
   ]
  },
  {
   "cell_type": "code",
   "execution_count": 10,
   "metadata": {
    "collapsed": false
   },
   "outputs": [
    {
     "name": "stdout",
     "output_type": "stream",
     "text": [
      "ham translates to Schinken\n",
      "eggs translates to Eier\n",
      "spam translates to Frühstücksfleisch\n"
     ]
    }
   ],
   "source": [
    "# loop over dictionary keys and string formatting\n",
    "for key in mydict.keys():\n",
    "    print(\"{} translates to {}\".format(key, mydict[key]))"
   ]
  },
  {
   "cell_type": "code",
   "execution_count": 11,
   "metadata": {
    "collapsed": true
   },
   "outputs": [],
   "source": [
    "# a function \n",
    "def translate_english_to_german(word):\n",
    "    mydict = {'ham':'Schinken','eggs':'Eier','spam':'Frühstücksfleisch'}\n",
    "    return mydict.get(word)"
   ]
  },
  {
   "cell_type": "code",
   "execution_count": 12,
   "metadata": {
    "collapsed": false
   },
   "outputs": [
    {
     "name": "stdout",
     "output_type": "stream",
     "text": [
      "Schinken\n"
     ]
    }
   ],
   "source": [
    "# use function\n",
    "print(translate_english_to_german('ham'))"
   ]
  },
  {
   "cell_type": "code",
   "execution_count": 13,
   "metadata": {
    "collapsed": false
   },
   "outputs": [
    {
     "name": "stdout",
     "output_type": "stream",
     "text": [
      "Schinken\n"
     ]
    }
   ],
   "source": [
    "# if ... then\n",
    "curword = 'ham'\n",
    "if curword in mydict:\n",
    "    print(translate_english_to_german('ham'))\n",
    "else:\n",
    "    print('I haven\\'t yet learnt the word')"
   ]
  },
  {
   "cell_type": "markdown",
   "metadata": {},
   "source": [
    "#### excercise 2 - play with python\n",
    "1. make your own dictionary english to your own language (just 5 words)\n",
    "2. write a translation function\n",
    "3. apply translation function on word of your dictionary and on word which is not yet part. what is the output for the latter\n",
    "4. BONUS: iterate over a list of words and translate each word. if word is not part of the dictionary print out that you have not yet learnt the word"
   ]
  },
  {
   "cell_type": "markdown",
   "metadata": {},
   "source": [
    "### learn a little pandas"
   ]
  },
  {
   "cell_type": "code",
   "execution_count": 3,
   "metadata": {
    "collapsed": true
   },
   "outputs": [],
   "source": [
    "import pandas as pd"
   ]
  },
  {
   "cell_type": "code",
   "execution_count": 5,
   "metadata": {
    "collapsed": false
   },
   "outputs": [],
   "source": [
    "data = pd.read_excel('../data/wine_taste.xlsx')"
   ]
  },
  {
   "cell_type": "code",
   "execution_count": 16,
   "metadata": {
    "collapsed": false
   },
   "outputs": [
    {
     "data": {
      "text/html": [
       "<div>\n",
       "<style>\n",
       "    .dataframe thead tr:only-child th {\n",
       "        text-align: right;\n",
       "    }\n",
       "\n",
       "    .dataframe thead th {\n",
       "        text-align: left;\n",
       "    }\n",
       "\n",
       "    .dataframe tbody tr th {\n",
       "        vertical-align: top;\n",
       "    }\n",
       "</style>\n",
       "<table border=\"1\" class=\"dataframe\">\n",
       "  <thead>\n",
       "    <tr style=\"text-align: right;\">\n",
       "      <th></th>\n",
       "      <th>Name</th>\n",
       "      <th>Label</th>\n",
       "      <th>Taste</th>\n",
       "      <th>Gender</th>\n",
       "      <th>Personality</th>\n",
       "      <th>eat_in_or_out</th>\n",
       "    </tr>\n",
       "  </thead>\n",
       "  <tbody>\n",
       "    <tr>\n",
       "      <th>0</th>\n",
       "      <td>Peter</td>\n",
       "      <td>red</td>\n",
       "      <td>sweet</td>\n",
       "      <td>male</td>\n",
       "      <td>introvert</td>\n",
       "      <td>in</td>\n",
       "    </tr>\n",
       "    <tr>\n",
       "      <th>1</th>\n",
       "      <td>Andreas</td>\n",
       "      <td>white</td>\n",
       "      <td>spicy</td>\n",
       "      <td>male</td>\n",
       "      <td>extrovert</td>\n",
       "      <td>in</td>\n",
       "    </tr>\n",
       "    <tr>\n",
       "      <th>2</th>\n",
       "      <td>James</td>\n",
       "      <td>red</td>\n",
       "      <td>sweet</td>\n",
       "      <td>male</td>\n",
       "      <td>extrovert</td>\n",
       "      <td>in</td>\n",
       "    </tr>\n",
       "    <tr>\n",
       "      <th>3</th>\n",
       "      <td>Jim</td>\n",
       "      <td>white</td>\n",
       "      <td>spicy</td>\n",
       "      <td>male</td>\n",
       "      <td>introvert</td>\n",
       "      <td>out</td>\n",
       "    </tr>\n",
       "    <tr>\n",
       "      <th>4</th>\n",
       "      <td>John</td>\n",
       "      <td>white</td>\n",
       "      <td>spicy</td>\n",
       "      <td>male</td>\n",
       "      <td>extrovert</td>\n",
       "      <td>out</td>\n",
       "    </tr>\n",
       "  </tbody>\n",
       "</table>\n",
       "</div>"
      ],
      "text/plain": [
       "      Name  Label  Taste Gender Personality eat_in_or_out\n",
       "0    Peter    red  sweet   male   introvert            in\n",
       "1  Andreas  white  spicy   male   extrovert            in\n",
       "2    James    red  sweet   male   extrovert            in\n",
       "3      Jim  white  spicy   male   introvert           out\n",
       "4     John  white  spicy   male   extrovert           out"
      ]
     },
     "execution_count": 16,
     "metadata": {},
     "output_type": "execute_result"
    }
   ],
   "source": [
    "#inspect....  move your cursor into the brackets data.head(cursor)  and do shit+TAB+TAB for parameters\n",
    "data.head()"
   ]
  },
  {
   "cell_type": "code",
   "execution_count": 17,
   "metadata": {
    "collapsed": false
   },
   "outputs": [
    {
     "data": {
      "text/html": [
       "<div>\n",
       "<style>\n",
       "    .dataframe thead tr:only-child th {\n",
       "        text-align: right;\n",
       "    }\n",
       "\n",
       "    .dataframe thead th {\n",
       "        text-align: left;\n",
       "    }\n",
       "\n",
       "    .dataframe tbody tr th {\n",
       "        vertical-align: top;\n",
       "    }\n",
       "</style>\n",
       "<table border=\"1\" class=\"dataframe\">\n",
       "  <thead>\n",
       "    <tr style=\"text-align: right;\">\n",
       "      <th></th>\n",
       "      <th>Name</th>\n",
       "      <th>Label</th>\n",
       "      <th>Taste</th>\n",
       "      <th>Gender</th>\n",
       "      <th>Personality</th>\n",
       "      <th>eat_in_or_out</th>\n",
       "    </tr>\n",
       "  </thead>\n",
       "  <tbody>\n",
       "    <tr>\n",
       "      <th>15</th>\n",
       "      <td>Ortrud</td>\n",
       "      <td>white</td>\n",
       "      <td>sour</td>\n",
       "      <td>female</td>\n",
       "      <td>introvert</td>\n",
       "      <td>out</td>\n",
       "    </tr>\n",
       "    <tr>\n",
       "      <th>16</th>\n",
       "      <td>Lilly</td>\n",
       "      <td>white</td>\n",
       "      <td>sweet</td>\n",
       "      <td>female</td>\n",
       "      <td>introvert</td>\n",
       "      <td>in</td>\n",
       "    </tr>\n",
       "    <tr>\n",
       "      <th>17</th>\n",
       "      <td>Georgina</td>\n",
       "      <td>rose</td>\n",
       "      <td>hot</td>\n",
       "      <td>male</td>\n",
       "      <td>introvert</td>\n",
       "      <td>out</td>\n",
       "    </tr>\n",
       "    <tr>\n",
       "      <th>18</th>\n",
       "      <td>Patricia</td>\n",
       "      <td>white</td>\n",
       "      <td>spicy</td>\n",
       "      <td>female</td>\n",
       "      <td>extrovert</td>\n",
       "      <td>out</td>\n",
       "    </tr>\n",
       "    <tr>\n",
       "      <th>19</th>\n",
       "      <td>Xavier</td>\n",
       "      <td>rose</td>\n",
       "      <td>spicy</td>\n",
       "      <td>male</td>\n",
       "      <td>extrovert</td>\n",
       "      <td>in</td>\n",
       "    </tr>\n",
       "  </tbody>\n",
       "</table>\n",
       "</div>"
      ],
      "text/plain": [
       "        Name  Label  Taste  Gender Personality eat_in_or_out\n",
       "15    Ortrud  white   sour  female   introvert           out\n",
       "16     Lilly  white  sweet  female   introvert            in\n",
       "17  Georgina   rose    hot    male   introvert           out\n",
       "18  Patricia  white  spicy  female   extrovert           out\n",
       "19    Xavier   rose  spicy    male   extrovert            in"
      ]
     },
     "execution_count": 17,
     "metadata": {},
     "output_type": "execute_result"
    }
   ],
   "source": [
    "data.tail()"
   ]
  },
  {
   "cell_type": "code",
   "execution_count": 18,
   "metadata": {
    "collapsed": false
   },
   "outputs": [
    {
     "data": {
      "text/html": [
       "<div>\n",
       "<style>\n",
       "    .dataframe thead tr:only-child th {\n",
       "        text-align: right;\n",
       "    }\n",
       "\n",
       "    .dataframe thead th {\n",
       "        text-align: left;\n",
       "    }\n",
       "\n",
       "    .dataframe tbody tr th {\n",
       "        vertical-align: top;\n",
       "    }\n",
       "</style>\n",
       "<table border=\"1\" class=\"dataframe\">\n",
       "  <thead>\n",
       "    <tr style=\"text-align: right;\">\n",
       "      <th></th>\n",
       "      <th>Name</th>\n",
       "      <th>Label</th>\n",
       "      <th>Taste</th>\n",
       "      <th>Gender</th>\n",
       "      <th>Personality</th>\n",
       "      <th>eat_in_or_out</th>\n",
       "    </tr>\n",
       "  </thead>\n",
       "  <tbody>\n",
       "    <tr>\n",
       "      <th>count</th>\n",
       "      <td>20</td>\n",
       "      <td>20</td>\n",
       "      <td>20</td>\n",
       "      <td>20</td>\n",
       "      <td>20</td>\n",
       "      <td>20</td>\n",
       "    </tr>\n",
       "    <tr>\n",
       "      <th>unique</th>\n",
       "      <td>20</td>\n",
       "      <td>3</td>\n",
       "      <td>4</td>\n",
       "      <td>2</td>\n",
       "      <td>2</td>\n",
       "      <td>2</td>\n",
       "    </tr>\n",
       "    <tr>\n",
       "      <th>top</th>\n",
       "      <td>Patricia</td>\n",
       "      <td>white</td>\n",
       "      <td>sweet</td>\n",
       "      <td>male</td>\n",
       "      <td>extrovert</td>\n",
       "      <td>out</td>\n",
       "    </tr>\n",
       "    <tr>\n",
       "      <th>freq</th>\n",
       "      <td>1</td>\n",
       "      <td>9</td>\n",
       "      <td>7</td>\n",
       "      <td>14</td>\n",
       "      <td>11</td>\n",
       "      <td>10</td>\n",
       "    </tr>\n",
       "  </tbody>\n",
       "</table>\n",
       "</div>"
      ],
      "text/plain": [
       "            Name  Label  Taste Gender Personality eat_in_or_out\n",
       "count         20     20     20     20          20            20\n",
       "unique        20      3      4      2           2             2\n",
       "top     Patricia  white  sweet   male   extrovert           out\n",
       "freq           1      9      7     14          11            10"
      ]
     },
     "execution_count": 18,
     "metadata": {},
     "output_type": "execute_result"
    }
   ],
   "source": [
    "# describe the data \n",
    "data.describe()"
   ]
  },
  {
   "cell_type": "code",
   "execution_count": 19,
   "metadata": {
    "collapsed": false
   },
   "outputs": [
    {
     "data": {
      "text/html": [
       "<div>\n",
       "<style>\n",
       "    .dataframe thead tr:only-child th {\n",
       "        text-align: right;\n",
       "    }\n",
       "\n",
       "    .dataframe thead th {\n",
       "        text-align: left;\n",
       "    }\n",
       "\n",
       "    .dataframe tbody tr th {\n",
       "        vertical-align: top;\n",
       "    }\n",
       "</style>\n",
       "<table border=\"1\" class=\"dataframe\">\n",
       "  <thead>\n",
       "    <tr style=\"text-align: right;\">\n",
       "      <th></th>\n",
       "      <th>Name</th>\n",
       "      <th>Label</th>\n",
       "      <th>Taste</th>\n",
       "      <th>Gender</th>\n",
       "      <th>Personality</th>\n",
       "      <th>eat_in_or_out</th>\n",
       "    </tr>\n",
       "  </thead>\n",
       "  <tbody>\n",
       "    <tr>\n",
       "      <th>1</th>\n",
       "      <td>Andreas</td>\n",
       "      <td>white</td>\n",
       "      <td>spicy</td>\n",
       "      <td>male</td>\n",
       "      <td>extrovert</td>\n",
       "      <td>in</td>\n",
       "    </tr>\n",
       "    <tr>\n",
       "      <th>3</th>\n",
       "      <td>Jim</td>\n",
       "      <td>white</td>\n",
       "      <td>spicy</td>\n",
       "      <td>male</td>\n",
       "      <td>introvert</td>\n",
       "      <td>out</td>\n",
       "    </tr>\n",
       "    <tr>\n",
       "      <th>4</th>\n",
       "      <td>John</td>\n",
       "      <td>white</td>\n",
       "      <td>spicy</td>\n",
       "      <td>male</td>\n",
       "      <td>extrovert</td>\n",
       "      <td>out</td>\n",
       "    </tr>\n",
       "    <tr>\n",
       "      <th>5</th>\n",
       "      <td>Daniel</td>\n",
       "      <td>white</td>\n",
       "      <td>hot</td>\n",
       "      <td>male</td>\n",
       "      <td>extrovert</td>\n",
       "      <td>in</td>\n",
       "    </tr>\n",
       "    <tr>\n",
       "      <th>10</th>\n",
       "      <td>Ben</td>\n",
       "      <td>white</td>\n",
       "      <td>sweet</td>\n",
       "      <td>male</td>\n",
       "      <td>introvert</td>\n",
       "      <td>out</td>\n",
       "    </tr>\n",
       "    <tr>\n",
       "      <th>11</th>\n",
       "      <td>Zac</td>\n",
       "      <td>white</td>\n",
       "      <td>sour</td>\n",
       "      <td>male</td>\n",
       "      <td>introvert</td>\n",
       "      <td>in</td>\n",
       "    </tr>\n",
       "    <tr>\n",
       "      <th>15</th>\n",
       "      <td>Ortrud</td>\n",
       "      <td>white</td>\n",
       "      <td>sour</td>\n",
       "      <td>female</td>\n",
       "      <td>introvert</td>\n",
       "      <td>out</td>\n",
       "    </tr>\n",
       "    <tr>\n",
       "      <th>16</th>\n",
       "      <td>Lilly</td>\n",
       "      <td>white</td>\n",
       "      <td>sweet</td>\n",
       "      <td>female</td>\n",
       "      <td>introvert</td>\n",
       "      <td>in</td>\n",
       "    </tr>\n",
       "    <tr>\n",
       "      <th>18</th>\n",
       "      <td>Patricia</td>\n",
       "      <td>white</td>\n",
       "      <td>spicy</td>\n",
       "      <td>female</td>\n",
       "      <td>extrovert</td>\n",
       "      <td>out</td>\n",
       "    </tr>\n",
       "  </tbody>\n",
       "</table>\n",
       "</div>"
      ],
      "text/plain": [
       "        Name  Label  Taste  Gender Personality eat_in_or_out\n",
       "1    Andreas  white  spicy    male   extrovert            in\n",
       "3        Jim  white  spicy    male   introvert           out\n",
       "4       John  white  spicy    male   extrovert           out\n",
       "5     Daniel  white    hot    male   extrovert            in\n",
       "10       Ben  white  sweet    male   introvert           out\n",
       "11       Zac  white   sour    male   introvert            in\n",
       "15    Ortrud  white   sour  female   introvert           out\n",
       "16     Lilly  white  sweet  female   introvert            in\n",
       "18  Patricia  white  spicy  female   extrovert           out"
      ]
     },
     "execution_count": 19,
     "metadata": {},
     "output_type": "execute_result"
    }
   ],
   "source": [
    "# query the data\n",
    "data.query('Label == \"white\"')  # combinations possible"
   ]
  },
  {
   "cell_type": "code",
   "execution_count": 20,
   "metadata": {
    "collapsed": false
   },
   "outputs": [
    {
     "data": {
      "text/html": [
       "<div>\n",
       "<style>\n",
       "    .dataframe thead tr:only-child th {\n",
       "        text-align: right;\n",
       "    }\n",
       "\n",
       "    .dataframe thead th {\n",
       "        text-align: left;\n",
       "    }\n",
       "\n",
       "    .dataframe tbody tr th {\n",
       "        vertical-align: top;\n",
       "    }\n",
       "</style>\n",
       "<table border=\"1\" class=\"dataframe\">\n",
       "  <thead>\n",
       "    <tr style=\"text-align: right;\">\n",
       "      <th></th>\n",
       "      <th>Name</th>\n",
       "      <th>Label</th>\n",
       "      <th>Taste</th>\n",
       "      <th>Gender</th>\n",
       "      <th>Personality</th>\n",
       "      <th>eat_in_or_out</th>\n",
       "    </tr>\n",
       "  </thead>\n",
       "  <tbody>\n",
       "    <tr>\n",
       "      <th>3</th>\n",
       "      <td>Jim</td>\n",
       "      <td>white</td>\n",
       "      <td>spicy</td>\n",
       "      <td>male</td>\n",
       "      <td>introvert</td>\n",
       "      <td>out</td>\n",
       "    </tr>\n",
       "  </tbody>\n",
       "</table>\n",
       "</div>"
      ],
      "text/plain": [
       "  Name  Label  Taste Gender Personality eat_in_or_out\n",
       "3  Jim  white  spicy   male   introvert           out"
      ]
     },
     "execution_count": 20,
     "metadata": {},
     "output_type": "execute_result"
    }
   ],
   "source": [
    "# get specific row as dataframe\n",
    "data.loc[[3],:]"
   ]
  },
  {
   "cell_type": "code",
   "execution_count": 21,
   "metadata": {
    "collapsed": false
   },
   "outputs": [
    {
     "data": {
      "text/html": [
       "<div>\n",
       "<style>\n",
       "    .dataframe thead tr:only-child th {\n",
       "        text-align: right;\n",
       "    }\n",
       "\n",
       "    .dataframe thead th {\n",
       "        text-align: left;\n",
       "    }\n",
       "\n",
       "    .dataframe tbody tr th {\n",
       "        vertical-align: top;\n",
       "    }\n",
       "</style>\n",
       "<table border=\"1\" class=\"dataframe\">\n",
       "  <thead>\n",
       "    <tr style=\"text-align: right;\">\n",
       "      <th></th>\n",
       "      <th>Name</th>\n",
       "      <th>Label</th>\n",
       "      <th>Taste</th>\n",
       "      <th>Gender</th>\n",
       "      <th>Personality</th>\n",
       "      <th>eat_in_or_out</th>\n",
       "    </tr>\n",
       "  </thead>\n",
       "  <tbody>\n",
       "    <tr>\n",
       "      <th>3</th>\n",
       "      <td>Jim</td>\n",
       "      <td>white</td>\n",
       "      <td>spicy</td>\n",
       "      <td>male</td>\n",
       "      <td>introvert</td>\n",
       "      <td>out</td>\n",
       "    </tr>\n",
       "    <tr>\n",
       "      <th>4</th>\n",
       "      <td>John</td>\n",
       "      <td>white</td>\n",
       "      <td>spicy</td>\n",
       "      <td>male</td>\n",
       "      <td>extrovert</td>\n",
       "      <td>out</td>\n",
       "    </tr>\n",
       "    <tr>\n",
       "      <th>5</th>\n",
       "      <td>Daniel</td>\n",
       "      <td>white</td>\n",
       "      <td>hot</td>\n",
       "      <td>male</td>\n",
       "      <td>extrovert</td>\n",
       "      <td>in</td>\n",
       "    </tr>\n",
       "  </tbody>\n",
       "</table>\n",
       "</div>"
      ],
      "text/plain": [
       "     Name  Label  Taste Gender Personality eat_in_or_out\n",
       "3     Jim  white  spicy   male   introvert           out\n",
       "4    John  white  spicy   male   extrovert           out\n",
       "5  Daniel  white    hot   male   extrovert            in"
      ]
     },
     "execution_count": 21,
     "metadata": {},
     "output_type": "execute_result"
    }
   ],
   "source": [
    "# get specific rows\n",
    "data.loc[[3,4,5],:]"
   ]
  },
  {
   "cell_type": "code",
   "execution_count": 22,
   "metadata": {
    "collapsed": true
   },
   "outputs": [],
   "source": [
    "# set index\n",
    "data = data.set_index('Name')"
   ]
  },
  {
   "cell_type": "code",
   "execution_count": 23,
   "metadata": {
    "collapsed": false
   },
   "outputs": [
    {
     "data": {
      "text/html": [
       "<div>\n",
       "<style>\n",
       "    .dataframe thead tr:only-child th {\n",
       "        text-align: right;\n",
       "    }\n",
       "\n",
       "    .dataframe thead th {\n",
       "        text-align: left;\n",
       "    }\n",
       "\n",
       "    .dataframe tbody tr th {\n",
       "        vertical-align: top;\n",
       "    }\n",
       "</style>\n",
       "<table border=\"1\" class=\"dataframe\">\n",
       "  <thead>\n",
       "    <tr style=\"text-align: right;\">\n",
       "      <th></th>\n",
       "      <th>Label</th>\n",
       "      <th>Taste</th>\n",
       "      <th>Gender</th>\n",
       "      <th>Personality</th>\n",
       "      <th>eat_in_or_out</th>\n",
       "    </tr>\n",
       "    <tr>\n",
       "      <th>Name</th>\n",
       "      <th></th>\n",
       "      <th></th>\n",
       "      <th></th>\n",
       "      <th></th>\n",
       "      <th></th>\n",
       "    </tr>\n",
       "  </thead>\n",
       "  <tbody>\n",
       "    <tr>\n",
       "      <th>Peter</th>\n",
       "      <td>red</td>\n",
       "      <td>sweet</td>\n",
       "      <td>male</td>\n",
       "      <td>introvert</td>\n",
       "      <td>in</td>\n",
       "    </tr>\n",
       "    <tr>\n",
       "      <th>Andreas</th>\n",
       "      <td>white</td>\n",
       "      <td>spicy</td>\n",
       "      <td>male</td>\n",
       "      <td>extrovert</td>\n",
       "      <td>in</td>\n",
       "    </tr>\n",
       "    <tr>\n",
       "      <th>James</th>\n",
       "      <td>red</td>\n",
       "      <td>sweet</td>\n",
       "      <td>male</td>\n",
       "      <td>extrovert</td>\n",
       "      <td>in</td>\n",
       "    </tr>\n",
       "    <tr>\n",
       "      <th>Jim</th>\n",
       "      <td>white</td>\n",
       "      <td>spicy</td>\n",
       "      <td>male</td>\n",
       "      <td>introvert</td>\n",
       "      <td>out</td>\n",
       "    </tr>\n",
       "    <tr>\n",
       "      <th>John</th>\n",
       "      <td>white</td>\n",
       "      <td>spicy</td>\n",
       "      <td>male</td>\n",
       "      <td>extrovert</td>\n",
       "      <td>out</td>\n",
       "    </tr>\n",
       "  </tbody>\n",
       "</table>\n",
       "</div>"
      ],
      "text/plain": [
       "         Label  Taste Gender Personality eat_in_or_out\n",
       "Name                                                  \n",
       "Peter      red  sweet   male   introvert            in\n",
       "Andreas  white  spicy   male   extrovert            in\n",
       "James      red  sweet   male   extrovert            in\n",
       "Jim      white  spicy   male   introvert           out\n",
       "John     white  spicy   male   extrovert           out"
      ]
     },
     "execution_count": 23,
     "metadata": {},
     "output_type": "execute_result"
    }
   ],
   "source": [
    "data.head()"
   ]
  },
  {
   "cell_type": "code",
   "execution_count": 24,
   "metadata": {
    "collapsed": false
   },
   "outputs": [
    {
     "data": {
      "text/html": [
       "<div>\n",
       "<style>\n",
       "    .dataframe thead tr:only-child th {\n",
       "        text-align: right;\n",
       "    }\n",
       "\n",
       "    .dataframe thead th {\n",
       "        text-align: left;\n",
       "    }\n",
       "\n",
       "    .dataframe tbody tr th {\n",
       "        vertical-align: top;\n",
       "    }\n",
       "</style>\n",
       "<table border=\"1\" class=\"dataframe\">\n",
       "  <thead>\n",
       "    <tr style=\"text-align: right;\">\n",
       "      <th></th>\n",
       "      <th>Label</th>\n",
       "      <th>Taste</th>\n",
       "      <th>Gender</th>\n",
       "      <th>Personality</th>\n",
       "      <th>eat_in_or_out</th>\n",
       "    </tr>\n",
       "    <tr>\n",
       "      <th>Name</th>\n",
       "      <th></th>\n",
       "      <th></th>\n",
       "      <th></th>\n",
       "      <th></th>\n",
       "      <th></th>\n",
       "    </tr>\n",
       "  </thead>\n",
       "  <tbody>\n",
       "    <tr>\n",
       "      <th>Peter</th>\n",
       "      <td>red</td>\n",
       "      <td>sweet</td>\n",
       "      <td>male</td>\n",
       "      <td>introvert</td>\n",
       "      <td>in</td>\n",
       "    </tr>\n",
       "    <tr>\n",
       "      <th>Andreas</th>\n",
       "      <td>white</td>\n",
       "      <td>spicy</td>\n",
       "      <td>male</td>\n",
       "      <td>extrovert</td>\n",
       "      <td>in</td>\n",
       "    </tr>\n",
       "    <tr>\n",
       "      <th>Georgina</th>\n",
       "      <td>rose</td>\n",
       "      <td>hot</td>\n",
       "      <td>male</td>\n",
       "      <td>introvert</td>\n",
       "      <td>out</td>\n",
       "    </tr>\n",
       "  </tbody>\n",
       "</table>\n",
       "</div>"
      ],
      "text/plain": [
       "          Label  Taste Gender Personality eat_in_or_out\n",
       "Name                                                   \n",
       "Peter       red  sweet   male   introvert            in\n",
       "Andreas   white  spicy   male   extrovert            in\n",
       "Georgina   rose    hot   male   introvert           out"
      ]
     },
     "execution_count": 24,
     "metadata": {},
     "output_type": "execute_result"
    }
   ],
   "source": [
    "# get row by name\n",
    "data.loc[['Peter','Andreas','Georgina'],:]"
   ]
  },
  {
   "cell_type": "code",
   "execution_count": 25,
   "metadata": {
    "collapsed": false
   },
   "outputs": [
    {
     "data": {
      "text/html": [
       "<div>\n",
       "<style>\n",
       "    .dataframe thead tr:only-child th {\n",
       "        text-align: right;\n",
       "    }\n",
       "\n",
       "    .dataframe thead th {\n",
       "        text-align: left;\n",
       "    }\n",
       "\n",
       "    .dataframe tbody tr th {\n",
       "        vertical-align: top;\n",
       "    }\n",
       "</style>\n",
       "<table border=\"1\" class=\"dataframe\">\n",
       "  <thead>\n",
       "    <tr style=\"text-align: right;\">\n",
       "      <th></th>\n",
       "      <th>eat_in_or_out</th>\n",
       "      <th>Personality</th>\n",
       "    </tr>\n",
       "    <tr>\n",
       "      <th>Name</th>\n",
       "      <th></th>\n",
       "      <th></th>\n",
       "    </tr>\n",
       "  </thead>\n",
       "  <tbody>\n",
       "    <tr>\n",
       "      <th>Peter</th>\n",
       "      <td>in</td>\n",
       "      <td>introvert</td>\n",
       "    </tr>\n",
       "    <tr>\n",
       "      <th>Andreas</th>\n",
       "      <td>in</td>\n",
       "      <td>extrovert</td>\n",
       "    </tr>\n",
       "    <tr>\n",
       "      <th>Georgina</th>\n",
       "      <td>out</td>\n",
       "      <td>introvert</td>\n",
       "    </tr>\n",
       "  </tbody>\n",
       "</table>\n",
       "</div>"
      ],
      "text/plain": [
       "         eat_in_or_out Personality\n",
       "Name                              \n",
       "Peter               in   introvert\n",
       "Andreas             in   extrovert\n",
       "Georgina           out   introvert"
      ]
     },
     "execution_count": 25,
     "metadata": {},
     "output_type": "execute_result"
    }
   ],
   "source": [
    "# show select columns\n",
    "data.loc[['Peter','Andreas','Georgina'],['eat_in_or_out','Personality']]"
   ]
  },
  {
   "cell_type": "code",
   "execution_count": 26,
   "metadata": {
    "collapsed": true
   },
   "outputs": [],
   "source": [
    "# join data from other sheet\n",
    "jobs = pd.read_excel('data/attributes.xlsx')"
   ]
  },
  {
   "cell_type": "code",
   "execution_count": 27,
   "metadata": {
    "collapsed": false
   },
   "outputs": [
    {
     "data": {
      "text/html": [
       "<div>\n",
       "<style>\n",
       "    .dataframe thead tr:only-child th {\n",
       "        text-align: right;\n",
       "    }\n",
       "\n",
       "    .dataframe thead th {\n",
       "        text-align: left;\n",
       "    }\n",
       "\n",
       "    .dataframe tbody tr th {\n",
       "        vertical-align: top;\n",
       "    }\n",
       "</style>\n",
       "<table border=\"1\" class=\"dataframe\">\n",
       "  <thead>\n",
       "    <tr style=\"text-align: right;\">\n",
       "      <th></th>\n",
       "      <th>Name</th>\n",
       "      <th>Job</th>\n",
       "      <th>Size</th>\n",
       "    </tr>\n",
       "  </thead>\n",
       "  <tbody>\n",
       "    <tr>\n",
       "      <th>0</th>\n",
       "      <td>Peter</td>\n",
       "      <td>medical doctor</td>\n",
       "      <td>170</td>\n",
       "    </tr>\n",
       "    <tr>\n",
       "      <th>1</th>\n",
       "      <td>Andreas</td>\n",
       "      <td>data scientist</td>\n",
       "      <td>182</td>\n",
       "    </tr>\n",
       "    <tr>\n",
       "      <th>2</th>\n",
       "      <td>James</td>\n",
       "      <td>preacher man</td>\n",
       "      <td>190</td>\n",
       "    </tr>\n",
       "    <tr>\n",
       "      <th>3</th>\n",
       "      <td>Jim</td>\n",
       "      <td>professor</td>\n",
       "      <td>188</td>\n",
       "    </tr>\n",
       "    <tr>\n",
       "      <th>4</th>\n",
       "      <td>John</td>\n",
       "      <td>post office officer</td>\n",
       "      <td>176</td>\n",
       "    </tr>\n",
       "  </tbody>\n",
       "</table>\n",
       "</div>"
      ],
      "text/plain": [
       "      Name                  Job  Size\n",
       "0    Peter       medical doctor   170\n",
       "1  Andreas       data scientist   182\n",
       "2    James         preacher man   190\n",
       "3      Jim            professor   188\n",
       "4     John  post office officer   176"
      ]
     },
     "execution_count": 27,
     "metadata": {},
     "output_type": "execute_result"
    }
   ],
   "source": [
    "jobs.head()"
   ]
  },
  {
   "cell_type": "code",
   "execution_count": 28,
   "metadata": {
    "collapsed": false,
    "scrolled": true
   },
   "outputs": [],
   "source": [
    "# set index to Name\n",
    "jobs = jobs.set_index('Name')"
   ]
  },
  {
   "cell_type": "code",
   "execution_count": 29,
   "metadata": {
    "collapsed": false
   },
   "outputs": [
    {
     "data": {
      "text/html": [
       "<div>\n",
       "<style>\n",
       "    .dataframe thead tr:only-child th {\n",
       "        text-align: right;\n",
       "    }\n",
       "\n",
       "    .dataframe thead th {\n",
       "        text-align: left;\n",
       "    }\n",
       "\n",
       "    .dataframe tbody tr th {\n",
       "        vertical-align: top;\n",
       "    }\n",
       "</style>\n",
       "<table border=\"1\" class=\"dataframe\">\n",
       "  <thead>\n",
       "    <tr style=\"text-align: right;\">\n",
       "      <th></th>\n",
       "      <th>Label</th>\n",
       "      <th>Taste</th>\n",
       "      <th>Gender</th>\n",
       "      <th>Personality</th>\n",
       "      <th>eat_in_or_out</th>\n",
       "      <th>Job</th>\n",
       "      <th>Size</th>\n",
       "    </tr>\n",
       "    <tr>\n",
       "      <th>Name</th>\n",
       "      <th></th>\n",
       "      <th></th>\n",
       "      <th></th>\n",
       "      <th></th>\n",
       "      <th></th>\n",
       "      <th></th>\n",
       "      <th></th>\n",
       "    </tr>\n",
       "  </thead>\n",
       "  <tbody>\n",
       "    <tr>\n",
       "      <th>Peter</th>\n",
       "      <td>red</td>\n",
       "      <td>sweet</td>\n",
       "      <td>male</td>\n",
       "      <td>introvert</td>\n",
       "      <td>in</td>\n",
       "      <td>medical doctor</td>\n",
       "      <td>170</td>\n",
       "    </tr>\n",
       "    <tr>\n",
       "      <th>Andreas</th>\n",
       "      <td>white</td>\n",
       "      <td>spicy</td>\n",
       "      <td>male</td>\n",
       "      <td>extrovert</td>\n",
       "      <td>in</td>\n",
       "      <td>data scientist</td>\n",
       "      <td>182</td>\n",
       "    </tr>\n",
       "    <tr>\n",
       "      <th>James</th>\n",
       "      <td>red</td>\n",
       "      <td>sweet</td>\n",
       "      <td>male</td>\n",
       "      <td>extrovert</td>\n",
       "      <td>in</td>\n",
       "      <td>preacher man</td>\n",
       "      <td>190</td>\n",
       "    </tr>\n",
       "    <tr>\n",
       "      <th>Jim</th>\n",
       "      <td>white</td>\n",
       "      <td>spicy</td>\n",
       "      <td>male</td>\n",
       "      <td>introvert</td>\n",
       "      <td>out</td>\n",
       "      <td>professor</td>\n",
       "      <td>188</td>\n",
       "    </tr>\n",
       "    <tr>\n",
       "      <th>John</th>\n",
       "      <td>white</td>\n",
       "      <td>spicy</td>\n",
       "      <td>male</td>\n",
       "      <td>extrovert</td>\n",
       "      <td>out</td>\n",
       "      <td>post office officer</td>\n",
       "      <td>176</td>\n",
       "    </tr>\n",
       "  </tbody>\n",
       "</table>\n",
       "</div>"
      ],
      "text/plain": [
       "         Label  Taste Gender Personality eat_in_or_out                  Job  \\\n",
       "Name                                                                          \n",
       "Peter      red  sweet   male   introvert            in       medical doctor   \n",
       "Andreas  white  spicy   male   extrovert            in       data scientist   \n",
       "James      red  sweet   male   extrovert            in         preacher man   \n",
       "Jim      white  spicy   male   introvert           out            professor   \n",
       "John     white  spicy   male   extrovert           out  post office officer   \n",
       "\n",
       "         Size  \n",
       "Name           \n",
       "Peter     170  \n",
       "Andreas   182  \n",
       "James     190  \n",
       "Jim       188  \n",
       "John      176  "
      ]
     },
     "execution_count": 29,
     "metadata": {},
     "output_type": "execute_result"
    }
   ],
   "source": [
    "# now join\n",
    "joined = data.join(jobs)\n",
    "joined.head()"
   ]
  },
  {
   "cell_type": "code",
   "execution_count": 30,
   "metadata": {
    "collapsed": false
   },
   "outputs": [
    {
     "data": {
      "text/html": [
       "<div>\n",
       "<style>\n",
       "    .dataframe thead tr:only-child th {\n",
       "        text-align: right;\n",
       "    }\n",
       "\n",
       "    .dataframe thead th {\n",
       "        text-align: left;\n",
       "    }\n",
       "\n",
       "    .dataframe tbody tr th {\n",
       "        vertical-align: top;\n",
       "    }\n",
       "</style>\n",
       "<table border=\"1\" class=\"dataframe\">\n",
       "  <thead>\n",
       "    <tr style=\"text-align: right;\">\n",
       "      <th></th>\n",
       "      <th>Label</th>\n",
       "      <th>Taste</th>\n",
       "      <th>Gender</th>\n",
       "      <th>Personality</th>\n",
       "      <th>eat_in_or_out</th>\n",
       "      <th>Job</th>\n",
       "      <th>Bodysize</th>\n",
       "    </tr>\n",
       "    <tr>\n",
       "      <th>Name</th>\n",
       "      <th></th>\n",
       "      <th></th>\n",
       "      <th></th>\n",
       "      <th></th>\n",
       "      <th></th>\n",
       "      <th></th>\n",
       "      <th></th>\n",
       "    </tr>\n",
       "  </thead>\n",
       "  <tbody>\n",
       "    <tr>\n",
       "      <th>Peter</th>\n",
       "      <td>red</td>\n",
       "      <td>sweet</td>\n",
       "      <td>male</td>\n",
       "      <td>introvert</td>\n",
       "      <td>in</td>\n",
       "      <td>medical doctor</td>\n",
       "      <td>170</td>\n",
       "    </tr>\n",
       "    <tr>\n",
       "      <th>Andreas</th>\n",
       "      <td>white</td>\n",
       "      <td>spicy</td>\n",
       "      <td>male</td>\n",
       "      <td>extrovert</td>\n",
       "      <td>in</td>\n",
       "      <td>data scientist</td>\n",
       "      <td>182</td>\n",
       "    </tr>\n",
       "    <tr>\n",
       "      <th>James</th>\n",
       "      <td>red</td>\n",
       "      <td>sweet</td>\n",
       "      <td>male</td>\n",
       "      <td>extrovert</td>\n",
       "      <td>in</td>\n",
       "      <td>preacher man</td>\n",
       "      <td>190</td>\n",
       "    </tr>\n",
       "    <tr>\n",
       "      <th>Jim</th>\n",
       "      <td>white</td>\n",
       "      <td>spicy</td>\n",
       "      <td>male</td>\n",
       "      <td>introvert</td>\n",
       "      <td>out</td>\n",
       "      <td>professor</td>\n",
       "      <td>188</td>\n",
       "    </tr>\n",
       "    <tr>\n",
       "      <th>John</th>\n",
       "      <td>white</td>\n",
       "      <td>spicy</td>\n",
       "      <td>male</td>\n",
       "      <td>extrovert</td>\n",
       "      <td>out</td>\n",
       "      <td>post office officer</td>\n",
       "      <td>176</td>\n",
       "    </tr>\n",
       "  </tbody>\n",
       "</table>\n",
       "</div>"
      ],
      "text/plain": [
       "         Label  Taste Gender Personality eat_in_or_out                  Job  \\\n",
       "Name                                                                          \n",
       "Peter      red  sweet   male   introvert            in       medical doctor   \n",
       "Andreas  white  spicy   male   extrovert            in       data scientist   \n",
       "James      red  sweet   male   extrovert            in         preacher man   \n",
       "Jim      white  spicy   male   introvert           out            professor   \n",
       "John     white  spicy   male   extrovert           out  post office officer   \n",
       "\n",
       "         Bodysize  \n",
       "Name               \n",
       "Peter         170  \n",
       "Andreas       182  \n",
       "James         190  \n",
       "Jim           188  \n",
       "John          176  "
      ]
     },
     "execution_count": 30,
     "metadata": {},
     "output_type": "execute_result"
    }
   ],
   "source": [
    "# rename a column\n",
    "joined = joined.rename(columns = {'Size':'Bodysize'})\n",
    "joined.head()"
   ]
  },
  {
   "cell_type": "code",
   "execution_count": 31,
   "metadata": {
    "collapsed": true
   },
   "outputs": [],
   "source": [
    "# write out dataframe as csv\n",
    "joined.to_csv('data/joined_wine_and_jobs.tab', sep = '\\t')"
   ]
  },
  {
   "cell_type": "markdown",
   "metadata": {},
   "source": [
    "#### excercises 3 - interact with dataframes\n",
    "1. display what persons are extroverts?\n",
    "2. how many people prefer eating in restaurants?\n",
    "3. how many people that like spicy food like red wine?\n",
    "4. write out the dataframe as a semicolon separated flatfile and an excel file\n",
    "5. convert dataframe to a dictionary using the dataframe method to dict\n",
    "6. BONUS: filter for rows where the Index Name starts with an A\n"
   ]
  },
  {
   "cell_type": "markdown",
   "metadata": {},
   "source": [
    "### visualization"
   ]
  },
  {
   "cell_type": "code",
   "execution_count": 32,
   "metadata": {
    "collapsed": false
   },
   "outputs": [
    {
     "name": "stdout",
     "output_type": "stream",
     "text": [
      "Populating the interactive namespace from numpy and matplotlib\n"
     ]
    }
   ],
   "source": [
    "import seaborn as sns\n",
    "%pylab inline"
   ]
  },
  {
   "cell_type": "code",
   "execution_count": 33,
   "metadata": {
    "collapsed": false
   },
   "outputs": [
    {
     "data": {
      "text/plain": [
       "sweet    7\n",
       "spicy    5\n",
       "hot      4\n",
       "sour     4\n",
       "Name: Taste, dtype: int64"
      ]
     },
     "execution_count": 33,
     "metadata": {},
     "output_type": "execute_result"
    }
   ],
   "source": [
    "# count\n",
    "data.Taste.value_counts()"
   ]
  },
  {
   "cell_type": "code",
   "execution_count": 34,
   "metadata": {
    "collapsed": false
   },
   "outputs": [
    {
     "data": {
      "text/plain": [
       "<matplotlib.text.Text at 0x7fcdc6e51080>"
      ]
     },
     "execution_count": 34,
     "metadata": {},
     "output_type": "execute_result"
    },
    {
     "data": {
      "image/png": "[encoded data removed]",
      "text/plain": [
       "<matplotlib.figure.Figure at 0x7fcdc6e8ec88>"
      ]
     },
     "metadata": {},
     "output_type": "display_data"
    }
   ],
   "source": [
    "# simple barplot\n",
    "data.Taste.value_counts().plot.bar()\n",
    "plt.ylabel('frequency')"
   ]
  },
  {
   "cell_type": "code",
   "execution_count": 35,
   "metadata": {
    "collapsed": false
   },
   "outputs": [
    {
     "data": {
      "image/png": "[encoded data removed]",
      "text/plain": [
       "<matplotlib.figure.Figure at 0x7fcdc6df0438>"
      ]
     },
     "metadata": {},
     "output_type": "display_data"
    }
   ],
   "source": [
    "# slightly nicer settings\n",
    "sns.set_context('talk')\n",
    "sns.set_style('white')\n",
    "data.Taste.value_counts().plot.bar()\n",
    "plt.ylabel('frequency')\n",
    "sns.despine()"
   ]
  },
  {
   "cell_type": "code",
   "execution_count": 36,
   "metadata": {
    "collapsed": false
   },
   "outputs": [
    {
     "data": {
      "image/png": "[encoded data removed]",
      "text/plain": [
       "<matplotlib.figure.Figure at 0x7fcdbb540fd0>"
      ]
     },
     "metadata": {},
     "output_type": "display_data"
    }
   ],
   "source": [
    "# slightly nicer settings and save the picture\n",
    "sns.set_context('talk')\n",
    "sns.set_style('white')\n",
    "data.Taste.value_counts().plot.bar()\n",
    "sns.despine()\n",
    "plt.savefig('taste_frequency_plot.png')"
   ]
  },
  {
   "cell_type": "code",
   "execution_count": 37,
   "metadata": {
    "collapsed": false
   },
   "outputs": [
    {
     "data": {
      "text/html": [
       "<div>\n",
       "<style>\n",
       "    .dataframe thead tr:only-child th {\n",
       "        text-align: right;\n",
       "    }\n",
       "\n",
       "    .dataframe thead th {\n",
       "        text-align: left;\n",
       "    }\n",
       "\n",
       "    .dataframe tbody tr th {\n",
       "        vertical-align: top;\n",
       "    }\n",
       "</style>\n",
       "<table border=\"1\" class=\"dataframe\">\n",
       "  <thead>\n",
       "    <tr style=\"text-align: right;\">\n",
       "      <th></th>\n",
       "      <th>Label</th>\n",
       "      <th>Taste</th>\n",
       "      <th>Gender</th>\n",
       "      <th>Personality</th>\n",
       "      <th>eat_in_or_out</th>\n",
       "    </tr>\n",
       "    <tr>\n",
       "      <th>Name</th>\n",
       "      <th></th>\n",
       "      <th></th>\n",
       "      <th></th>\n",
       "      <th></th>\n",
       "      <th></th>\n",
       "    </tr>\n",
       "  </thead>\n",
       "  <tbody>\n",
       "    <tr>\n",
       "      <th>Peter</th>\n",
       "      <td>red</td>\n",
       "      <td>sweet</td>\n",
       "      <td>male</td>\n",
       "      <td>introvert</td>\n",
       "      <td>in</td>\n",
       "    </tr>\n",
       "    <tr>\n",
       "      <th>Andreas</th>\n",
       "      <td>white</td>\n",
       "      <td>spicy</td>\n",
       "      <td>male</td>\n",
       "      <td>extrovert</td>\n",
       "      <td>in</td>\n",
       "    </tr>\n",
       "    <tr>\n",
       "      <th>James</th>\n",
       "      <td>red</td>\n",
       "      <td>sweet</td>\n",
       "      <td>male</td>\n",
       "      <td>extrovert</td>\n",
       "      <td>in</td>\n",
       "    </tr>\n",
       "    <tr>\n",
       "      <th>Jim</th>\n",
       "      <td>white</td>\n",
       "      <td>spicy</td>\n",
       "      <td>male</td>\n",
       "      <td>introvert</td>\n",
       "      <td>out</td>\n",
       "    </tr>\n",
       "    <tr>\n",
       "      <th>John</th>\n",
       "      <td>white</td>\n",
       "      <td>spicy</td>\n",
       "      <td>male</td>\n",
       "      <td>extrovert</td>\n",
       "      <td>out</td>\n",
       "    </tr>\n",
       "  </tbody>\n",
       "</table>\n",
       "</div>"
      ],
      "text/plain": [
       "         Label  Taste Gender Personality eat_in_or_out\n",
       "Name                                                  \n",
       "Peter      red  sweet   male   introvert            in\n",
       "Andreas  white  spicy   male   extrovert            in\n",
       "James      red  sweet   male   extrovert            in\n",
       "Jim      white  spicy   male   introvert           out\n",
       "John     white  spicy   male   extrovert           out"
      ]
     },
     "execution_count": 37,
     "metadata": {},
     "output_type": "execute_result"
    }
   ],
   "source": [
    "data.head()"
   ]
  },
  {
   "cell_type": "code",
   "execution_count": 38,
   "metadata": {
    "collapsed": false
   },
   "outputs": [
    {
     "data": {
      "text/html": [
       "<div>\n",
       "<style>\n",
       "    .dataframe thead tr:only-child th {\n",
       "        text-align: right;\n",
       "    }\n",
       "\n",
       "    .dataframe thead th {\n",
       "        text-align: left;\n",
       "    }\n",
       "\n",
       "    .dataframe tbody tr th {\n",
       "        vertical-align: top;\n",
       "    }\n",
       "</style>\n",
       "<table border=\"1\" class=\"dataframe\">\n",
       "  <thead>\n",
       "    <tr style=\"text-align: right;\">\n",
       "      <th></th>\n",
       "      <th>Label</th>\n",
       "      <th>Taste</th>\n",
       "      <th>Gender</th>\n",
       "      <th>Personality</th>\n",
       "      <th>eat_in_or_out</th>\n",
       "      <th>Job</th>\n",
       "      <th>Bodysize</th>\n",
       "    </tr>\n",
       "    <tr>\n",
       "      <th>Name</th>\n",
       "      <th></th>\n",
       "      <th></th>\n",
       "      <th></th>\n",
       "      <th></th>\n",
       "      <th></th>\n",
       "      <th></th>\n",
       "      <th></th>\n",
       "    </tr>\n",
       "  </thead>\n",
       "  <tbody>\n",
       "    <tr>\n",
       "      <th>Peter</th>\n",
       "      <td>red</td>\n",
       "      <td>sweet</td>\n",
       "      <td>male</td>\n",
       "      <td>introvert</td>\n",
       "      <td>in</td>\n",
       "      <td>medical doctor</td>\n",
       "      <td>170</td>\n",
       "    </tr>\n",
       "    <tr>\n",
       "      <th>Andreas</th>\n",
       "      <td>white</td>\n",
       "      <td>spicy</td>\n",
       "      <td>male</td>\n",
       "      <td>extrovert</td>\n",
       "      <td>in</td>\n",
       "      <td>data scientist</td>\n",
       "      <td>182</td>\n",
       "    </tr>\n",
       "    <tr>\n",
       "      <th>James</th>\n",
       "      <td>red</td>\n",
       "      <td>sweet</td>\n",
       "      <td>male</td>\n",
       "      <td>extrovert</td>\n",
       "      <td>in</td>\n",
       "      <td>preacher man</td>\n",
       "      <td>190</td>\n",
       "    </tr>\n",
       "    <tr>\n",
       "      <th>Jim</th>\n",
       "      <td>white</td>\n",
       "      <td>spicy</td>\n",
       "      <td>male</td>\n",
       "      <td>introvert</td>\n",
       "      <td>out</td>\n",
       "      <td>professor</td>\n",
       "      <td>188</td>\n",
       "    </tr>\n",
       "    <tr>\n",
       "      <th>John</th>\n",
       "      <td>white</td>\n",
       "      <td>spicy</td>\n",
       "      <td>male</td>\n",
       "      <td>extrovert</td>\n",
       "      <td>out</td>\n",
       "      <td>post office officer</td>\n",
       "      <td>176</td>\n",
       "    </tr>\n",
       "  </tbody>\n",
       "</table>\n",
       "</div>"
      ],
      "text/plain": [
       "         Label  Taste Gender Personality eat_in_or_out                  Job  \\\n",
       "Name                                                                          \n",
       "Peter      red  sweet   male   introvert            in       medical doctor   \n",
       "Andreas  white  spicy   male   extrovert            in       data scientist   \n",
       "James      red  sweet   male   extrovert            in         preacher man   \n",
       "Jim      white  spicy   male   introvert           out            professor   \n",
       "John     white  spicy   male   extrovert           out  post office officer   \n",
       "\n",
       "         Bodysize  \n",
       "Name               \n",
       "Peter         170  \n",
       "Andreas       182  \n",
       "James         190  \n",
       "Jim           188  \n",
       "John          176  "
      ]
     },
     "execution_count": 38,
     "metadata": {},
     "output_type": "execute_result"
    }
   ],
   "source": [
    "joined.head()"
   ]
  },
  {
   "cell_type": "code",
   "execution_count": 39,
   "metadata": {
    "collapsed": false
   },
   "outputs": [
    {
     "data": {
      "image/png": "[encoded data removed]",
      "text/plain": [
       "<matplotlib.figure.Figure at 0x7fcdbb4e15c0>"
      ]
     },
     "metadata": {},
     "output_type": "display_data"
    }
   ],
   "source": [
    "# generate a boxplot\n",
    "sns.boxplot(data = joined, x= 'Gender', y='Bodysize')\n",
    "sns.despine()"
   ]
  },
  {
   "cell_type": "markdown",
   "metadata": {
    "collapsed": true
   },
   "source": [
    "#### excercises 4 - generate some visualizations\n",
    "1. generate a barplot for Personality frequencies\n",
    "2. generate a boxplot for Taste vs Bodysize\n",
    "3. change the colors of the boxplot\n",
    "4. generate a histogram/density plot for Bodysize\n",
    "5. BONUS: Put a swarmplot on top of boxplot"
   ]
  },
  {
   "cell_type": "markdown",
   "metadata": {
    "collapsed": true
   },
   "source": [
    "### let's train a model"
   ]
  },
  {
   "cell_type": "code",
   "execution_count": 8,
   "metadata": {
    "collapsed": true
   },
   "outputs": [],
   "source": [
    "from sklearn.ensemble import RandomForestClassifier\n",
    "from sklearn.metrics import accuracy_score"
   ]
  },
  {
   "cell_type": "code",
   "execution_count": 9,
   "metadata": {
    "collapsed": false
   },
   "outputs": [],
   "source": [
    "test = data.sample(5)\n",
    "train = data.loc[~data.index.isin(test.index),:]"
   ]
  },
  {
   "cell_type": "code",
   "execution_count": 10,
   "metadata": {
    "collapsed": true
   },
   "outputs": [],
   "source": [
    "clf = RandomForestClassifier()"
   ]
  },
  {
   "cell_type": "code",
   "execution_count": 11,
   "metadata": {
    "collapsed": false
   },
   "outputs": [
    {
     "data": {
      "text/plain": [
       "RandomForestClassifier(bootstrap=True, class_weight=None, criterion='gini',\n",
       "            max_depth=None, max_features='auto', max_leaf_nodes=None,\n",
       "            min_impurity_split=1e-07, min_samples_leaf=1,\n",
       "            min_samples_split=2, min_weight_fraction_leaf=0.0,\n",
       "            n_estimators=10, n_jobs=1, oob_score=False, random_state=None,\n",
       "            verbose=0, warm_start=False)"
      ]
     },
     "execution_count": 11,
     "metadata": {},
     "output_type": "execute_result"
    }
   ],
   "source": [
    "clf.fit(pd.get_dummies(train.drop('Label', axis = 1)),train.Label)"
   ]
  },
  {
   "cell_type": "code",
   "execution_count": 48,
   "metadata": {
    "collapsed": true
   },
   "outputs": [],
   "source": [
    "train_data = pd.get_dummies(train.drop('Label', axis = 1))"
   ]
  },
  {
   "cell_type": "code",
   "execution_count": 49,
   "metadata": {
    "collapsed": true
   },
   "outputs": [],
   "source": [
    "test_data = pd.get_dummies(test.drop('Label',axis = 1))"
   ]
  },
  {
   "cell_type": "code",
   "execution_count": 50,
   "metadata": {
    "collapsed": true
   },
   "outputs": [],
   "source": [
    "test_data = test_data.loc[:,train_data.columns.tolist()].fillna(0)"
   ]
  },
  {
   "cell_type": "code",
   "execution_count": 51,
   "metadata": {
    "collapsed": true
   },
   "outputs": [],
   "source": [
    "pred_labels = clf.predict(test_data)"
   ]
  },
  {
   "cell_type": "code",
   "execution_count": 53,
   "metadata": {
    "collapsed": false
   },
   "outputs": [],
   "source": [
    "ct = pd.crosstab(test.Label, pred_labels, rownames=['actual'], colnames=['preds'])"
   ]
  },
  {
   "cell_type": "code",
   "execution_count": 56,
   "metadata": {
    "collapsed": false
   },
   "outputs": [
    {
     "data": {
      "text/html": [
       "<div>\n",
       "<style>\n",
       "    .dataframe thead tr:only-child th {\n",
       "        text-align: right;\n",
       "    }\n",
       "\n",
       "    .dataframe thead th {\n",
       "        text-align: left;\n",
       "    }\n",
       "\n",
       "    .dataframe tbody tr th {\n",
       "        vertical-align: top;\n",
       "    }\n",
       "</style>\n",
       "<table border=\"1\" class=\"dataframe\">\n",
       "  <thead>\n",
       "    <tr style=\"text-align: right;\">\n",
       "      <th>preds</th>\n",
       "      <th>red</th>\n",
       "      <th>rose</th>\n",
       "      <th>white</th>\n",
       "    </tr>\n",
       "    <tr>\n",
       "      <th>actual</th>\n",
       "      <th></th>\n",
       "      <th></th>\n",
       "      <th></th>\n",
       "    </tr>\n",
       "  </thead>\n",
       "  <tbody>\n",
       "    <tr>\n",
       "      <th>red</th>\n",
       "      <td>2</td>\n",
       "      <td>0</td>\n",
       "      <td>0</td>\n",
       "    </tr>\n",
       "    <tr>\n",
       "      <th>white</th>\n",
       "      <td>1</td>\n",
       "      <td>1</td>\n",
       "      <td>1</td>\n",
       "    </tr>\n",
       "  </tbody>\n",
       "</table>\n",
       "</div>"
      ],
      "text/plain": [
       "preds   red  rose  white\n",
       "actual                  \n",
       "red       2     0      0\n",
       "white     1     1      1"
      ]
     },
     "execution_count": 56,
     "metadata": {},
     "output_type": "execute_result"
    }
   ],
   "source": [
    "ct"
   ]
  },
  {
   "cell_type": "code",
   "execution_count": 55,
   "metadata": {
    "collapsed": false
   },
   "outputs": [
    {
     "data": {
      "text/plain": [
       "0.59999999999999998"
      ]
     },
     "execution_count": 55,
     "metadata": {},
     "output_type": "execute_result"
    }
   ],
   "source": [
    "accuracy_score(test.Label, pred_labels)"
   ]
  }
 ],
 "metadata": {
  "kernelspec": {
   "display_name": "Python 3",
   "language": "python",
   "name": "python3"
  },
  "language_info": {
   "codemirror_mode": {
    "name": "ipython",
    "version": 3
   },
   "file_extension": ".py",
   "mimetype": "text/x-python",
   "name": "python",
   "nbconvert_exporter": "python",
   "pygments_lexer": "ipython3",
   "version": "3.6.0"
  }
 },
 "nbformat": 4,
 "nbformat_minor": 2
}
