{
 "cells": [
  {
   "cell_type": "markdown",
   "metadata": {
    "slideshow": {
     "slide_type": "slide"
    }
   },
   "source": [
    "## introduction into jupyter/python\n",
    "### or how to find a gift using simple data science techniques"
   ]
  },
  {
   "cell_type": "markdown",
   "metadata": {
    "slideshow": {
     "slide_type": "slide"
    }
   },
   "source": [
    "# problem statement\n",
    "our program leads Melanie, Timo and Alon have done a wonderful job on organizing this immersion programme. let's give them a present. as we all are data scientist from now on and and wanna do stuff in a data-driven fashion we also want to choose the presents in that  way. The presents we wanna give are a bottle of wine (red, white or rosé), some sweets (a chocolate candy, fancy marshmallows or cookies) and a CD (jazz, classic or pop). Now the task is to build a model on the participants based on human attributes (e.g. personality (introvert, extrovert), restaurant eater or self cooker, etc) and use this model to predict what the best for you and timo would be.\n",
    "like that it makes sense to me.\n"
   ]
  },
  {
   "cell_type": "markdown",
   "metadata": {},
   "source": [
    "# our solution\n",
    "let's try building a predictive model \n",
    "* data collection"
   ]
  },
  {
   "cell_type": "markdown",
   "metadata": {},
   "source": [
    "### learn a little pandas"
   ]
  },
  {
   "cell_type": "code",
   "execution_count": 1,
   "metadata": {
    "collapsed": true,
    "slideshow": {
     "slide_type": "slide"
    }
   },
   "outputs": [],
   "source": [
    "import pandas as pd"
   ]
  },
  {
   "cell_type": "code",
   "execution_count": 84,
   "metadata": {
    "collapsed": true
   },
   "outputs": [],
   "source": [
    "# read in the data from the prepared excel sheet\n",
    "data = pd.read_excel('data/wine_taste.xlsx')"
   ]
  },
  {
   "cell_type": "code",
   "execution_count": 67,
   "metadata": {},
   "outputs": [
    {
     "data": {
      "text/html": [
       "<div>\n",
       "<style>\n",
       "    .dataframe thead tr:only-child th {\n",
       "        text-align: right;\n",
       "    }\n",
       "\n",
       "    .dataframe thead th {\n",
       "        text-align: left;\n",
       "    }\n",
       "\n",
       "    .dataframe tbody tr th {\n",
       "        vertical-align: top;\n",
       "    }\n",
       "</style>\n",
       "<table border=\"1\" class=\"dataframe\">\n",
       "  <thead>\n",
       "    <tr style=\"text-align: right;\">\n",
       "      <th></th>\n",
       "      <th>Label</th>\n",
       "      <th>Taste</th>\n",
       "      <th>Gender</th>\n",
       "      <th>Personality</th>\n",
       "      <th>eat_in_or_out</th>\n",
       "    </tr>\n",
       "    <tr>\n",
       "      <th>Name</th>\n",
       "      <th></th>\n",
       "      <th></th>\n",
       "      <th></th>\n",
       "      <th></th>\n",
       "      <th></th>\n",
       "    </tr>\n",
       "  </thead>\n",
       "  <tbody>\n",
       "    <tr>\n",
       "      <th>Peter</th>\n",
       "      <td>red</td>\n",
       "      <td>sweet</td>\n",
       "      <td>male</td>\n",
       "      <td>introvert</td>\n",
       "      <td>in</td>\n",
       "    </tr>\n",
       "    <tr>\n",
       "      <th>Andreas</th>\n",
       "      <td>white</td>\n",
       "      <td>spicy</td>\n",
       "      <td>male</td>\n",
       "      <td>extrovert</td>\n",
       "      <td>in</td>\n",
       "    </tr>\n",
       "    <tr>\n",
       "      <th>James</th>\n",
       "      <td>red</td>\n",
       "      <td>sweet</td>\n",
       "      <td>male</td>\n",
       "      <td>extrovert</td>\n",
       "      <td>in</td>\n",
       "    </tr>\n",
       "    <tr>\n",
       "      <th>Jim</th>\n",
       "      <td>white</td>\n",
       "      <td>spicy</td>\n",
       "      <td>male</td>\n",
       "      <td>introvert</td>\n",
       "      <td>out</td>\n",
       "    </tr>\n",
       "    <tr>\n",
       "      <th>John</th>\n",
       "      <td>white</td>\n",
       "      <td>spicy</td>\n",
       "      <td>male</td>\n",
       "      <td>extrovert</td>\n",
       "      <td>out</td>\n",
       "    </tr>\n",
       "    <tr>\n",
       "      <th>Daniel</th>\n",
       "      <td>white</td>\n",
       "      <td>hot</td>\n",
       "      <td>male</td>\n",
       "      <td>extrovert</td>\n",
       "      <td>in</td>\n",
       "    </tr>\n",
       "    <tr>\n",
       "      <th>Catherine</th>\n",
       "      <td>rose</td>\n",
       "      <td>hot</td>\n",
       "      <td>female</td>\n",
       "      <td>extrovert</td>\n",
       "      <td>out</td>\n",
       "    </tr>\n",
       "    <tr>\n",
       "      <th>Paula</th>\n",
       "      <td>rose</td>\n",
       "      <td>hot</td>\n",
       "      <td>female</td>\n",
       "      <td>introvert</td>\n",
       "      <td>out</td>\n",
       "    </tr>\n",
       "    <tr>\n",
       "      <th>Adrian</th>\n",
       "      <td>red</td>\n",
       "      <td>sweet</td>\n",
       "      <td>male</td>\n",
       "      <td>extrovert</td>\n",
       "      <td>in</td>\n",
       "    </tr>\n",
       "    <tr>\n",
       "      <th>Maria</th>\n",
       "      <td>red</td>\n",
       "      <td>sweet</td>\n",
       "      <td>female</td>\n",
       "      <td>extrovert</td>\n",
       "      <td>in</td>\n",
       "    </tr>\n",
       "    <tr>\n",
       "      <th>Ben</th>\n",
       "      <td>white</td>\n",
       "      <td>sweet</td>\n",
       "      <td>male</td>\n",
       "      <td>introvert</td>\n",
       "      <td>out</td>\n",
       "    </tr>\n",
       "    <tr>\n",
       "      <th>Zac</th>\n",
       "      <td>white</td>\n",
       "      <td>sour</td>\n",
       "      <td>male</td>\n",
       "      <td>introvert</td>\n",
       "      <td>in</td>\n",
       "    </tr>\n",
       "    <tr>\n",
       "      <th>Hans</th>\n",
       "      <td>red</td>\n",
       "      <td>sweet</td>\n",
       "      <td>male</td>\n",
       "      <td>extrovert</td>\n",
       "      <td>out</td>\n",
       "    </tr>\n",
       "    <tr>\n",
       "      <th>Ian</th>\n",
       "      <td>red</td>\n",
       "      <td>sour</td>\n",
       "      <td>male</td>\n",
       "      <td>introvert</td>\n",
       "      <td>in</td>\n",
       "    </tr>\n",
       "    <tr>\n",
       "      <th>Ralf</th>\n",
       "      <td>red</td>\n",
       "      <td>sour</td>\n",
       "      <td>male</td>\n",
       "      <td>extrovert</td>\n",
       "      <td>out</td>\n",
       "    </tr>\n",
       "    <tr>\n",
       "      <th>Ortrud</th>\n",
       "      <td>white</td>\n",
       "      <td>sour</td>\n",
       "      <td>female</td>\n",
       "      <td>introvert</td>\n",
       "      <td>out</td>\n",
       "    </tr>\n",
       "    <tr>\n",
       "      <th>Lilly</th>\n",
       "      <td>white</td>\n",
       "      <td>sweet</td>\n",
       "      <td>female</td>\n",
       "      <td>introvert</td>\n",
       "      <td>in</td>\n",
       "    </tr>\n",
       "    <tr>\n",
       "      <th>Georgina</th>\n",
       "      <td>rose</td>\n",
       "      <td>hot</td>\n",
       "      <td>male</td>\n",
       "      <td>introvert</td>\n",
       "      <td>out</td>\n",
       "    </tr>\n",
       "    <tr>\n",
       "      <th>Patricia</th>\n",
       "      <td>white</td>\n",
       "      <td>spicy</td>\n",
       "      <td>female</td>\n",
       "      <td>extrovert</td>\n",
       "      <td>out</td>\n",
       "    </tr>\n",
       "    <tr>\n",
       "      <th>Xavier</th>\n",
       "      <td>rose</td>\n",
       "      <td>spicy</td>\n",
       "      <td>male</td>\n",
       "      <td>extrovert</td>\n",
       "      <td>in</td>\n",
       "    </tr>\n",
       "  </tbody>\n",
       "</table>\n",
       "</div>"
      ],
      "text/plain": [
       "           Label  Taste  Gender Personality eat_in_or_out\n",
       "Name                                                     \n",
       "Peter        red  sweet    male   introvert            in\n",
       "Andreas    white  spicy    male   extrovert            in\n",
       "James        red  sweet    male   extrovert            in\n",
       "Jim        white  spicy    male   introvert           out\n",
       "John       white  spicy    male   extrovert           out\n",
       "Daniel     white    hot    male   extrovert            in\n",
       "Catherine   rose    hot  female   extrovert           out\n",
       "Paula       rose    hot  female   introvert           out\n",
       "Adrian       red  sweet    male   extrovert            in\n",
       "Maria        red  sweet  female   extrovert            in\n",
       "Ben        white  sweet    male   introvert           out\n",
       "Zac        white   sour    male   introvert            in\n",
       "Hans         red  sweet    male   extrovert           out\n",
       "Ian          red   sour    male   introvert            in\n",
       "Ralf         red   sour    male   extrovert           out\n",
       "Ortrud     white   sour  female   introvert           out\n",
       "Lilly      white  sweet  female   introvert            in\n",
       "Georgina    rose    hot    male   introvert           out\n",
       "Patricia   white  spicy  female   extrovert           out\n",
       "Xavier      rose  spicy    male   extrovert            in"
      ]
     },
     "execution_count": 67,
     "metadata": {},
     "output_type": "execute_result"
    }
   ],
   "source": [
    "data"
   ]
  },
  {
   "cell_type": "code",
   "execution_count": 23,
   "metadata": {},
   "outputs": [
    {
     "data": {
      "text/html": [
       "<div>\n",
       "<style>\n",
       "    .dataframe thead tr:only-child th {\n",
       "        text-align: right;\n",
       "    }\n",
       "\n",
       "    .dataframe thead th {\n",
       "        text-align: left;\n",
       "    }\n",
       "\n",
       "    .dataframe tbody tr th {\n",
       "        vertical-align: top;\n",
       "    }\n",
       "</style>\n",
       "<table border=\"1\" class=\"dataframe\">\n",
       "  <thead>\n",
       "    <tr style=\"text-align: right;\">\n",
       "      <th></th>\n",
       "      <th>Name</th>\n",
       "      <th>Label</th>\n",
       "      <th>Taste</th>\n",
       "      <th>Gender</th>\n",
       "      <th>Personality</th>\n",
       "      <th>eat_in_or_out</th>\n",
       "    </tr>\n",
       "  </thead>\n",
       "  <tbody>\n",
       "    <tr>\n",
       "      <th>count</th>\n",
       "      <td>20</td>\n",
       "      <td>20</td>\n",
       "      <td>20</td>\n",
       "      <td>20</td>\n",
       "      <td>20</td>\n",
       "      <td>20</td>\n",
       "    </tr>\n",
       "    <tr>\n",
       "      <th>unique</th>\n",
       "      <td>20</td>\n",
       "      <td>3</td>\n",
       "      <td>4</td>\n",
       "      <td>2</td>\n",
       "      <td>2</td>\n",
       "      <td>2</td>\n",
       "    </tr>\n",
       "    <tr>\n",
       "      <th>top</th>\n",
       "      <td>Peter</td>\n",
       "      <td>white</td>\n",
       "      <td>sweet</td>\n",
       "      <td>male</td>\n",
       "      <td>extrovert</td>\n",
       "      <td>out</td>\n",
       "    </tr>\n",
       "    <tr>\n",
       "      <th>freq</th>\n",
       "      <td>1</td>\n",
       "      <td>9</td>\n",
       "      <td>7</td>\n",
       "      <td>14</td>\n",
       "      <td>11</td>\n",
       "      <td>10</td>\n",
       "    </tr>\n",
       "  </tbody>\n",
       "</table>\n",
       "</div>"
      ],
      "text/plain": [
       "         Name  Label  Taste Gender Personality eat_in_or_out\n",
       "count      20     20     20     20          20            20\n",
       "unique     20      3      4      2           2             2\n",
       "top     Peter  white  sweet   male   extrovert           out\n",
       "freq        1      9      7     14          11            10"
      ]
     },
     "execution_count": 23,
     "metadata": {},
     "output_type": "execute_result"
    }
   ],
   "source": [
    "# describe the data \n",
    "data.describe()"
   ]
  },
  {
   "cell_type": "code",
   "execution_count": 69,
   "metadata": {},
   "outputs": [
    {
     "data": {
      "text/plain": [
       "white    9\n",
       "red      7\n",
       "rose     4\n",
       "Name: Label, dtype: int64"
      ]
     },
     "execution_count": 69,
     "metadata": {},
     "output_type": "execute_result"
    }
   ],
   "source": [
    "data.Label.value_counts()"
   ]
  },
  {
   "cell_type": "code",
   "execution_count": 79,
   "metadata": {
    "collapsed": true
   },
   "outputs": [],
   "source": [
    "# curate wrong row \n",
    "data.loc['Jim','Label'] = 'white'"
   ]
  },
  {
   "cell_type": "code",
   "execution_count": 81,
   "metadata": {
    "collapsed": true
   },
   "outputs": [],
   "source": [
    "data = data.dropna()"
   ]
  },
  {
   "cell_type": "code",
   "execution_count": 82,
   "metadata": {},
   "outputs": [
    {
     "data": {
      "text/html": [
       "<div>\n",
       "<style>\n",
       "    .dataframe thead tr:only-child th {\n",
       "        text-align: right;\n",
       "    }\n",
       "\n",
       "    .dataframe thead th {\n",
       "        text-align: left;\n",
       "    }\n",
       "\n",
       "    .dataframe tbody tr th {\n",
       "        vertical-align: top;\n",
       "    }\n",
       "</style>\n",
       "<table border=\"1\" class=\"dataframe\">\n",
       "  <thead>\n",
       "    <tr style=\"text-align: right;\">\n",
       "      <th></th>\n",
       "      <th>Label</th>\n",
       "      <th>Taste</th>\n",
       "      <th>Gender</th>\n",
       "      <th>Personality</th>\n",
       "      <th>eat_in_or_out</th>\n",
       "    </tr>\n",
       "    <tr>\n",
       "      <th>Name</th>\n",
       "      <th></th>\n",
       "      <th></th>\n",
       "      <th></th>\n",
       "      <th></th>\n",
       "      <th></th>\n",
       "    </tr>\n",
       "  </thead>\n",
       "  <tbody>\n",
       "    <tr>\n",
       "      <th>Peter</th>\n",
       "      <td>red</td>\n",
       "      <td>sweet</td>\n",
       "      <td>male</td>\n",
       "      <td>introvert</td>\n",
       "      <td>in</td>\n",
       "    </tr>\n",
       "    <tr>\n",
       "      <th>Andreas</th>\n",
       "      <td>white</td>\n",
       "      <td>spicy</td>\n",
       "      <td>male</td>\n",
       "      <td>extrovert</td>\n",
       "      <td>in</td>\n",
       "    </tr>\n",
       "    <tr>\n",
       "      <th>James</th>\n",
       "      <td>red</td>\n",
       "      <td>sweet</td>\n",
       "      <td>male</td>\n",
       "      <td>extrovert</td>\n",
       "      <td>in</td>\n",
       "    </tr>\n",
       "    <tr>\n",
       "      <th>Jim</th>\n",
       "      <td>white</td>\n",
       "      <td>spicy</td>\n",
       "      <td>male</td>\n",
       "      <td>introvert</td>\n",
       "      <td>out</td>\n",
       "    </tr>\n",
       "    <tr>\n",
       "      <th>John</th>\n",
       "      <td>white</td>\n",
       "      <td>spicy</td>\n",
       "      <td>male</td>\n",
       "      <td>extrovert</td>\n",
       "      <td>out</td>\n",
       "    </tr>\n",
       "    <tr>\n",
       "      <th>Daniel</th>\n",
       "      <td>white</td>\n",
       "      <td>hot</td>\n",
       "      <td>male</td>\n",
       "      <td>extrovert</td>\n",
       "      <td>in</td>\n",
       "    </tr>\n",
       "    <tr>\n",
       "      <th>Catherine</th>\n",
       "      <td>rose</td>\n",
       "      <td>hot</td>\n",
       "      <td>female</td>\n",
       "      <td>extrovert</td>\n",
       "      <td>out</td>\n",
       "    </tr>\n",
       "    <tr>\n",
       "      <th>Paula</th>\n",
       "      <td>rose</td>\n",
       "      <td>hot</td>\n",
       "      <td>female</td>\n",
       "      <td>introvert</td>\n",
       "      <td>out</td>\n",
       "    </tr>\n",
       "    <tr>\n",
       "      <th>Adrian</th>\n",
       "      <td>red</td>\n",
       "      <td>sweet</td>\n",
       "      <td>male</td>\n",
       "      <td>extrovert</td>\n",
       "      <td>in</td>\n",
       "    </tr>\n",
       "    <tr>\n",
       "      <th>Maria</th>\n",
       "      <td>red</td>\n",
       "      <td>sweet</td>\n",
       "      <td>female</td>\n",
       "      <td>extrovert</td>\n",
       "      <td>in</td>\n",
       "    </tr>\n",
       "    <tr>\n",
       "      <th>Ben</th>\n",
       "      <td>white</td>\n",
       "      <td>sweet</td>\n",
       "      <td>male</td>\n",
       "      <td>introvert</td>\n",
       "      <td>out</td>\n",
       "    </tr>\n",
       "    <tr>\n",
       "      <th>Zac</th>\n",
       "      <td>white</td>\n",
       "      <td>sour</td>\n",
       "      <td>male</td>\n",
       "      <td>introvert</td>\n",
       "      <td>in</td>\n",
       "    </tr>\n",
       "    <tr>\n",
       "      <th>Hans</th>\n",
       "      <td>red</td>\n",
       "      <td>sweet</td>\n",
       "      <td>male</td>\n",
       "      <td>extrovert</td>\n",
       "      <td>out</td>\n",
       "    </tr>\n",
       "    <tr>\n",
       "      <th>Ian</th>\n",
       "      <td>red</td>\n",
       "      <td>sour</td>\n",
       "      <td>male</td>\n",
       "      <td>introvert</td>\n",
       "      <td>in</td>\n",
       "    </tr>\n",
       "    <tr>\n",
       "      <th>Ralf</th>\n",
       "      <td>red</td>\n",
       "      <td>sour</td>\n",
       "      <td>male</td>\n",
       "      <td>extrovert</td>\n",
       "      <td>out</td>\n",
       "    </tr>\n",
       "    <tr>\n",
       "      <th>Ortrud</th>\n",
       "      <td>white</td>\n",
       "      <td>sour</td>\n",
       "      <td>female</td>\n",
       "      <td>introvert</td>\n",
       "      <td>out</td>\n",
       "    </tr>\n",
       "    <tr>\n",
       "      <th>Lilly</th>\n",
       "      <td>white</td>\n",
       "      <td>sweet</td>\n",
       "      <td>female</td>\n",
       "      <td>introvert</td>\n",
       "      <td>in</td>\n",
       "    </tr>\n",
       "    <tr>\n",
       "      <th>Georgina</th>\n",
       "      <td>rose</td>\n",
       "      <td>hot</td>\n",
       "      <td>male</td>\n",
       "      <td>introvert</td>\n",
       "      <td>out</td>\n",
       "    </tr>\n",
       "    <tr>\n",
       "      <th>Patricia</th>\n",
       "      <td>white</td>\n",
       "      <td>spicy</td>\n",
       "      <td>female</td>\n",
       "      <td>extrovert</td>\n",
       "      <td>out</td>\n",
       "    </tr>\n",
       "    <tr>\n",
       "      <th>Xavier</th>\n",
       "      <td>rose</td>\n",
       "      <td>spicy</td>\n",
       "      <td>male</td>\n",
       "      <td>extrovert</td>\n",
       "      <td>in</td>\n",
       "    </tr>\n",
       "  </tbody>\n",
       "</table>\n",
       "</div>"
      ],
      "text/plain": [
       "           Label  Taste  Gender Personality eat_in_or_out\n",
       "Name                                                     \n",
       "Peter        red  sweet    male   introvert            in\n",
       "Andreas    white  spicy    male   extrovert            in\n",
       "James        red  sweet    male   extrovert            in\n",
       "Jim        white  spicy    male   introvert           out\n",
       "John       white  spicy    male   extrovert           out\n",
       "Daniel     white    hot    male   extrovert            in\n",
       "Catherine   rose    hot  female   extrovert           out\n",
       "Paula       rose    hot  female   introvert           out\n",
       "Adrian       red  sweet    male   extrovert            in\n",
       "Maria        red  sweet  female   extrovert            in\n",
       "Ben        white  sweet    male   introvert           out\n",
       "Zac        white   sour    male   introvert            in\n",
       "Hans         red  sweet    male   extrovert           out\n",
       "Ian          red   sour    male   introvert            in\n",
       "Ralf         red   sour    male   extrovert           out\n",
       "Ortrud     white   sour  female   introvert           out\n",
       "Lilly      white  sweet  female   introvert            in\n",
       "Georgina    rose    hot    male   introvert           out\n",
       "Patricia   white  spicy  female   extrovert           out\n",
       "Xavier      rose  spicy    male   extrovert            in"
      ]
     },
     "execution_count": 82,
     "metadata": {},
     "output_type": "execute_result"
    }
   ],
   "source": [
    "data"
   ]
  },
  {
   "cell_type": "code",
   "execution_count": 37,
   "metadata": {
    "collapsed": true
   },
   "outputs": [],
   "source": [
    "# join data from other sheet\n",
    "jobs = pd.read_excel('data/attributes.xlsx')"
   ]
  },
  {
   "cell_type": "code",
   "execution_count": 38,
   "metadata": {},
   "outputs": [
    {
     "data": {
      "text/html": [
       "<div>\n",
       "<style>\n",
       "    .dataframe thead tr:only-child th {\n",
       "        text-align: right;\n",
       "    }\n",
       "\n",
       "    .dataframe thead th {\n",
       "        text-align: left;\n",
       "    }\n",
       "\n",
       "    .dataframe tbody tr th {\n",
       "        vertical-align: top;\n",
       "    }\n",
       "</style>\n",
       "<table border=\"1\" class=\"dataframe\">\n",
       "  <thead>\n",
       "    <tr style=\"text-align: right;\">\n",
       "      <th></th>\n",
       "      <th>Name</th>\n",
       "      <th>Job</th>\n",
       "      <th>Size</th>\n",
       "    </tr>\n",
       "  </thead>\n",
       "  <tbody>\n",
       "    <tr>\n",
       "      <th>0</th>\n",
       "      <td>Peter</td>\n",
       "      <td>medical doctor</td>\n",
       "      <td>170</td>\n",
       "    </tr>\n",
       "    <tr>\n",
       "      <th>1</th>\n",
       "      <td>Andreas</td>\n",
       "      <td>data scientist</td>\n",
       "      <td>182</td>\n",
       "    </tr>\n",
       "    <tr>\n",
       "      <th>2</th>\n",
       "      <td>James</td>\n",
       "      <td>preacher man</td>\n",
       "      <td>190</td>\n",
       "    </tr>\n",
       "    <tr>\n",
       "      <th>3</th>\n",
       "      <td>Jim</td>\n",
       "      <td>professor</td>\n",
       "      <td>188</td>\n",
       "    </tr>\n",
       "    <tr>\n",
       "      <th>4</th>\n",
       "      <td>John</td>\n",
       "      <td>post office officer</td>\n",
       "      <td>176</td>\n",
       "    </tr>\n",
       "  </tbody>\n",
       "</table>\n",
       "</div>"
      ],
      "text/plain": [
       "      Name                  Job  Size\n",
       "0    Peter       medical doctor   170\n",
       "1  Andreas       data scientist   182\n",
       "2    James         preacher man   190\n",
       "3      Jim            professor   188\n",
       "4     John  post office officer   176"
      ]
     },
     "execution_count": 38,
     "metadata": {},
     "output_type": "execute_result"
    }
   ],
   "source": [
    "jobs.head()"
   ]
  },
  {
   "cell_type": "code",
   "execution_count": 39,
   "metadata": {
    "collapsed": true,
    "scrolled": true
   },
   "outputs": [],
   "source": [
    "# set index to Name\n",
    "jobs = jobs.set_index('Name')"
   ]
  },
  {
   "cell_type": "code",
   "execution_count": 40,
   "metadata": {},
   "outputs": [
    {
     "data": {
      "text/html": [
       "<div>\n",
       "<style>\n",
       "    .dataframe thead tr:only-child th {\n",
       "        text-align: right;\n",
       "    }\n",
       "\n",
       "    .dataframe thead th {\n",
       "        text-align: left;\n",
       "    }\n",
       "\n",
       "    .dataframe tbody tr th {\n",
       "        vertical-align: top;\n",
       "    }\n",
       "</style>\n",
       "<table border=\"1\" class=\"dataframe\">\n",
       "  <thead>\n",
       "    <tr style=\"text-align: right;\">\n",
       "      <th></th>\n",
       "      <th>Job</th>\n",
       "      <th>Size</th>\n",
       "    </tr>\n",
       "    <tr>\n",
       "      <th>Name</th>\n",
       "      <th></th>\n",
       "      <th></th>\n",
       "    </tr>\n",
       "  </thead>\n",
       "  <tbody>\n",
       "    <tr>\n",
       "      <th>Peter</th>\n",
       "      <td>medical doctor</td>\n",
       "      <td>170</td>\n",
       "    </tr>\n",
       "    <tr>\n",
       "      <th>Andreas</th>\n",
       "      <td>data scientist</td>\n",
       "      <td>182</td>\n",
       "    </tr>\n",
       "    <tr>\n",
       "      <th>James</th>\n",
       "      <td>preacher man</td>\n",
       "      <td>190</td>\n",
       "    </tr>\n",
       "    <tr>\n",
       "      <th>Jim</th>\n",
       "      <td>professor</td>\n",
       "      <td>188</td>\n",
       "    </tr>\n",
       "    <tr>\n",
       "      <th>John</th>\n",
       "      <td>post office officer</td>\n",
       "      <td>176</td>\n",
       "    </tr>\n",
       "  </tbody>\n",
       "</table>\n",
       "</div>"
      ],
      "text/plain": [
       "                         Job  Size\n",
       "Name                              \n",
       "Peter         medical doctor   170\n",
       "Andreas       data scientist   182\n",
       "James           preacher man   190\n",
       "Jim                professor   188\n",
       "John     post office officer   176"
      ]
     },
     "execution_count": 40,
     "metadata": {},
     "output_type": "execute_result"
    }
   ],
   "source": [
    "jobs.head()"
   ]
  },
  {
   "cell_type": "code",
   "execution_count": 41,
   "metadata": {},
   "outputs": [
    {
     "data": {
      "text/html": [
       "<div>\n",
       "<style>\n",
       "    .dataframe thead tr:only-child th {\n",
       "        text-align: right;\n",
       "    }\n",
       "\n",
       "    .dataframe thead th {\n",
       "        text-align: left;\n",
       "    }\n",
       "\n",
       "    .dataframe tbody tr th {\n",
       "        vertical-align: top;\n",
       "    }\n",
       "</style>\n",
       "<table border=\"1\" class=\"dataframe\">\n",
       "  <thead>\n",
       "    <tr style=\"text-align: right;\">\n",
       "      <th></th>\n",
       "      <th>Label</th>\n",
       "      <th>Taste</th>\n",
       "      <th>Gender</th>\n",
       "      <th>Personality</th>\n",
       "      <th>eat_in_or_out</th>\n",
       "      <th>Job</th>\n",
       "      <th>Size</th>\n",
       "    </tr>\n",
       "    <tr>\n",
       "      <th>Name</th>\n",
       "      <th></th>\n",
       "      <th></th>\n",
       "      <th></th>\n",
       "      <th></th>\n",
       "      <th></th>\n",
       "      <th></th>\n",
       "      <th></th>\n",
       "    </tr>\n",
       "  </thead>\n",
       "  <tbody>\n",
       "    <tr>\n",
       "      <th>Peter</th>\n",
       "      <td>red</td>\n",
       "      <td>sweet</td>\n",
       "      <td>male</td>\n",
       "      <td>introvert</td>\n",
       "      <td>in</td>\n",
       "      <td>medical doctor</td>\n",
       "      <td>170</td>\n",
       "    </tr>\n",
       "    <tr>\n",
       "      <th>Andreas</th>\n",
       "      <td>white</td>\n",
       "      <td>spicy</td>\n",
       "      <td>male</td>\n",
       "      <td>extrovert</td>\n",
       "      <td>in</td>\n",
       "      <td>data scientist</td>\n",
       "      <td>182</td>\n",
       "    </tr>\n",
       "    <tr>\n",
       "      <th>James</th>\n",
       "      <td>red</td>\n",
       "      <td>sweet</td>\n",
       "      <td>male</td>\n",
       "      <td>extrovert</td>\n",
       "      <td>in</td>\n",
       "      <td>preacher man</td>\n",
       "      <td>190</td>\n",
       "    </tr>\n",
       "    <tr>\n",
       "      <th>Jim</th>\n",
       "      <td>white</td>\n",
       "      <td>spicy</td>\n",
       "      <td>male</td>\n",
       "      <td>introvert</td>\n",
       "      <td>out</td>\n",
       "      <td>professor</td>\n",
       "      <td>188</td>\n",
       "    </tr>\n",
       "    <tr>\n",
       "      <th>John</th>\n",
       "      <td>white</td>\n",
       "      <td>spicy</td>\n",
       "      <td>male</td>\n",
       "      <td>extrovert</td>\n",
       "      <td>out</td>\n",
       "      <td>post office officer</td>\n",
       "      <td>176</td>\n",
       "    </tr>\n",
       "  </tbody>\n",
       "</table>\n",
       "</div>"
      ],
      "text/plain": [
       "         Label  Taste Gender Personality eat_in_or_out                  Job  \\\n",
       "Name                                                                          \n",
       "Peter      red  sweet   male   introvert            in       medical doctor   \n",
       "Andreas  white  spicy   male   extrovert            in       data scientist   \n",
       "James      red  sweet   male   extrovert            in         preacher man   \n",
       "Jim      white  spicy   male   introvert           out            professor   \n",
       "John     white  spicy   male   extrovert           out  post office officer   \n",
       "\n",
       "         Size  \n",
       "Name           \n",
       "Peter     170  \n",
       "Andreas   182  \n",
       "James     190  \n",
       "Jim       188  \n",
       "John      176  "
      ]
     },
     "execution_count": 41,
     "metadata": {},
     "output_type": "execute_result"
    }
   ],
   "source": [
    "# now join\n",
    "joined = data.join(jobs)\n",
    "joined.head()"
   ]
  },
  {
   "cell_type": "code",
   "execution_count": 42,
   "metadata": {},
   "outputs": [
    {
     "data": {
      "text/html": [
       "<div>\n",
       "<style>\n",
       "    .dataframe thead tr:only-child th {\n",
       "        text-align: right;\n",
       "    }\n",
       "\n",
       "    .dataframe thead th {\n",
       "        text-align: left;\n",
       "    }\n",
       "\n",
       "    .dataframe tbody tr th {\n",
       "        vertical-align: top;\n",
       "    }\n",
       "</style>\n",
       "<table border=\"1\" class=\"dataframe\">\n",
       "  <thead>\n",
       "    <tr style=\"text-align: right;\">\n",
       "      <th></th>\n",
       "      <th>Label</th>\n",
       "      <th>Taste</th>\n",
       "      <th>Gender</th>\n",
       "      <th>Personality</th>\n",
       "      <th>eat_in_or_out</th>\n",
       "      <th>Job</th>\n",
       "      <th>Bodysize</th>\n",
       "    </tr>\n",
       "    <tr>\n",
       "      <th>Name</th>\n",
       "      <th></th>\n",
       "      <th></th>\n",
       "      <th></th>\n",
       "      <th></th>\n",
       "      <th></th>\n",
       "      <th></th>\n",
       "      <th></th>\n",
       "    </tr>\n",
       "  </thead>\n",
       "  <tbody>\n",
       "    <tr>\n",
       "      <th>Peter</th>\n",
       "      <td>red</td>\n",
       "      <td>sweet</td>\n",
       "      <td>male</td>\n",
       "      <td>introvert</td>\n",
       "      <td>in</td>\n",
       "      <td>medical doctor</td>\n",
       "      <td>170</td>\n",
       "    </tr>\n",
       "    <tr>\n",
       "      <th>Andreas</th>\n",
       "      <td>white</td>\n",
       "      <td>spicy</td>\n",
       "      <td>male</td>\n",
       "      <td>extrovert</td>\n",
       "      <td>in</td>\n",
       "      <td>data scientist</td>\n",
       "      <td>182</td>\n",
       "    </tr>\n",
       "    <tr>\n",
       "      <th>James</th>\n",
       "      <td>red</td>\n",
       "      <td>sweet</td>\n",
       "      <td>male</td>\n",
       "      <td>extrovert</td>\n",
       "      <td>in</td>\n",
       "      <td>preacher man</td>\n",
       "      <td>190</td>\n",
       "    </tr>\n",
       "    <tr>\n",
       "      <th>Jim</th>\n",
       "      <td>white</td>\n",
       "      <td>spicy</td>\n",
       "      <td>male</td>\n",
       "      <td>introvert</td>\n",
       "      <td>out</td>\n",
       "      <td>professor</td>\n",
       "      <td>188</td>\n",
       "    </tr>\n",
       "    <tr>\n",
       "      <th>John</th>\n",
       "      <td>white</td>\n",
       "      <td>spicy</td>\n",
       "      <td>male</td>\n",
       "      <td>extrovert</td>\n",
       "      <td>out</td>\n",
       "      <td>post office officer</td>\n",
       "      <td>176</td>\n",
       "    </tr>\n",
       "  </tbody>\n",
       "</table>\n",
       "</div>"
      ],
      "text/plain": [
       "         Label  Taste Gender Personality eat_in_or_out                  Job  \\\n",
       "Name                                                                          \n",
       "Peter      red  sweet   male   introvert            in       medical doctor   \n",
       "Andreas  white  spicy   male   extrovert            in       data scientist   \n",
       "James      red  sweet   male   extrovert            in         preacher man   \n",
       "Jim      white  spicy   male   introvert           out            professor   \n",
       "John     white  spicy   male   extrovert           out  post office officer   \n",
       "\n",
       "         Bodysize  \n",
       "Name               \n",
       "Peter         170  \n",
       "Andreas       182  \n",
       "James         190  \n",
       "Jim           188  \n",
       "John          176  "
      ]
     },
     "execution_count": 42,
     "metadata": {},
     "output_type": "execute_result"
    }
   ],
   "source": [
    "# rename a column\n",
    "joined = joined.rename(columns = {'Size':'Bodysize'})\n",
    "joined.head()"
   ]
  },
  {
   "cell_type": "code",
   "execution_count": 43,
   "metadata": {
    "collapsed": true
   },
   "outputs": [],
   "source": [
    "# write out dataframe as csv\n",
    "joined.to_csv('data/joined_wine_and_jobs.tab', sep = '\\t')"
   ]
  },
  {
   "cell_type": "markdown",
   "metadata": {},
   "source": [
    "#### excercises 3 - interact with dataframes\n",
    "1. display what persons are extroverts?\n",
    "2. how many people prefer eating in restaurants?\n",
    "3. how many people that like spicy food like red wine?\n",
    "4. write out the dataframe as a semicolon separated flatfile and an excel file\n",
    "5. convert dataframe to a dictionary using the dataframe method to dict\n",
    "6. BONUS: filter for rows where the Index Name starts with an A\n"
   ]
  },
  {
   "cell_type": "markdown",
   "metadata": {},
   "source": [
    "### visualization"
   ]
  },
  {
   "cell_type": "code",
   "execution_count": 44,
   "metadata": {},
   "outputs": [
    {
     "name": "stdout",
     "output_type": "stream",
     "text": [
      "Populating the interactive namespace from numpy and matplotlib\n"
     ]
    }
   ],
   "source": [
    "import seaborn as sns\n",
    "%pylab inline"
   ]
  },
  {
   "cell_type": "code",
   "execution_count": 45,
   "metadata": {},
   "outputs": [
    {
     "data": {
      "text/plain": [
       "sweet    7\n",
       "spicy    5\n",
       "sour     4\n",
       "hot      4\n",
       "Name: Taste, dtype: int64"
      ]
     },
     "execution_count": 45,
     "metadata": {},
     "output_type": "execute_result"
    }
   ],
   "source": [
    "# count\n",
    "data.Taste.value_counts()"
   ]
  },
  {
   "cell_type": "code",
   "execution_count": 46,
   "metadata": {},
   "outputs": [
    {
     "data": {
      "text/plain": [
       "<matplotlib.text.Text at 0x7fc6e771df28>"
      ]
     },
     "execution_count": 46,
     "metadata": {},
     "output_type": "execute_result"
    },
    {
     "data": {
      "image/png": "[encoded data removed]",
      "text/plain": [
       "<matplotlib.figure.Figure at 0x7fc6e775cbe0>"
      ]
     },
     "metadata": {},
     "output_type": "display_data"
    }
   ],
   "source": [
    "# simple barplot\n",
    "data.Taste.value_counts().plot.bar()\n",
    "plt.ylabel('frequency')"
   ]
  },
  {
   "cell_type": "code",
   "execution_count": 47,
   "metadata": {},
   "outputs": [
    {
     "data": {
      "image/png": "[encoded data removed]",
      "text/plain": [
       "<matplotlib.figure.Figure at 0x7fc6e7647860>"
      ]
     },
     "metadata": {},
     "output_type": "display_data"
    }
   ],
   "source": [
    "# slightly nicer settings\n",
    "sns.set_context('talk')\n",
    "sns.set_style('white')\n",
    "data.Taste.value_counts().plot.bar()\n",
    "plt.ylabel('frequency')\n",
    "sns.despine()"
   ]
  },
  {
   "cell_type": "code",
   "execution_count": 49,
   "metadata": {},
   "outputs": [
    {
     "data": {
      "image/png": "[encoded data removed]",
      "text/plain": [
       "<matplotlib.figure.Figure at 0x7fc6dbd0e828>"
      ]
     },
     "metadata": {},
     "output_type": "display_data"
    }
   ],
   "source": [
    "# slightly nicer settings and save the picture\n",
    "sns.set_context('talk')\n",
    "sns.set_style('white')\n",
    "data.Taste.value_counts().plot.bar()\n",
    "sns.despine()\n",
    "plt.savefig('taste_frequency_plot.png', bbox_inches = 'tight')"
   ]
  },
  {
   "cell_type": "code",
   "execution_count": 50,
   "metadata": {},
   "outputs": [
    {
     "data": {
      "text/html": [
       "<div>\n",
       "<style>\n",
       "    .dataframe thead tr:only-child th {\n",
       "        text-align: right;\n",
       "    }\n",
       "\n",
       "    .dataframe thead th {\n",
       "        text-align: left;\n",
       "    }\n",
       "\n",
       "    .dataframe tbody tr th {\n",
       "        vertical-align: top;\n",
       "    }\n",
       "</style>\n",
       "<table border=\"1\" class=\"dataframe\">\n",
       "  <thead>\n",
       "    <tr style=\"text-align: right;\">\n",
       "      <th></th>\n",
       "      <th>Label</th>\n",
       "      <th>Taste</th>\n",
       "      <th>Gender</th>\n",
       "      <th>Personality</th>\n",
       "      <th>eat_in_or_out</th>\n",
       "    </tr>\n",
       "    <tr>\n",
       "      <th>Name</th>\n",
       "      <th></th>\n",
       "      <th></th>\n",
       "      <th></th>\n",
       "      <th></th>\n",
       "      <th></th>\n",
       "    </tr>\n",
       "  </thead>\n",
       "  <tbody>\n",
       "    <tr>\n",
       "      <th>Peter</th>\n",
       "      <td>red</td>\n",
       "      <td>sweet</td>\n",
       "      <td>male</td>\n",
       "      <td>introvert</td>\n",
       "      <td>in</td>\n",
       "    </tr>\n",
       "    <tr>\n",
       "      <th>Andreas</th>\n",
       "      <td>white</td>\n",
       "      <td>spicy</td>\n",
       "      <td>male</td>\n",
       "      <td>extrovert</td>\n",
       "      <td>in</td>\n",
       "    </tr>\n",
       "    <tr>\n",
       "      <th>James</th>\n",
       "      <td>red</td>\n",
       "      <td>sweet</td>\n",
       "      <td>male</td>\n",
       "      <td>extrovert</td>\n",
       "      <td>in</td>\n",
       "    </tr>\n",
       "    <tr>\n",
       "      <th>Jim</th>\n",
       "      <td>white</td>\n",
       "      <td>spicy</td>\n",
       "      <td>male</td>\n",
       "      <td>introvert</td>\n",
       "      <td>out</td>\n",
       "    </tr>\n",
       "    <tr>\n",
       "      <th>John</th>\n",
       "      <td>white</td>\n",
       "      <td>spicy</td>\n",
       "      <td>male</td>\n",
       "      <td>extrovert</td>\n",
       "      <td>out</td>\n",
       "    </tr>\n",
       "  </tbody>\n",
       "</table>\n",
       "</div>"
      ],
      "text/plain": [
       "         Label  Taste Gender Personality eat_in_or_out\n",
       "Name                                                  \n",
       "Peter      red  sweet   male   introvert            in\n",
       "Andreas  white  spicy   male   extrovert            in\n",
       "James      red  sweet   male   extrovert            in\n",
       "Jim      white  spicy   male   introvert           out\n",
       "John     white  spicy   male   extrovert           out"
      ]
     },
     "execution_count": 50,
     "metadata": {},
     "output_type": "execute_result"
    }
   ],
   "source": [
    "data.head()"
   ]
  },
  {
   "cell_type": "code",
   "execution_count": 51,
   "metadata": {},
   "outputs": [
    {
     "data": {
      "text/html": [
       "<div>\n",
       "<style>\n",
       "    .dataframe thead tr:only-child th {\n",
       "        text-align: right;\n",
       "    }\n",
       "\n",
       "    .dataframe thead th {\n",
       "        text-align: left;\n",
       "    }\n",
       "\n",
       "    .dataframe tbody tr th {\n",
       "        vertical-align: top;\n",
       "    }\n",
       "</style>\n",
       "<table border=\"1\" class=\"dataframe\">\n",
       "  <thead>\n",
       "    <tr style=\"text-align: right;\">\n",
       "      <th></th>\n",
       "      <th>Label</th>\n",
       "      <th>Taste</th>\n",
       "      <th>Gender</th>\n",
       "      <th>Personality</th>\n",
       "      <th>eat_in_or_out</th>\n",
       "      <th>Job</th>\n",
       "      <th>Bodysize</th>\n",
       "    </tr>\n",
       "    <tr>\n",
       "      <th>Name</th>\n",
       "      <th></th>\n",
       "      <th></th>\n",
       "      <th></th>\n",
       "      <th></th>\n",
       "      <th></th>\n",
       "      <th></th>\n",
       "      <th></th>\n",
       "    </tr>\n",
       "  </thead>\n",
       "  <tbody>\n",
       "    <tr>\n",
       "      <th>Peter</th>\n",
       "      <td>red</td>\n",
       "      <td>sweet</td>\n",
       "      <td>male</td>\n",
       "      <td>introvert</td>\n",
       "      <td>in</td>\n",
       "      <td>medical doctor</td>\n",
       "      <td>170</td>\n",
       "    </tr>\n",
       "    <tr>\n",
       "      <th>Andreas</th>\n",
       "      <td>white</td>\n",
       "      <td>spicy</td>\n",
       "      <td>male</td>\n",
       "      <td>extrovert</td>\n",
       "      <td>in</td>\n",
       "      <td>data scientist</td>\n",
       "      <td>182</td>\n",
       "    </tr>\n",
       "    <tr>\n",
       "      <th>James</th>\n",
       "      <td>red</td>\n",
       "      <td>sweet</td>\n",
       "      <td>male</td>\n",
       "      <td>extrovert</td>\n",
       "      <td>in</td>\n",
       "      <td>preacher man</td>\n",
       "      <td>190</td>\n",
       "    </tr>\n",
       "    <tr>\n",
       "      <th>Jim</th>\n",
       "      <td>white</td>\n",
       "      <td>spicy</td>\n",
       "      <td>male</td>\n",
       "      <td>introvert</td>\n",
       "      <td>out</td>\n",
       "      <td>professor</td>\n",
       "      <td>188</td>\n",
       "    </tr>\n",
       "    <tr>\n",
       "      <th>John</th>\n",
       "      <td>white</td>\n",
       "      <td>spicy</td>\n",
       "      <td>male</td>\n",
       "      <td>extrovert</td>\n",
       "      <td>out</td>\n",
       "      <td>post office officer</td>\n",
       "      <td>176</td>\n",
       "    </tr>\n",
       "  </tbody>\n",
       "</table>\n",
       "</div>"
      ],
      "text/plain": [
       "         Label  Taste Gender Personality eat_in_or_out                  Job  \\\n",
       "Name                                                                          \n",
       "Peter      red  sweet   male   introvert            in       medical doctor   \n",
       "Andreas  white  spicy   male   extrovert            in       data scientist   \n",
       "James      red  sweet   male   extrovert            in         preacher man   \n",
       "Jim      white  spicy   male   introvert           out            professor   \n",
       "John     white  spicy   male   extrovert           out  post office officer   \n",
       "\n",
       "         Bodysize  \n",
       "Name               \n",
       "Peter         170  \n",
       "Andreas       182  \n",
       "James         190  \n",
       "Jim           188  \n",
       "John          176  "
      ]
     },
     "execution_count": 51,
     "metadata": {},
     "output_type": "execute_result"
    }
   ],
   "source": [
    "joined.head()"
   ]
  },
  {
   "cell_type": "code",
   "execution_count": 52,
   "metadata": {},
   "outputs": [
    {
     "data": {
      "image/png": "[encoded data removed]",
      "text/plain": [
       "<matplotlib.figure.Figure at 0x7fc6dbcc8fd0>"
      ]
     },
     "metadata": {},
     "output_type": "display_data"
    }
   ],
   "source": [
    "# generate a boxplot\n",
    "sns.boxplot(data = joined, x= 'Gender', y='Bodysize')\n",
    "sns.despine()"
   ]
  },
  {
   "cell_type": "markdown",
   "metadata": {
    "collapsed": true
   },
   "source": [
    "#### excercises 4 - generate some visualizations\n",
    "1. generate a barplot for Personality frequencies\n",
    "2. generate a boxplot for Taste vs Bodysize\n",
    "3. change the colors of the boxplot\n",
    "4. generate a histogram/density plot for Bodysize\n",
    "5. BONUS: Put a swarmplot on top of boxplot"
   ]
  },
  {
   "cell_type": "markdown",
   "metadata": {
    "collapsed": true
   },
   "source": [
    "### let's train a model"
   ]
  },
  {
   "cell_type": "code",
   "execution_count": 53,
   "metadata": {
    "collapsed": true
   },
   "outputs": [],
   "source": [
    "from sklearn.ensemble import RandomForestClassifier\n",
    "from sklearn.metrics import accuracy_score"
   ]
  },
  {
   "cell_type": "code",
   "execution_count": 54,
   "metadata": {
    "collapsed": true
   },
   "outputs": [],
   "source": [
    "test = data.sample(5)\n",
    "train = data.loc[~data.index.isin(test.index),:]"
   ]
  },
  {
   "cell_type": "code",
   "execution_count": 55,
   "metadata": {},
   "outputs": [
    {
     "data": {
      "text/html": [
       "<div>\n",
       "<style>\n",
       "    .dataframe thead tr:only-child th {\n",
       "        text-align: right;\n",
       "    }\n",
       "\n",
       "    .dataframe thead th {\n",
       "        text-align: left;\n",
       "    }\n",
       "\n",
       "    .dataframe tbody tr th {\n",
       "        vertical-align: top;\n",
       "    }\n",
       "</style>\n",
       "<table border=\"1\" class=\"dataframe\">\n",
       "  <thead>\n",
       "    <tr style=\"text-align: right;\">\n",
       "      <th></th>\n",
       "      <th>Label</th>\n",
       "      <th>Taste</th>\n",
       "      <th>Gender</th>\n",
       "      <th>Personality</th>\n",
       "      <th>eat_in_or_out</th>\n",
       "    </tr>\n",
       "    <tr>\n",
       "      <th>Name</th>\n",
       "      <th></th>\n",
       "      <th></th>\n",
       "      <th></th>\n",
       "      <th></th>\n",
       "      <th></th>\n",
       "    </tr>\n",
       "  </thead>\n",
       "  <tbody>\n",
       "    <tr>\n",
       "      <th>Ian</th>\n",
       "      <td>red</td>\n",
       "      <td>sour</td>\n",
       "      <td>male</td>\n",
       "      <td>introvert</td>\n",
       "      <td>in</td>\n",
       "    </tr>\n",
       "    <tr>\n",
       "      <th>Patricia</th>\n",
       "      <td>white</td>\n",
       "      <td>spicy</td>\n",
       "      <td>female</td>\n",
       "      <td>extrovert</td>\n",
       "      <td>out</td>\n",
       "    </tr>\n",
       "    <tr>\n",
       "      <th>Peter</th>\n",
       "      <td>red</td>\n",
       "      <td>sweet</td>\n",
       "      <td>male</td>\n",
       "      <td>introvert</td>\n",
       "      <td>in</td>\n",
       "    </tr>\n",
       "    <tr>\n",
       "      <th>Xavier</th>\n",
       "      <td>rose</td>\n",
       "      <td>spicy</td>\n",
       "      <td>male</td>\n",
       "      <td>extrovert</td>\n",
       "      <td>in</td>\n",
       "    </tr>\n",
       "    <tr>\n",
       "      <th>Georgina</th>\n",
       "      <td>rose</td>\n",
       "      <td>hot</td>\n",
       "      <td>male</td>\n",
       "      <td>introvert</td>\n",
       "      <td>out</td>\n",
       "    </tr>\n",
       "  </tbody>\n",
       "</table>\n",
       "</div>"
      ],
      "text/plain": [
       "          Label  Taste  Gender Personality eat_in_or_out\n",
       "Name                                                    \n",
       "Ian         red   sour    male   introvert            in\n",
       "Patricia  white  spicy  female   extrovert           out\n",
       "Peter       red  sweet    male   introvert            in\n",
       "Xavier     rose  spicy    male   extrovert            in\n",
       "Georgina   rose    hot    male   introvert           out"
      ]
     },
     "execution_count": 55,
     "metadata": {},
     "output_type": "execute_result"
    }
   ],
   "source": [
    "test"
   ]
  },
  {
   "cell_type": "code",
   "execution_count": 56,
   "metadata": {},
   "outputs": [
    {
     "data": {
      "text/html": [
       "<div>\n",
       "<style>\n",
       "    .dataframe thead tr:only-child th {\n",
       "        text-align: right;\n",
       "    }\n",
       "\n",
       "    .dataframe thead th {\n",
       "        text-align: left;\n",
       "    }\n",
       "\n",
       "    .dataframe tbody tr th {\n",
       "        vertical-align: top;\n",
       "    }\n",
       "</style>\n",
       "<table border=\"1\" class=\"dataframe\">\n",
       "  <thead>\n",
       "    <tr style=\"text-align: right;\">\n",
       "      <th></th>\n",
       "      <th>Label</th>\n",
       "      <th>Taste</th>\n",
       "      <th>Gender</th>\n",
       "      <th>Personality</th>\n",
       "      <th>eat_in_or_out</th>\n",
       "    </tr>\n",
       "    <tr>\n",
       "      <th>Name</th>\n",
       "      <th></th>\n",
       "      <th></th>\n",
       "      <th></th>\n",
       "      <th></th>\n",
       "      <th></th>\n",
       "    </tr>\n",
       "  </thead>\n",
       "  <tbody>\n",
       "    <tr>\n",
       "      <th>Andreas</th>\n",
       "      <td>white</td>\n",
       "      <td>spicy</td>\n",
       "      <td>male</td>\n",
       "      <td>extrovert</td>\n",
       "      <td>in</td>\n",
       "    </tr>\n",
       "    <tr>\n",
       "      <th>James</th>\n",
       "      <td>red</td>\n",
       "      <td>sweet</td>\n",
       "      <td>male</td>\n",
       "      <td>extrovert</td>\n",
       "      <td>in</td>\n",
       "    </tr>\n",
       "    <tr>\n",
       "      <th>Jim</th>\n",
       "      <td>white</td>\n",
       "      <td>spicy</td>\n",
       "      <td>male</td>\n",
       "      <td>introvert</td>\n",
       "      <td>out</td>\n",
       "    </tr>\n",
       "    <tr>\n",
       "      <th>John</th>\n",
       "      <td>white</td>\n",
       "      <td>spicy</td>\n",
       "      <td>male</td>\n",
       "      <td>extrovert</td>\n",
       "      <td>out</td>\n",
       "    </tr>\n",
       "    <tr>\n",
       "      <th>Daniel</th>\n",
       "      <td>white</td>\n",
       "      <td>hot</td>\n",
       "      <td>male</td>\n",
       "      <td>extrovert</td>\n",
       "      <td>in</td>\n",
       "    </tr>\n",
       "    <tr>\n",
       "      <th>Catherine</th>\n",
       "      <td>rose</td>\n",
       "      <td>hot</td>\n",
       "      <td>female</td>\n",
       "      <td>extrovert</td>\n",
       "      <td>out</td>\n",
       "    </tr>\n",
       "    <tr>\n",
       "      <th>Paula</th>\n",
       "      <td>rose</td>\n",
       "      <td>hot</td>\n",
       "      <td>female</td>\n",
       "      <td>introvert</td>\n",
       "      <td>out</td>\n",
       "    </tr>\n",
       "    <tr>\n",
       "      <th>Adrian</th>\n",
       "      <td>red</td>\n",
       "      <td>sweet</td>\n",
       "      <td>male</td>\n",
       "      <td>extrovert</td>\n",
       "      <td>in</td>\n",
       "    </tr>\n",
       "    <tr>\n",
       "      <th>Maria</th>\n",
       "      <td>red</td>\n",
       "      <td>sweet</td>\n",
       "      <td>female</td>\n",
       "      <td>extrovert</td>\n",
       "      <td>in</td>\n",
       "    </tr>\n",
       "    <tr>\n",
       "      <th>Ben</th>\n",
       "      <td>white</td>\n",
       "      <td>sweet</td>\n",
       "      <td>male</td>\n",
       "      <td>introvert</td>\n",
       "      <td>out</td>\n",
       "    </tr>\n",
       "    <tr>\n",
       "      <th>Zac</th>\n",
       "      <td>white</td>\n",
       "      <td>sour</td>\n",
       "      <td>male</td>\n",
       "      <td>introvert</td>\n",
       "      <td>in</td>\n",
       "    </tr>\n",
       "    <tr>\n",
       "      <th>Hans</th>\n",
       "      <td>red</td>\n",
       "      <td>sweet</td>\n",
       "      <td>male</td>\n",
       "      <td>extrovert</td>\n",
       "      <td>out</td>\n",
       "    </tr>\n",
       "    <tr>\n",
       "      <th>Ralf</th>\n",
       "      <td>red</td>\n",
       "      <td>sour</td>\n",
       "      <td>male</td>\n",
       "      <td>extrovert</td>\n",
       "      <td>out</td>\n",
       "    </tr>\n",
       "    <tr>\n",
       "      <th>Ortrud</th>\n",
       "      <td>white</td>\n",
       "      <td>sour</td>\n",
       "      <td>female</td>\n",
       "      <td>introvert</td>\n",
       "      <td>out</td>\n",
       "    </tr>\n",
       "    <tr>\n",
       "      <th>Lilly</th>\n",
       "      <td>white</td>\n",
       "      <td>sweet</td>\n",
       "      <td>female</td>\n",
       "      <td>introvert</td>\n",
       "      <td>in</td>\n",
       "    </tr>\n",
       "  </tbody>\n",
       "</table>\n",
       "</div>"
      ],
      "text/plain": [
       "           Label  Taste  Gender Personality eat_in_or_out\n",
       "Name                                                     \n",
       "Andreas    white  spicy    male   extrovert            in\n",
       "James        red  sweet    male   extrovert            in\n",
       "Jim        white  spicy    male   introvert           out\n",
       "John       white  spicy    male   extrovert           out\n",
       "Daniel     white    hot    male   extrovert            in\n",
       "Catherine   rose    hot  female   extrovert           out\n",
       "Paula       rose    hot  female   introvert           out\n",
       "Adrian       red  sweet    male   extrovert            in\n",
       "Maria        red  sweet  female   extrovert            in\n",
       "Ben        white  sweet    male   introvert           out\n",
       "Zac        white   sour    male   introvert            in\n",
       "Hans         red  sweet    male   extrovert           out\n",
       "Ralf         red   sour    male   extrovert           out\n",
       "Ortrud     white   sour  female   introvert           out\n",
       "Lilly      white  sweet  female   introvert            in"
      ]
     },
     "execution_count": 56,
     "metadata": {},
     "output_type": "execute_result"
    }
   ],
   "source": [
    "train"
   ]
  },
  {
   "cell_type": "code",
   "execution_count": 57,
   "metadata": {
    "collapsed": true
   },
   "outputs": [],
   "source": [
    "clf = RandomForestClassifier()"
   ]
  },
  {
   "cell_type": "code",
   "execution_count": 58,
   "metadata": {},
   "outputs": [
    {
     "data": {
      "text/plain": [
       "RandomForestClassifier(bootstrap=True, class_weight=None, criterion='gini',\n",
       "            max_depth=None, max_features='auto', max_leaf_nodes=None,\n",
       "            min_impurity_split=1e-07, min_samples_leaf=1,\n",
       "            min_samples_split=2, min_weight_fraction_leaf=0.0,\n",
       "            n_estimators=10, n_jobs=1, oob_score=False, random_state=None,\n",
       "            verbose=0, warm_start=False)"
      ]
     },
     "execution_count": 58,
     "metadata": {},
     "output_type": "execute_result"
    }
   ],
   "source": [
    "clf.fit(pd.get_dummies(train.drop('Label', axis = 1)),train.Label)"
   ]
  },
  {
   "cell_type": "code",
   "execution_count": 59,
   "metadata": {
    "collapsed": true
   },
   "outputs": [],
   "source": [
    "train_data = pd.get_dummies(train.drop('Label', axis = 1))"
   ]
  },
  {
   "cell_type": "code",
   "execution_count": 60,
   "metadata": {
    "collapsed": true
   },
   "outputs": [],
   "source": [
    "test_data = pd.get_dummies(test.drop('Label',axis = 1))"
   ]
  },
  {
   "cell_type": "code",
   "execution_count": 61,
   "metadata": {
    "collapsed": true
   },
   "outputs": [],
   "source": [
    "test_data = test_data.loc[:,train_data.columns.tolist()].fillna(0)"
   ]
  },
  {
   "cell_type": "code",
   "execution_count": 62,
   "metadata": {
    "collapsed": true
   },
   "outputs": [],
   "source": [
    "pred_labels = clf.predict(test_data)"
   ]
  },
  {
   "cell_type": "code",
   "execution_count": 63,
   "metadata": {},
   "outputs": [
    {
     "data": {
      "text/plain": [
       "array(['white', 'rose', 'white', 'white', 'white'], dtype=object)"
      ]
     },
     "execution_count": 63,
     "metadata": {},
     "output_type": "execute_result"
    }
   ],
   "source": [
    "pred_labels"
   ]
  },
  {
   "cell_type": "code",
   "execution_count": 64,
   "metadata": {
    "collapsed": true
   },
   "outputs": [],
   "source": [
    "ct = pd.crosstab(test.Label, pred_labels, rownames=['actual'], colnames=['preds'])"
   ]
  },
  {
   "cell_type": "code",
   "execution_count": 65,
   "metadata": {},
   "outputs": [
    {
     "data": {
      "text/html": [
       "<div>\n",
       "<style>\n",
       "    .dataframe thead tr:only-child th {\n",
       "        text-align: right;\n",
       "    }\n",
       "\n",
       "    .dataframe thead th {\n",
       "        text-align: left;\n",
       "    }\n",
       "\n",
       "    .dataframe tbody tr th {\n",
       "        vertical-align: top;\n",
       "    }\n",
       "</style>\n",
       "<table border=\"1\" class=\"dataframe\">\n",
       "  <thead>\n",
       "    <tr style=\"text-align: right;\">\n",
       "      <th>preds</th>\n",
       "      <th>rose</th>\n",
       "      <th>white</th>\n",
       "    </tr>\n",
       "    <tr>\n",
       "      <th>actual</th>\n",
       "      <th></th>\n",
       "      <th></th>\n",
       "    </tr>\n",
       "  </thead>\n",
       "  <tbody>\n",
       "    <tr>\n",
       "      <th>red</th>\n",
       "      <td>0</td>\n",
       "      <td>2</td>\n",
       "    </tr>\n",
       "    <tr>\n",
       "      <th>rose</th>\n",
       "      <td>0</td>\n",
       "      <td>2</td>\n",
       "    </tr>\n",
       "    <tr>\n",
       "      <th>white</th>\n",
       "      <td>1</td>\n",
       "      <td>0</td>\n",
       "    </tr>\n",
       "  </tbody>\n",
       "</table>\n",
       "</div>"
      ],
      "text/plain": [
       "preds   rose  white\n",
       "actual             \n",
       "red        0      2\n",
       "rose       0      2\n",
       "white      1      0"
      ]
     },
     "execution_count": 65,
     "metadata": {},
     "output_type": "execute_result"
    }
   ],
   "source": [
    "ct"
   ]
  },
  {
   "cell_type": "code",
   "execution_count": 66,
   "metadata": {},
   "outputs": [
    {
     "data": {
      "text/plain": [
       "0.0"
      ]
     },
     "execution_count": 66,
     "metadata": {},
     "output_type": "execute_result"
    }
   ],
   "source": [
    "accuracy_score(test.Label, pred_labels)"
   ]
  }
 ],
 "metadata": {
  "celltoolbar": "Slideshow",
  "kernelspec": {
   "display_name": "Python 3",
   "language": "python",
   "name": "python3"
  },
  "language_info": {
   "codemirror_mode": {
    "name": "ipython",
    "version": 3
   },
   "file_extension": ".py",
   "mimetype": "text/x-python",
   "name": "python",
   "nbconvert_exporter": "python",
   "pygments_lexer": "ipython3",
   "version": "3.6.0"
  }
 },
 "nbformat": 4,
 "nbformat_minor": 2
}
