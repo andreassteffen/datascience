{
 "cells": [
  {
   "cell_type": "code",
   "execution_count": 1,
   "metadata": {},
   "outputs": [
    {
     "ename": "SyntaxError",
     "evalue": "invalid syntax (predict_label.py, line 32)",
     "output_type": "error",
     "traceback": [
      "\u001b[0;36m  File \u001b[0;32m\"/home/ggayq/programming/datascience_boston/datascience/datascience_in_practice/whoisu/notebooks/predict_label.py\"\u001b[0;36m, line \u001b[0;32m32\u001b[0m\n\u001b[0;31m    mport face_recognition as fr#    return ids_to_classes[np.argmax(prob)]\u001b[0m\n\u001b[0m                         ^\u001b[0m\n\u001b[0;31mSyntaxError\u001b[0m\u001b[0;31m:\u001b[0m invalid syntax\n"
     ]
    }
   ],
   "source": [
    "from predict_label import Predictor\n",
    "import glob"
   ]
  },
  {
   "cell_type": "code",
   "execution_count": 2,
   "metadata": {
    "collapsed": true
   },
   "outputs": [],
   "source": [
    "pred = Predictor(\"lfw_people_model.h5\")"
   ]
  },
  {
   "cell_type": "code",
   "execution_count": 4,
   "metadata": {},
   "outputs": [
    {
     "name": "stdout",
     "output_type": "stream",
     "text": [
      "Class0\n",
      "Class24\n",
      "Class0\n",
      "Class0\n",
      "Class0\n",
      "Class0\n",
      "Class0\n",
      "Class0\n",
      "Class0\n"
     ]
    }
   ],
   "source": [
    "for f in glob.glob(\"Images/LFW_PEOPLE_Train_Test/Test/Class0/*.jpg\"):\n",
    "    print(pred.predict(f))"
   ]
  }
 ],
 "metadata": {
  "kernelspec": {
   "display_name": "Python 3",
   "language": "python",
   "name": "python3"
  },
  "language_info": {
   "codemirror_mode": {
    "name": "ipython",
    "version": 3
   },
   "file_extension": ".py",
   "mimetype": "text/x-python",
   "name": "python",
   "nbconvert_exporter": "python",
   "pygments_lexer": "ipython3",
   "version": "3.6.1"
  }
 },
 "nbformat": 4,
 "nbformat_minor": 2
}
