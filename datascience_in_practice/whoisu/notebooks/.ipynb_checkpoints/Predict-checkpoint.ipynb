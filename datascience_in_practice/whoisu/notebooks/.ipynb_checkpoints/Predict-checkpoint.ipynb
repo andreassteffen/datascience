{
 "cells": [
  {
   "cell_type": "code",
   "execution_count": 6,
   "metadata": {},
   "outputs": [],
   "source": [
    "from predict_label import Predictor\n",
    "import numpy as np\n",
    "import glob"
   ]
  },
  {
   "cell_type": "code",
   "execution_count": 7,
   "metadata": {
    "collapsed": true
   },
   "outputs": [],
   "source": [
    "#!/usr/bin/env python\n",
    "import numpy as np\n",
    "import pickle \n",
    "from keras.models import load_model\n",
    "from keras.preprocessing.image import  img_to_array, load_img\n",
    "import face_recognition as fr\n",
    "from PIL import Image\n",
    "\n",
    "class Predictor:\n",
    "    def __init__(self, kerasmodelfile):\n",
    "        self.kerasmodelfile = kerasmodelfile\n",
    "        self.picklefile = kerasmodelfile.replace(\"h5\", \"pickle\")\n",
    "        self.model = load_model(self.kerasmodelfile)\n",
    "        with open(self.picklefile, 'rb') as handle:\n",
    "            self.ids_to_classes = pickle.load(handle)\n",
    "    \n",
    "    def convert_to_face_only(self, ifile, final_height=120, final_width=120, raw_resize_fraction=0.5):\n",
    "        image = fr.load_image_file(ifile)\n",
    "        image = np.rot90(image,-1)\n",
    "        face_locations = fr.face_locations(image)\n",
    "        top,right,bottom,left = face_locations[0]\n",
    "        face_image = image[top:bottom, left:right]\n",
    "        small_img = Image.fromarray(face_image)\n",
    "        small_img = small_img.resize((final_height, final_width))\n",
    "        return np.copy(np.array(small_img)[:,:,:3])\n",
    "\n",
    "    def predict(self, imagefn):\n",
    "        x = self.convert_to_face_only(imagefn)\n",
    "        x = x.astype('float32')\n",
    "        x = x.reshape((1,) + x.shape)  # this is a Numpy array with shape (1, 3, 150, 150)\n",
    "\n",
    "        x /= 255.\n",
    "        prob = self.model.predict(x)\n",
    "        #print(prob,np.argmax(prob),len(ids_to_classes))\n",
    "        return self.ids_to_classes[np.argmax(prob)]\n",
    "#def predict(imagefn, kerasmodelfile, picklefile):\n",
    "#    model = load_model(kerasmodelfile)\n",
    "#    with open(picklefile, 'rb') as handle:\n",
    "#        ids_to_classes = pickle.load(handle)\n",
    "#    img = load_img(imagefn)  # this is a PIL image    \n",
    "#    x = img_to_array(img)  # this is a Numpy array with shape (3, 150, 150)\n",
    "#    x = x.reshape((1,) + x.shape)  # this is a Numpy array with shape (1, 3, 150, 150)\n",
    "#    prob = model.predict(x)\n",
    "#    print(prob,np.argmax(prob),len(ids_to_classes))\n",
    "\n"
   ]
  },
  {
   "cell_type": "code",
   "execution_count": 8,
   "metadata": {
    "collapsed": true
   },
   "outputs": [],
   "source": [
    "pred = Predictor(\"try_run_people_model.h5\")"
   ]
  },
  {
   "cell_type": "code",
   "execution_count": 9,
   "metadata": {},
   "outputs": [
    {
     "name": "stdout",
     "output_type": "stream",
     "text": [
      "img/Andreas_Steffen/5c0d794c-7981-46cf-a838-70d32f92b255.jpg Andreas_Steffen\n",
      "img/Andreas_Steffen/6af3854c-b617-4341-b7a9-c2daee4b4c2b.jpg Andreas_Steffen\n",
      "img/Andreas_Steffen/6ead320d-f835-4b14-a9c5-ecbde445042c.jpg Andreas_Steffen\n",
      "img/Andreas_Steffen/a017f937-bd63-4785-bcc4-37b989ea3af7.jpg Andreas_Steffen\n",
      "img/Andreas_Steffen/bcc03a0f-09a4-4f64-bad7-717c1d64b0e0.jpg Andreas_Steffen\n",
      "img/Andreas_Steffen/e474894c-9087-4a4d-93d6-cbead6a629f5.jpg Andreas_Steffen\n",
      "img/Andreas_Steffen/e802dd21-0ad4-4c65-84f9-2e0c498e8644.jpg Andreas_Steffen\n",
      "img/Andreas_Steffen/f7fa35d1-3e34-4966-8e2c-396ace8f8bfb.jpg Andreas_Steffen\n"
     ]
    }
   ],
   "source": [
    "for f in glob.glob(\"img/Andreas_Steffen/*.jpg\"):\n",
    "    print(f,pred.predict(f))"
   ]
  }
 ],
 "metadata": {
  "kernelspec": {
   "display_name": "Python 3",
   "language": "python",
   "name": "python3"
  },
  "language_info": {
   "codemirror_mode": {
    "name": "ipython",
    "version": 3
   },
   "file_extension": ".py",
   "mimetype": "text/x-python",
   "name": "python",
   "nbconvert_exporter": "python",
   "pygments_lexer": "ipython3",
   "version": "3.6.2"
  }
 },
 "nbformat": 4,
 "nbformat_minor": 2
}
