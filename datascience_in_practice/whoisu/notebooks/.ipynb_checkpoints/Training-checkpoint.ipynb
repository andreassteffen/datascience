{
 "cells": [
  {
   "cell_type": "markdown",
   "metadata": {},
   "source": [
    "# Train your first computer vision model\n",
    "### How to use data augmentation and convolutional neural networks to train a face recognition system\n",
    "\n",
    "In this tutorial you work with images taken from the participants beforehand with our WhoRU webapp.\n",
    "\n",
    "\n",
    "At the end of the tutorial you can save your model, which later can then be plugged into our WhoRU webapp to check how good it performs as compared to the other uploads.\n",
    "\n",
    "Have fun!\n",
    "\n",
    "Particular parameters you should play with are highlighted by a comment #"
   ]
  },
  {
   "cell_type": "code",
   "execution_count": 2,
   "metadata": {},
   "outputs": [],
   "source": [
    "%matplotlib inline\n",
    "import matplotlib.pyplot as plt\n",
    "import numpy as np\n",
    "np.random.seed(42)\n",
    "import os\n",
    "import glob\n",
    "#from face_detection import get_face, convert_to_face_only\n",
    "from  sklearn.model_selection import train_test_split\n",
    "from shutil import copyfile\n",
    "# Keras stuff\n",
    "from keras.preprocessing.image import ImageDataGenerator, array_to_img, img_to_array, load_img\n",
    "from keras.models import Sequential\n",
    "from keras.layers import Conv2D, MaxPooling2D\n",
    "from keras.layers import Activation, Dropout, Flatten, Dense,Reshape\n",
    "import pickle\n",
    "from face_detection import convert_to_face_only"
   ]
  },
  {
   "cell_type": "markdown",
   "metadata": {},
   "source": [
    "## Set some important parameters"
   ]
  },
  {
   "cell_type": "code",
   "execution_count": 51,
   "metadata": {
    "collapsed": true
   },
   "outputs": [],
   "source": [
    "DATA_PATH = \"./img/\" #where are the images located\n",
    "MODEL_FILENAME= 'try_run_people_model.h5' #where to store the Keras model (including weights)\n",
    "# Image dimensions for cropped pictures\n",
    "FINAL_HEIGHT=120\n",
    "FINAL_WIDTH=120\n",
    "AUGMENT_VALIDATION = True"
   ]
  },
  {
   "cell_type": "markdown",
   "metadata": {},
   "source": [
    "## Get an overview of the available  data"
   ]
  },
  {
   "cell_type": "code",
   "execution_count": 9,
   "metadata": {
    "collapsed": true
   },
   "outputs": [],
   "source": [
    "classes = [ name for name in os.listdir(DATA_PATH) if os.path.isdir(os.path.join(DATA_PATH, name)) ]\n",
    "nclasses = len(classes)\n",
    "files = {cl:glob.glob(DATA_PATH+cl+\"/*.jpg\") for cl in classes}"
   ]
  },
  {
   "cell_type": "code",
   "execution_count": 10,
   "metadata": {},
   "outputs": [
    {
     "name": "stdout",
     "output_type": "stream",
     "text": [
      "Category 'Alon_Harris' has 3 images\n",
      "Category 'Andreas_Steffen' has 8 images\n",
      "Category 'Bertram_Weiss' has 2 images\n",
      "Category 'Djork-Arne_Clevert' has 8 images\n",
      "Category 'Eren_Elci' has 10 images\n",
      "Category 'Melanie_Heroult' has 2 images\n",
      "Category 'Silke_Andree-Labsch' has 4 images\n",
      "Category 'Timo_Weber' has 7 images\n"
     ]
    }
   ],
   "source": [
    "for cl,fls in files.items():\n",
    "    print(\"Category '{}' has {} images\".format(cl,len(fls)))"
   ]
  },
  {
   "cell_type": "markdown",
   "metadata": {},
   "source": [
    "## Split into the training and test sets and run face detection"
   ]
  },
  {
   "cell_type": "code",
   "execution_count": 11,
   "metadata": {
    "collapsed": true
   },
   "outputs": [],
   "source": [
    "files_test = {}\n",
    "files_train = {}\n",
    "for cl in classes:\n",
    "    files_train[cl], files_test[cl] = train_test_split(files[cl], test_size=1) # 2 pictures go into test set"
   ]
  },
  {
   "cell_type": "code",
   "execution_count": 12,
   "metadata": {},
   "outputs": [
    {
     "name": "stdout",
     "output_type": "stream",
     "text": [
      "  ./img/Alon_Harris/b15bd381-0fa6-40c4-9fac-db869c81561e.jpg -> ./img_Train_Test/Train/Alon_Harris/b15bd381-0fa6-40c4-9fac-db869c81561e.jpg\n",
      "  ./img/Alon_Harris/aa2270fb-1158-4c89-93f0-af390254d70d.jpg -> ./img_Train_Test/Train/Alon_Harris/aa2270fb-1158-4c89-93f0-af390254d70d.jpg\n",
      "  ./img/Andreas_Steffen/6af3854c-b617-4341-b7a9-c2daee4b4c2b.jpg -> ./img_Train_Test/Train/Andreas_Steffen/6af3854c-b617-4341-b7a9-c2daee4b4c2b.jpg\n",
      "  ./img/Andreas_Steffen/bcc03a0f-09a4-4f64-bad7-717c1d64b0e0.jpg -> ./img_Train_Test/Train/Andreas_Steffen/bcc03a0f-09a4-4f64-bad7-717c1d64b0e0.jpg\n",
      "  ./img/Andreas_Steffen/e802dd21-0ad4-4c65-84f9-2e0c498e8644.jpg -> ./img_Train_Test/Train/Andreas_Steffen/e802dd21-0ad4-4c65-84f9-2e0c498e8644.jpg\n",
      "  ./img/Andreas_Steffen/6ead320d-f835-4b14-a9c5-ecbde445042c.jpg -> ./img_Train_Test/Train/Andreas_Steffen/6ead320d-f835-4b14-a9c5-ecbde445042c.jpg\n",
      "  ./img/Andreas_Steffen/e474894c-9087-4a4d-93d6-cbead6a629f5.jpg -> ./img_Train_Test/Train/Andreas_Steffen/e474894c-9087-4a4d-93d6-cbead6a629f5.jpg\n",
      "  ./img/Andreas_Steffen/f7fa35d1-3e34-4966-8e2c-396ace8f8bfb.jpg -> ./img_Train_Test/Train/Andreas_Steffen/f7fa35d1-3e34-4966-8e2c-396ace8f8bfb.jpg\n",
      "  ./img/Andreas_Steffen/a017f937-bd63-4785-bcc4-37b989ea3af7.jpg -> ./img_Train_Test/Train/Andreas_Steffen/a017f937-bd63-4785-bcc4-37b989ea3af7.jpg\n",
      "  ./img/Bertram_Weiss/a990949f-2a2d-4b83-9c7b-94ac98350303.jpg -> ./img_Train_Test/Train/Bertram_Weiss/a990949f-2a2d-4b83-9c7b-94ac98350303.jpg\n",
      "  ./img/Djork-Arne_Clevert/6cc64627-fe6e-4292-a388-6c800bb25afc.jpg -> ./img_Train_Test/Train/Djork-Arne_Clevert/6cc64627-fe6e-4292-a388-6c800bb25afc.jpg\n",
      "  ./img/Djork-Arne_Clevert/f64f1097-f011-4694-8b23-45f1a25f682c.jpg -> ./img_Train_Test/Train/Djork-Arne_Clevert/f64f1097-f011-4694-8b23-45f1a25f682c.jpg\n",
      "  ./img/Djork-Arne_Clevert/b08e07b8-1770-4752-a6f7-b12e3db11d0a.jpg -> ./img_Train_Test/Train/Djork-Arne_Clevert/b08e07b8-1770-4752-a6f7-b12e3db11d0a.jpg\n",
      "  ./img/Djork-Arne_Clevert/b14d4234-fa3e-48f1-bb20-a40b74c2fc83.jpg -> ./img_Train_Test/Train/Djork-Arne_Clevert/b14d4234-fa3e-48f1-bb20-a40b74c2fc83.jpg\n",
      "  ./img/Djork-Arne_Clevert/853e2a0b-e1a3-45b8-a171-71a8d7fc00f7.jpg -> ./img_Train_Test/Train/Djork-Arne_Clevert/853e2a0b-e1a3-45b8-a171-71a8d7fc00f7.jpg\n",
      "  ./img/Djork-Arne_Clevert/2dee6eaa-12a0-414a-afef-0cbe4612e0d5.jpg -> ./img_Train_Test/Train/Djork-Arne_Clevert/2dee6eaa-12a0-414a-afef-0cbe4612e0d5.jpg\n",
      "  ./img/Djork-Arne_Clevert/039a506a-06cd-43b0-8ca9-627d559d8140.jpg -> ./img_Train_Test/Train/Djork-Arne_Clevert/039a506a-06cd-43b0-8ca9-627d559d8140.jpg\n",
      "  ./img/Eren_Elci/b8e6beb7-57ad-4fdb-9b95-65066fbb6c01.jpg -> ./img_Train_Test/Train/Eren_Elci/b8e6beb7-57ad-4fdb-9b95-65066fbb6c01.jpg\n",
      "  ./img/Eren_Elci/fed234d8-7c2a-4a28-b3ff-b5da0655d02a.jpg -> ./img_Train_Test/Train/Eren_Elci/fed234d8-7c2a-4a28-b3ff-b5da0655d02a.jpg\n",
      "  ./img/Eren_Elci/95fb02ad-43e1-4c2b-9c26-25492ffbb32c.jpg -> ./img_Train_Test/Train/Eren_Elci/95fb02ad-43e1-4c2b-9c26-25492ffbb32c.jpg\n",
      "  ./img/Eren_Elci/f160041f-dc56-45f6-82b3-a6dda7c6850d.jpg -> ./img_Train_Test/Train/Eren_Elci/f160041f-dc56-45f6-82b3-a6dda7c6850d.jpg\n",
      "  ./img/Eren_Elci/d736089f-de01-478d-aef5-87432baf0c92.jpg -> ./img_Train_Test/Train/Eren_Elci/d736089f-de01-478d-aef5-87432baf0c92.jpg\n",
      "  ./img/Eren_Elci/27764698-1e4f-4768-8958-64fc417db5df.jpg -> ./img_Train_Test/Train/Eren_Elci/27764698-1e4f-4768-8958-64fc417db5df.jpg\n",
      "  ./img/Eren_Elci/95772802-9f52-48ab-bb4e-f94d824a2dbd.jpg -> ./img_Train_Test/Train/Eren_Elci/95772802-9f52-48ab-bb4e-f94d824a2dbd.jpg\n",
      "  ./img/Eren_Elci/52b28409-cf23-418c-abac-32ee19c6f18d.jpg -> ./img_Train_Test/Train/Eren_Elci/52b28409-cf23-418c-abac-32ee19c6f18d.jpg\n",
      "  ./img/Eren_Elci/c43b8955-028b-4785-b5d8-532760d0b688.jpg -> ./img_Train_Test/Train/Eren_Elci/c43b8955-028b-4785-b5d8-532760d0b688.jpg\n",
      "  ./img/Melanie_Heroult/69764b38-84c5-4e58-87b2-1e2b3465a626.jpg -> ./img_Train_Test/Train/Melanie_Heroult/69764b38-84c5-4e58-87b2-1e2b3465a626.jpg\n",
      "  ./img/Silke_Andree-Labsch/fdb087d2-db6c-450f-ab31-411589d5372b.jpg -> ./img_Train_Test/Train/Silke_Andree-Labsch/fdb087d2-db6c-450f-ab31-411589d5372b.jpg\n",
      "  ./img/Silke_Andree-Labsch/d6eb7af6-b60d-46a0-85eb-00366035570c.jpg -> ./img_Train_Test/Train/Silke_Andree-Labsch/d6eb7af6-b60d-46a0-85eb-00366035570c.jpg\n",
      "  ./img/Silke_Andree-Labsch/8b7aeb65-6542-4c06-bba1-681f87a75de5.jpg -> ./img_Train_Test/Train/Silke_Andree-Labsch/8b7aeb65-6542-4c06-bba1-681f87a75de5.jpg\n",
      "  ./img/Timo_Weber/001f4d47-4a9e-44ba-9499-1e24f3281126.jpg -> ./img_Train_Test/Train/Timo_Weber/001f4d47-4a9e-44ba-9499-1e24f3281126.jpg\n",
      "  ./img/Timo_Weber/1c4b1404-ba15-4acf-b073-539a2776cd7b.jpg -> ./img_Train_Test/Train/Timo_Weber/1c4b1404-ba15-4acf-b073-539a2776cd7b.jpg\n",
      "  ./img/Timo_Weber/6c667565-c0e0-4ea0-835f-14c1ff811c46.jpg -> ./img_Train_Test/Train/Timo_Weber/6c667565-c0e0-4ea0-835f-14c1ff811c46.jpg\n",
      "  ./img/Timo_Weber/69ed9cd8-e593-4a2f-8455-2c24b8d35aa7.jpg -> ./img_Train_Test/Train/Timo_Weber/69ed9cd8-e593-4a2f-8455-2c24b8d35aa7.jpg\n",
      "  ./img/Timo_Weber/2e648787-84f5-4269-908f-5f702ee1797d.jpg -> ./img_Train_Test/Train/Timo_Weber/2e648787-84f5-4269-908f-5f702ee1797d.jpg\n",
      "  ./img/Timo_Weber/9c4eccf1-8ebe-4b1c-8b81-129bf4402941.jpg -> ./img_Train_Test/Train/Timo_Weber/9c4eccf1-8ebe-4b1c-8b81-129bf4402941.jpg\n",
      "  ./img/Alon_Harris/7bf19ab3-df6a-4451-9b17-3216a7a55e71.jpg -> ./img_Train_Test/Test/Alon_Harris/7bf19ab3-df6a-4451-9b17-3216a7a55e71.jpg\n",
      "  ./img/Andreas_Steffen/5c0d794c-7981-46cf-a838-70d32f92b255.jpg -> ./img_Train_Test/Test/Andreas_Steffen/5c0d794c-7981-46cf-a838-70d32f92b255.jpg\n",
      "  ./img/Bertram_Weiss/75b3a775-03b6-4f7f-b0bf-f01d4fab009f.jpg -> ./img_Train_Test/Test/Bertram_Weiss/75b3a775-03b6-4f7f-b0bf-f01d4fab009f.jpg\n",
      "  ./img/Djork-Arne_Clevert/1dbd750d-3aa7-4684-99c9-8276d1f98c88.jpg -> ./img_Train_Test/Test/Djork-Arne_Clevert/1dbd750d-3aa7-4684-99c9-8276d1f98c88.jpg\n",
      "  ./img/Eren_Elci/7c93ad41-4029-4f79-9817-55f31b0d7600.jpg -> ./img_Train_Test/Test/Eren_Elci/7c93ad41-4029-4f79-9817-55f31b0d7600.jpg\n",
      "  ./img/Melanie_Heroult/aff7b9ce-7f50-4d9a-99eb-9efae02627a1.jpg -> ./img_Train_Test/Test/Melanie_Heroult/aff7b9ce-7f50-4d9a-99eb-9efae02627a1.jpg\n",
      "  ./img/Silke_Andree-Labsch/6d95e85a-822d-4ca6-b65c-aa5a4572ef07.jpg -> ./img_Train_Test/Test/Silke_Andree-Labsch/6d95e85a-822d-4ca6-b65c-aa5a4572ef07.jpg\n",
      "  ./img/Timo_Weber/06bd1325-d8ea-4976-916d-f1283234d52d.jpg -> ./img_Train_Test/Test/Timo_Weber/06bd1325-d8ea-4976-916d-f1283234d52d.jpg\n"
     ]
    }
   ],
   "source": [
    "# create the train/test - directory structure and put the cropped pictures into it\n",
    "train_dest_directory = DATA_PATH[:-1]+\"_Train_Test/\"\n",
    "if not os.path.exists(train_dest_directory):\n",
    "    os.makedirs(train_dest_directory)\n",
    "\n",
    "for t_ in [\"Train\", \"Test\"]:\n",
    "    for cl,fns in files_test.items() if t_ == \"Test\" else files_train.items():\n",
    "        tmp_dir = train_dest_directory+t_+\"/\"+cl+\"/\"\n",
    "        #print(tmp_dir)\n",
    "        if not os.path.exists(tmp_dir):\n",
    "            os.makedirs(tmp_dir)\n",
    "        for f in fns:\n",
    "            print(\" \",f, \"->\", tmp_dir +f[f.rindex(\"/\")+1:])\n",
    "            # skip since pics are already cropped\n",
    "            convert_to_face_only(f, tmp_dir +f[f.rindex(\"/\")+1:], final_height=FINAL_HEIGHT, final_width=FINAL_WIDTH) # runs face detection! 120x120 pictures\n",
    "            #copyfile(f,tmp_dir +f[f.rindex(\"/\")+1:] )\n",
    "            # face detection is based on default OpenCV (Haar) cascade filter\n",
    "            # see also https://realpython.com/blog/python/face-recognition-with-python/\n",
    "            #copyfile(f,tmp_dir +f[f.rindex(\"/\")+1:])"
   ]
  },
  {
   "cell_type": "markdown",
   "metadata": {},
   "source": [
    "# Build the Keras model"
   ]
  },
  {
   "cell_type": "markdown",
   "metadata": {},
   "source": [
    "![Typical CNN](typical_cnn.png)\n",
    "Figure taken from \"Hands-On Machine Learning with Scikit-Learn & TensorFlow\""
   ]
  },
  {
   "cell_type": "code",
   "execution_count": 42,
   "metadata": {
    "collapsed": true
   },
   "outputs": [],
   "source": [
    "model = Sequential()\n",
    "\n",
    "model.add(Conv2D(32, (3, 3), input_shape=( FINAL_HEIGHT, FINAL_WIDTH,3), strides=(2, 2)))\n",
    "model.add(Activation('relu'))\n",
    "model.add(MaxPooling2D(pool_size=(2, 2)))\n",
    "\n",
    "model.add(Conv2D(32, (3, 3),strides=(2, 2)))\n",
    "model.add(Activation('relu'))\n",
    "model.add(MaxPooling2D(pool_size=(2, 2)))\n",
    "\n",
    "model.add(Conv2D(64, (3, 3)))\n",
    "model.add(Activation('relu'))\n",
    "model.add(MaxPooling2D(pool_size=(2, 2)))\n",
    "\n",
    "model.add(Flatten())  # this converts our 3D feature maps to 1D feature vectors\n",
    "model.add(Dense(64))\n",
    "model.add(Activation('relu'))\n",
    "\n",
    "model.add(Dropout(0.25)) #0.5 is too high\n",
    "\n",
    "model.add(Dense(nclasses))\n",
    "model.add(Activation('softmax'))\n",
    "\n",
    "model.compile(loss='categorical_crossentropy', #TODO: change this for multiclass cases\n",
    "              optimizer='adam', #better\n",
    "              metrics=['accuracy'])"
   ]
  },
  {
   "cell_type": "markdown",
   "metadata": {},
   "source": [
    "## Create Pipeline "
   ]
  },
  {
   "cell_type": "code",
   "execution_count": 52,
   "metadata": {},
   "outputs": [
    {
     "name": "stdout",
     "output_type": "stream",
     "text": [
      "Found 42 images belonging to 8 classes.\n",
      "Found 14 images belonging to 8 classes.\n"
     ]
    }
   ],
   "source": [
    "batch_size = 1 # should be around 8 if we have 30pics per person\n",
    "# this is the augmentation configuration we will use for training\n",
    "train_datagen = ImageDataGenerator(\n",
    "        rescale=1./255, #normalisation\n",
    "        rotation_range=5, #play around with this, was 5\n",
    "        shear_range=0.1, #was 0.1\n",
    "        zoom_range=0.1, #was 0.1\n",
    "        fill_mode='nearest')\n",
    "\n",
    "# this is the augmentation configuration we will use for testing:\n",
    "# only rescaling\n",
    "if AUGMENT_VALIDATION:\n",
    "    test_datagen = ImageDataGenerator(rescale=1./255,\n",
    "                                      rotation_range=5, #play around with this\n",
    "                                      shear_range=0.1,\n",
    "                                      zoom_range=0.1,)\n",
    "else:\n",
    "    test_datagen = ImageDataGenerator(rescale=1./255)\n",
    "# this is a generator that will read pictures found in\n",
    "# subfolers of  train_dest_directory+'Train/', and indefinitely generate\n",
    "# batches of augmented image data\n",
    "train_generator = train_datagen.flow_from_directory(\n",
    "        train_dest_directory+'Train/',  # this is the target directory\n",
    "        target_size=(FINAL_HEIGHT, FINAL_WIDTH),  # in case we want to resize images\n",
    "        batch_size=batch_size,\n",
    "        class_mode='categorical')  # since we use binary_crossentropy loss, we need binary labels\n",
    "                              \n",
    "\n",
    "# this is a similar generator, for validation data\n",
    "validation_generator = test_datagen.flow_from_directory(\n",
    "       train_dest_directory+'Test/',\n",
    "        target_size=(FINAL_HEIGHT, FINAL_WIDTH),\n",
    "        batch_size=batch_size,\n",
    "        class_mode='categorical')"
   ]
  },
  {
   "cell_type": "code",
   "execution_count": 53,
   "metadata": {},
   "outputs": [
    {
     "name": "stdout",
     "output_type": "stream",
     "text": [
      "Epoch 1/50\n",
      "36/36 [==============================] - 0s - loss: 0.3239 - acc: 0.8889 - val_loss: 0.5192 - val_acc: 0.9250\n",
      "Epoch 2/50\n",
      "36/36 [==============================] - 0s - loss: 0.4542 - acc: 0.8056 - val_loss: 0.3480 - val_acc: 0.9250\n",
      "Epoch 3/50\n",
      "36/36 [==============================] - 0s - loss: 0.6461 - acc: 0.7500 - val_loss: 0.5608 - val_acc: 0.8750\n",
      "Epoch 4/50\n",
      "36/36 [==============================] - 0s - loss: 0.8218 - acc: 0.7778 - val_loss: 0.3302 - val_acc: 0.9250\n",
      "Epoch 5/50\n",
      "36/36 [==============================] - 0s - loss: 0.4504 - acc: 0.8056 - val_loss: 0.3642 - val_acc: 0.9250\n",
      "Epoch 6/50\n",
      "36/36 [==============================] - 0s - loss: 0.6743 - acc: 0.7778 - val_loss: 0.3379 - val_acc: 0.9375\n",
      "Epoch 7/50\n",
      "36/36 [==============================] - 0s - loss: 0.7895 - acc: 0.7222 - val_loss: 0.3586 - val_acc: 0.9375\n",
      "Epoch 8/50\n",
      "36/36 [==============================] - 0s - loss: 0.5787 - acc: 0.8056 - val_loss: 0.2663 - val_acc: 0.9250\n",
      "Epoch 9/50\n",
      "36/36 [==============================] - 0s - loss: 0.6118 - acc: 0.7222 - val_loss: 0.4888 - val_acc: 0.8500\n",
      "Epoch 10/50\n",
      "36/36 [==============================] - 0s - loss: 0.5564 - acc: 0.8333 - val_loss: 0.3575 - val_acc: 0.9375\n",
      "Epoch 11/50\n",
      "36/36 [==============================] - 0s - loss: 0.5965 - acc: 0.8333 - val_loss: 0.4773 - val_acc: 0.9250\n",
      "Epoch 12/50\n",
      "36/36 [==============================] - 0s - loss: 0.3686 - acc: 0.8333 - val_loss: 0.2666 - val_acc: 0.9250\n",
      "Epoch 13/50\n",
      "36/36 [==============================] - 0s - loss: 0.5311 - acc: 0.8056 - val_loss: 0.3007 - val_acc: 0.9250\n",
      "Epoch 14/50\n",
      "36/36 [==============================] - 0s - loss: 0.3554 - acc: 0.8611 - val_loss: 0.4303 - val_acc: 0.9250\n",
      "Epoch 15/50\n",
      "36/36 [==============================] - 0s - loss: 0.1803 - acc: 0.9444 - val_loss: 0.5137 - val_acc: 0.9375\n",
      "Epoch 16/50\n",
      "36/36 [==============================] - 0s - loss: 0.5100 - acc: 0.8611 - val_loss: 0.3381 - val_acc: 0.9250\n",
      "Epoch 17/50\n",
      "36/36 [==============================] - 0s - loss: 0.3723 - acc: 0.8889 - val_loss: 0.3273 - val_acc: 0.9375\n",
      "Epoch 18/50\n",
      "36/36 [==============================] - 0s - loss: 0.5136 - acc: 0.7778 - val_loss: 0.2825 - val_acc: 0.9250\n",
      "Epoch 19/50\n",
      "36/36 [==============================] - 0s - loss: 0.9553 - acc: 0.6667 - val_loss: 0.3003 - val_acc: 0.9375\n",
      "Epoch 20/50\n",
      "36/36 [==============================] - 0s - loss: 0.6829 - acc: 0.8333 - val_loss: 0.3977 - val_acc: 0.9250\n",
      "Epoch 21/50\n",
      "36/36 [==============================] - 0s - loss: 0.3981 - acc: 0.8611 - val_loss: 0.3598 - val_acc: 0.9375\n",
      "Epoch 22/50\n",
      "36/36 [==============================] - 0s - loss: 0.4005 - acc: 0.8056 - val_loss: 0.3989 - val_acc: 0.9125\n",
      "Epoch 23/50\n",
      "36/36 [==============================] - 0s - loss: 0.2440 - acc: 0.9167 - val_loss: 0.3429 - val_acc: 0.9375\n",
      "Epoch 24/50\n",
      "36/36 [==============================] - 0s - loss: 0.2932 - acc: 0.9167 - val_loss: 0.4675 - val_acc: 0.9250\n",
      "Epoch 25/50\n",
      "36/36 [==============================] - 0s - loss: 0.4678 - acc: 0.8889 - val_loss: 0.4462 - val_acc: 0.9250\n",
      "Epoch 26/50\n",
      "36/36 [==============================] - 0s - loss: 0.4273 - acc: 0.8611 - val_loss: 0.3193 - val_acc: 0.9250\n",
      "Epoch 27/50\n",
      "36/36 [==============================] - 0s - loss: 0.1883 - acc: 0.9722 - val_loss: 0.2594 - val_acc: 0.9375\n",
      "Epoch 28/50\n",
      "36/36 [==============================] - 0s - loss: 0.4600 - acc: 0.8333 - val_loss: 0.4726 - val_acc: 0.9375\n",
      "Epoch 29/50\n",
      "36/36 [==============================] - 0s - loss: 0.5953 - acc: 0.7778 - val_loss: 0.2944 - val_acc: 0.9250\n",
      "Epoch 30/50\n",
      "36/36 [==============================] - 0s - loss: 0.3740 - acc: 0.8611 - val_loss: 0.3591 - val_acc: 0.9000\n",
      "Epoch 31/50\n",
      "36/36 [==============================] - 0s - loss: 0.3673 - acc: 0.8889 - val_loss: 0.4881 - val_acc: 0.9250\n",
      "Epoch 32/50\n",
      "36/36 [==============================] - 0s - loss: 0.2784 - acc: 0.9167 - val_loss: 0.2430 - val_acc: 0.9375\n",
      "Epoch 33/50\n",
      "36/36 [==============================] - 0s - loss: 0.3302 - acc: 0.8889 - val_loss: 0.3596 - val_acc: 0.9375\n",
      "Epoch 34/50\n",
      "36/36 [==============================] - 0s - loss: 0.4676 - acc: 0.8333 - val_loss: 0.3775 - val_acc: 0.9250\n",
      "Epoch 35/50\n",
      "36/36 [==============================] - 0s - loss: 0.3272 - acc: 0.8611 - val_loss: 0.4433 - val_acc: 0.9250\n",
      "Epoch 36/50\n",
      "36/36 [==============================] - 0s - loss: 0.4157 - acc: 0.9167 - val_loss: 0.4844 - val_acc: 0.8875\n",
      "Epoch 37/50\n",
      "36/36 [==============================] - 0s - loss: 0.6120 - acc: 0.7778 - val_loss: 0.4609 - val_acc: 0.9250\n",
      "Epoch 38/50\n",
      "36/36 [==============================] - 0s - loss: 0.5338 - acc: 0.8333 - val_loss: 0.3476 - val_acc: 0.9250\n",
      "Epoch 39/50\n",
      "36/36 [==============================] - 0s - loss: 0.2639 - acc: 0.9167 - val_loss: 0.3394 - val_acc: 0.9375\n",
      "Epoch 40/50\n",
      "36/36 [==============================] - 0s - loss: 0.2791 - acc: 0.8611 - val_loss: 0.4491 - val_acc: 0.9250\n",
      "Epoch 41/50\n",
      "36/36 [==============================] - 0s - loss: 0.1953 - acc: 0.9444 - val_loss: 0.3136 - val_acc: 0.9375\n",
      "Epoch 42/50\n",
      "36/36 [==============================] - 0s - loss: 0.2553 - acc: 0.9167 - val_loss: 0.4115 - val_acc: 0.9000\n",
      "Epoch 43/50\n",
      "36/36 [==============================] - 0s - loss: 0.4405 - acc: 0.8333 - val_loss: 0.5520 - val_acc: 0.9250\n",
      "Epoch 44/50\n",
      "36/36 [==============================] - 0s - loss: 0.5346 - acc: 0.8056 - val_loss: 0.2916 - val_acc: 0.9125\n",
      "Epoch 45/50\n",
      "36/36 [==============================] - 0s - loss: 0.4020 - acc: 0.9167 - val_loss: 0.5241 - val_acc: 0.8500\n",
      "Epoch 46/50\n",
      "36/36 [==============================] - 0s - loss: 0.4024 - acc: 0.7778 - val_loss: 0.4763 - val_acc: 0.8500\n",
      "Epoch 47/50\n",
      "36/36 [==============================] - 0s - loss: 0.2157 - acc: 0.8889 - val_loss: 0.4277 - val_acc: 0.9250\n",
      "Epoch 48/50\n",
      "36/36 [==============================] - 0s - loss: 0.1313 - acc: 0.9722 - val_loss: 0.4521 - val_acc: 0.9250\n",
      "Epoch 49/50\n",
      "36/36 [==============================] - 0s - loss: 0.2311 - acc: 0.8889 - val_loss: 0.4638 - val_acc: 0.9125\n",
      "Epoch 50/50\n",
      "36/36 [==============================] - 0s - loss: 0.5091 - acc: 0.8889 - val_loss: 0.3933 - val_acc: 0.9125\n"
     ]
    }
   ],
   "source": [
    "NIMAGES_IN_TRAIN = np.sum([len(f) for f in files_train.values()])\n",
    "NIMAGES_IN_TEST = np.sum([len(f) for f in files_test.values()])\n",
    "history = model.fit_generator(\n",
    "        train_generator,\n",
    "        steps_per_epoch=NIMAGES_IN_TRAIN // batch_size, \n",
    "        epochs=50, #was 50\n",
    "        validation_data=validation_generator,\n",
    "        validation_steps=NIMAGES_IN_TEST if not AUGMENT_VALIDATION else 10*NIMAGES_IN_TEST  ) #was 800"
   ]
  },
  {
   "cell_type": "code",
   "execution_count": 54,
   "metadata": {
    "collapsed": true
   },
   "outputs": [],
   "source": [
    "model.save(MODEL_FILENAME)  # creates a HDF5 file 'lfw_people_model.h5'"
   ]
  },
  {
   "cell_type": "code",
   "execution_count": 55,
   "metadata": {
    "collapsed": true
   },
   "outputs": [],
   "source": [
    "# Allows us to resolve Keras internal class labels (back to folder names used in the App)\n",
    "class_dictionary = train_generator.class_indices\n",
    "ids_to_classes = [k for (k,v) in class_dictionary.items()]\n",
    "with open(MODEL_FILENAME.replace(\"h5\", \"pickle\"), 'wb') as handle:\n",
    "    pickle.dump(ids_to_classes, handle, protocol=pickle.HIGHEST_PROTOCOL)"
   ]
  },
  {
   "cell_type": "code",
   "execution_count": 56,
   "metadata": {},
   "outputs": [
    {
     "name": "stdout",
     "output_type": "stream",
     "text": [
      "dict_keys(['val_loss', 'val_acc', 'loss', 'acc'])\n"
     ]
    },
    {
     "data": {
      "image/png": "[encoded data removed]",
      "text/plain": [
       "<matplotlib.figure.Figure at 0x7fcbf42eb240>"
      ]
     },
     "metadata": {},
     "output_type": "display_data"
    }
   ],
   "source": [
    "history_dict = history.history\n",
    "print(history_dict.keys())\n",
    "loss_values = history_dict['loss']\n",
    "val_loss_values = history_dict['val_loss']\n",
    "epochs = range(1, len(loss_values) + 1)\n",
    "fig,ax = plt.subplots()\n",
    "# \"bo\" is for \"blue dot\"\n",
    "ax.plot(epochs, loss_values, 'bo',label=\"Training\")\n",
    "# g+ is for \"green crosses\"\n",
    "ax.plot(epochs, val_loss_values, 'g+',label=\"Validation\")\n",
    "ax.set_xlabel('Epochs')\n",
    "ax.set_ylabel('Loss')\n",
    "ax.legend(loc=\"best\")\n",
    "plt.show()"
   ]
  },
  {
   "cell_type": "code",
   "execution_count": 57,
   "metadata": {},
   "outputs": [
    {
     "data": {
      "image/png": "[encoded data removed]",
      "text/plain": [
       "<matplotlib.figure.Figure at 0x7fcbf55852e8>"
      ]
     },
     "metadata": {},
     "output_type": "display_data"
    }
   ],
   "source": [
    "acc_values = history_dict['acc']\n",
    "val_acc_values = history_dict['val_acc']\n",
    "epochs = range(1, len(acc_values) + 1)\n",
    "# \"bo\" is for \"blue dot\"\n",
    "fig, ax = plt.subplots()\n",
    "ax.plot(epochs, acc_values, 'bo', label=\"Training\")\n",
    "# b+ is for \"green crosses\"\n",
    "ax.plot(epochs, val_acc_values, 'g+', label=\"Validation\")\n",
    "ax.set_xlabel('Epochs')\n",
    "ax.set_ylabel('Accuracy')\n",
    "ax.legend(loc=\"best\")\n",
    "plt.show()"
   ]
  },
  {
   "cell_type": "code",
   "execution_count": 58,
   "metadata": {},
   "outputs": [
    {
     "name": "stdout",
     "output_type": "stream",
     "text": [
      "face_detection.py               \u001b[0m\u001b[01;34m__pycache__\u001b[0m/\r\n",
      "face recognition.ipynb          Training.ipynb\r\n",
      "ImageAugmentationExample.ipynb  try_run_people_model_2.h5\r\n",
      "\u001b[01;34mimg\u001b[0m/                            try_run_people_model_2.pickle\r\n",
      "\u001b[01;34mimg_Train_Test\u001b[0m/                 try_run_people_model_3.h5\r\n",
      "lfw_people_model_2.h5           try_run_people_model_3.pickle\r\n",
      "lfw_people_model_2.pickle       try_run_people_model.h5\r\n",
      "Predict.ipynb                   try_run_people_model.pickle\r\n",
      "predict_label.py\r\n"
     ]
    }
   ],
   "source": [
    "ls"
   ]
  },
  {
   "cell_type": "code",
   "execution_count": 26,
   "metadata": {
    "collapsed": true
   },
   "outputs": [],
   "source": [
    "from PIL import Image"
   ]
  },
  {
   "cell_type": "code",
   "execution_count": 27,
   "metadata": {},
   "outputs": [
    {
     "data": {
      "image/png": "[encoded data removed]",
      "text/plain": [
       "<PIL.JpegImagePlugin.JpegImageFile image mode=RGB size=120x120 at 0x7FCBF42AA470>"
      ]
     },
     "execution_count": 27,
     "metadata": {},
     "output_type": "execute_result"
    }
   ],
   "source": [
    "Image.open(\"img_Train_Test/Train/Djork-Arne_Clevert/853e2a0b-e1a3-45b8-a171-71a8d7fc00f7.jpg\")"
   ]
  }
 ],
 "metadata": {
  "kernelspec": {
   "display_name": "Python 3",
   "language": "python",
   "name": "python3"
  },
  "language_info": {
   "codemirror_mode": {
    "name": "ipython",
    "version": 3
   },
   "file_extension": ".py",
   "mimetype": "text/x-python",
   "name": "python",
   "nbconvert_exporter": "python",
   "pygments_lexer": "ipython3",
   "version": "3.6.2"
  }
 },
 "nbformat": 4,
 "nbformat_minor": 2
}
