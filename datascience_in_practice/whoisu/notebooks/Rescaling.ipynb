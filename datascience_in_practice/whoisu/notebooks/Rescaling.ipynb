{
 "cells": [
  {
   "cell_type": "code",
   "execution_count": 25,
   "metadata": {},
   "outputs": [],
   "source": [
    "import glob\n",
    "from PIL import Image\n",
    "import os"
   ]
  },
  {
   "cell_type": "code",
   "execution_count": 23,
   "metadata": {},
   "outputs": [],
   "source": [
    "def resize(infile, outfile, alpha=.5):\n",
    "    im = Image.open(infile)\n",
    "    size = im.size\n",
    "    #print(size,type(size))\n",
    "    size = [int(alpha*s) for s in size]\n",
    "    im.thumbnail(size, Image.ANTIALIAS)\n",
    "    im.save(outfile, \"JPEG\")"
   ]
  },
  {
   "cell_type": "code",
   "execution_count": 40,
   "metadata": {},
   "outputs": [],
   "source": [
    "RATIO = 0.3\n",
    "IMAGE_PATH = \"../datascience/datascience_in_practice/whoisu/notebooks/img/\"\n",
    "OUTP_PATH  =  \"./images_RATIO_{}/\".format(str(RATIO).replace(\".\",\"p\"))\n",
    "classes = [ name for name in os.listdir(IMAGE_PATH) if os.path.isdir(os.path.join(IMAGE_PATH, name)) ]\n",
    "files = {cl:glob.glob(IMAGE_PATH+cl+\"/*.jpg\") for cl in classes}\n",
    "for cl,fls in files.items():\n",
    "    opth = OUTP_PATH+cl\n",
    "    if not os.path.exists(opth):\n",
    "        os.makedirs(opth)\n",
    "    for fn in fls:\n",
    "        ofn = fn[fn.rindex(\"/\")+1:]\n",
    "        ofn = opth+\"/\"+ofn\n",
    "        try:\n",
    "            resize(fn,ofn,.5)\n",
    "        except:\n",
    "            continue"
   ]
  },
  {
   "cell_type": "code",
   "execution_count": null,
   "metadata": {},
   "outputs": [],
   "source": []
  }
 ],
 "metadata": {
  "kernelspec": {
   "display_name": "Python 3",
   "language": "python",
   "name": "python3"
  },
  "language_info": {
   "codemirror_mode": {
    "name": "ipython",
    "version": 3
   },
   "file_extension": ".py",
   "mimetype": "text/x-python",
   "name": "python",
   "nbconvert_exporter": "python",
   "pygments_lexer": "ipython3",
   "version": "3.6.3"
  }
 },
 "nbformat": 4,
 "nbformat_minor": 2
}
