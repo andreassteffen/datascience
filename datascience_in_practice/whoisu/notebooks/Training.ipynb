{
 "cells": [
  {
   "cell_type": "code",
   "execution_count": 1,
   "metadata": {},
   "outputs": [
    {
     "name": "stdout",
     "output_type": "stream",
     "text": [
      "Requirement already satisfied: keras in /home/ggayq/anaconda3/lib/python3.6/site-packages\r\n",
      "Requirement already satisfied: scipy>=0.14 in /home/ggayq/anaconda3/lib/python3.6/site-packages (from keras)\r\n",
      "Requirement already satisfied: pyyaml in /home/ggayq/anaconda3/lib/python3.6/site-packages (from keras)\r\n",
      "Requirement already satisfied: numpy>=1.9.1 in /home/ggayq/anaconda3/lib/python3.6/site-packages (from keras)\r\n",
      "Requirement already satisfied: six>=1.9.0 in /home/ggayq/anaconda3/lib/python3.6/site-packages (from keras)\r\n"
     ]
    }
   ],
   "source": [
    "!pip install keras"
   ]
  },
  {
   "cell_type": "code",
   "execution_count": 2,
   "metadata": {},
   "outputs": [
    {
     "name": "stdout",
     "output_type": "stream",
     "text": [
      "Fetching package metadata ...........\n",
      "Solving package specifications: .\n",
      "\n",
      "# All requested packages already installed.\n",
      "# packages in environment at /home/ggayq/anaconda3:\n",
      "#\n",
      "tensorflow                1.3.0                         0  \n"
     ]
    }
   ],
   "source": [
    "!conda install tensorflow -y"
   ]
  },
  {
   "cell_type": "code",
   "execution_count": 3,
   "metadata": {},
   "outputs": [
    {
     "name": "stderr",
     "output_type": "stream",
     "text": [
      "Using TensorFlow backend.\n"
     ]
    }
   ],
   "source": [
    "%matplotlib inline\n",
    "import matplotlib.pyplot as plt\n",
    "import numpy as np\n",
    "np.random.seed(42)\n",
    "import os\n",
    "import glob\n",
    "#from face_detection import get_face, convert_to_face_only\n",
    "from  sklearn.model_selection import train_test_split\n",
    "from shutil import copyfile\n",
    "# Keras stuff\n",
    "from keras.preprocessing.image import ImageDataGenerator, array_to_img, img_to_array, load_img\n",
    "from keras.models import Sequential\n",
    "from keras.layers import Conv2D, MaxPooling2D\n",
    "from keras.layers import Activation, Dropout, Flatten, Dense,Reshape\n",
    "import pickle\n",
    "from face_detection import convert_to_face_only\n"
   ]
  },
  {
   "cell_type": "markdown",
   "metadata": {},
   "source": [
    "## Set some important parameters"
   ]
  },
  {
   "cell_type": "code",
   "execution_count": 4,
   "metadata": {
    "collapsed": true
   },
   "outputs": [],
   "source": [
    "DATA_PATH = \"img/\" #where are the images located\n",
    "MODEL_FILENAME= 'lfw_people_model_2.h5' #where to store the Keras model (including weights)\n",
    "# Image dimensions for cropped pictures\n",
    "FINAL_HEIGHT=120\n",
    "FINAL_WIDTH=120"
   ]
  },
  {
   "cell_type": "markdown",
   "metadata": {},
   "source": [
    "## Get an overview of the available  data"
   ]
  },
  {
   "cell_type": "code",
   "execution_count": 5,
   "metadata": {},
   "outputs": [],
   "source": [
    "classes = [ name for name in os.listdir(DATA_PATH) if os.path.isdir(os.path.join(DATA_PATH, name)) ]\n",
    "nclasses = len(classes)\n",
    "files = {cl:glob.glob(DATA_PATH+cl+\"/*.jpg\") for cl in classes}"
   ]
  },
  {
   "cell_type": "code",
   "execution_count": 6,
   "metadata": {},
   "outputs": [
    {
     "name": "stdout",
     "output_type": "stream",
     "text": [
      "Category 'Djork-Arne_Clevert' has 7 images\n",
      "Category 'Andreas_Steffen' has 6 images\n",
      "Category 'Eren_Elci' has 6 images\n"
     ]
    }
   ],
   "source": [
    "for cl,fls in files.items():\n",
    "    print(\"Category '{}' has {} images\".format(cl,len(fls)))"
   ]
  },
  {
   "cell_type": "markdown",
   "metadata": {},
   "source": [
    "## Split into the training and test sets and run face detection"
   ]
  },
  {
   "cell_type": "code",
   "execution_count": 7,
   "metadata": {
    "collapsed": true
   },
   "outputs": [],
   "source": [
    "files_test = {}\n",
    "files_train = {}\n",
    "for cl in classes:\n",
    "    files_train[cl], files_test[cl] = train_test_split(files[cl], test_size=1) # 2 pictures go into test set"
   ]
  },
  {
   "cell_type": "code",
   "execution_count": 8,
   "metadata": {},
   "outputs": [
    {
     "name": "stdout",
     "output_type": "stream",
     "text": [
      "  img/Djork-Arne_Clevert/039a506a-06cd-43b0-8ca9-627d559d8140.jpg -> img_Train_Test/Train/Djork-Arne_Clevert/039a506a-06cd-43b0-8ca9-627d559d8140.jpg\n",
      "  img/Djork-Arne_Clevert/f64f1097-f011-4694-8b23-45f1a25f682c.jpg -> img_Train_Test/Train/Djork-Arne_Clevert/f64f1097-f011-4694-8b23-45f1a25f682c.jpg\n",
      "  img/Djork-Arne_Clevert/2dee6eaa-12a0-414a-afef-0cbe4612e0d5.jpg -> img_Train_Test/Train/Djork-Arne_Clevert/2dee6eaa-12a0-414a-afef-0cbe4612e0d5.jpg\n",
      "  img/Djork-Arne_Clevert/b08e07b8-1770-4752-a6f7-b12e3db11d0a.jpg -> img_Train_Test/Train/Djork-Arne_Clevert/b08e07b8-1770-4752-a6f7-b12e3db11d0a.jpg\n",
      "  img/Djork-Arne_Clevert/853e2a0b-e1a3-45b8-a171-71a8d7fc00f7.jpg -> img_Train_Test/Train/Djork-Arne_Clevert/853e2a0b-e1a3-45b8-a171-71a8d7fc00f7.jpg\n",
      "  img/Djork-Arne_Clevert/6cc64627-fe6e-4292-a388-6c800bb25afc.jpg -> img_Train_Test/Train/Djork-Arne_Clevert/6cc64627-fe6e-4292-a388-6c800bb25afc.jpg\n",
      "  img/Andreas_Steffen/a017f937-bd63-4785-bcc4-37b989ea3af7.jpg -> img_Train_Test/Train/Andreas_Steffen/a017f937-bd63-4785-bcc4-37b989ea3af7.jpg\n",
      "  img/Andreas_Steffen/6af3854c-b617-4341-b7a9-c2daee4b4c2b.jpg -> img_Train_Test/Train/Andreas_Steffen/6af3854c-b617-4341-b7a9-c2daee4b4c2b.jpg\n",
      "  img/Andreas_Steffen/e474894c-9087-4a4d-93d6-cbead6a629f5.jpg -> img_Train_Test/Train/Andreas_Steffen/e474894c-9087-4a4d-93d6-cbead6a629f5.jpg\n",
      "  img/Andreas_Steffen/f7fa35d1-3e34-4966-8e2c-396ace8f8bfb.jpg -> img_Train_Test/Train/Andreas_Steffen/f7fa35d1-3e34-4966-8e2c-396ace8f8bfb.jpg\n",
      "  img/Andreas_Steffen/bcc03a0f-09a4-4f64-bad7-717c1d64b0e0.jpg -> img_Train_Test/Train/Andreas_Steffen/bcc03a0f-09a4-4f64-bad7-717c1d64b0e0.jpg\n",
      "  img/Eren_Elci/95772802-9f52-48ab-bb4e-f94d824a2dbd.jpg -> img_Train_Test/Train/Eren_Elci/95772802-9f52-48ab-bb4e-f94d824a2dbd.jpg\n",
      "  img/Eren_Elci/27764698-1e4f-4768-8958-64fc417db5df.jpg -> img_Train_Test/Train/Eren_Elci/27764698-1e4f-4768-8958-64fc417db5df.jpg\n",
      "  img/Eren_Elci/95fb02ad-43e1-4c2b-9c26-25492ffbb32c.jpg -> img_Train_Test/Train/Eren_Elci/95fb02ad-43e1-4c2b-9c26-25492ffbb32c.jpg\n",
      "  img/Eren_Elci/7c93ad41-4029-4f79-9817-55f31b0d7600.jpg -> img_Train_Test/Train/Eren_Elci/7c93ad41-4029-4f79-9817-55f31b0d7600.jpg\n",
      "  img/Eren_Elci/c43b8955-028b-4785-b5d8-532760d0b688.jpg -> img_Train_Test/Train/Eren_Elci/c43b8955-028b-4785-b5d8-532760d0b688.jpg\n",
      "  img/Djork-Arne_Clevert/1dbd750d-3aa7-4684-99c9-8276d1f98c88.jpg -> img_Train_Test/Test/Djork-Arne_Clevert/1dbd750d-3aa7-4684-99c9-8276d1f98c88.jpg\n",
      "  img/Andreas_Steffen/5c0d794c-7981-46cf-a838-70d32f92b255.jpg -> img_Train_Test/Test/Andreas_Steffen/5c0d794c-7981-46cf-a838-70d32f92b255.jpg\n",
      "  img/Eren_Elci/52b28409-cf23-418c-abac-32ee19c6f18d.jpg -> img_Train_Test/Test/Eren_Elci/52b28409-cf23-418c-abac-32ee19c6f18d.jpg\n"
     ]
    }
   ],
   "source": [
    "# create the train/test - directory structure and put the cropped pictures into it\n",
    "train_dest_directory = DATA_PATH[:-1]+\"_Train_Test/\"\n",
    "if not os.path.exists(train_dest_directory):\n",
    "    os.makedirs(train_dest_directory)\n",
    "\n",
    "for t_ in [\"Train\", \"Test\"]:\n",
    "    for cl,fns in files_test.items() if t_ == \"Test\" else files_train.items():\n",
    "        tmp_dir = train_dest_directory+t_+\"/\"+cl+\"/\"\n",
    "        #print(tmp_dir)\n",
    "        if not os.path.exists(tmp_dir):\n",
    "            os.makedirs(tmp_dir)\n",
    "        for f in fns:\n",
    "            print(\" \",f, \"->\", tmp_dir +f[f.rindex(\"/\")+1:])\n",
    "            # skip since pics are already cropped\n",
    "            convert_to_face_only(f, tmp_dir +f[f.rindex(\"/\")+1:], final_height=FINAL_HEIGHT, final_width=FINAL_WIDTH) # runs face detection! 120x120 pictures\n",
    "            #copyfile(f,tmp_dir +f[f.rindex(\"/\")+1:] )\n",
    "            # face detection is based on default OpenCV (Haar) cascade filter\n",
    "            # see also https://realpython.com/blog/python/face-recognition-with-python/\n",
    "            #copyfile(f,tmp_dir +f[f.rindex(\"/\")+1:])"
   ]
  },
  {
   "cell_type": "markdown",
   "metadata": {},
   "source": [
    "# Build the Keras model"
   ]
  },
  {
   "cell_type": "markdown",
   "metadata": {},
   "source": [
    "![Typical CNN](typical_cnn.png)\n",
    "Figure taken from \"Hands-On Machine Learning with Scikit-Learn & TensorFlow\""
   ]
  },
  {
   "cell_type": "code",
   "execution_count": 9,
   "metadata": {
    "collapsed": true
   },
   "outputs": [],
   "source": [
    "model = Sequential()\n",
    "\n",
    "model.add(Conv2D(32, (3, 3), input_shape=( FINAL_HEIGHT, FINAL_WIDTH,3), strides=(2, 2)))\n",
    "model.add(Activation('relu'))\n",
    "model.add(MaxPooling2D(pool_size=(2, 2)))\n",
    "\n",
    "model.add(Conv2D(32, (3, 3),strides=(2, 2)))\n",
    "model.add(Activation('relu'))\n",
    "model.add(MaxPooling2D(pool_size=(2, 2)))\n",
    "\n",
    "model.add(Conv2D(64, (3, 3)))\n",
    "model.add(Activation('relu'))\n",
    "model.add(MaxPooling2D(pool_size=(2, 2)))\n",
    "\n",
    "model.add(Flatten())  # this converts our 3D feature maps to 1D feature vectors\n",
    "model.add(Dense(64))\n",
    "model.add(Activation('relu'))\n",
    "\n",
    "model.add(Dropout(0.25)) #0.5 is too high\n",
    "\n",
    "model.add(Dense(nclasses))\n",
    "model.add(Activation('softmax'))\n",
    "\n",
    "model.compile(loss='categorical_crossentropy', #TODO: change this for multiclass cases\n",
    "              optimizer='adam', #better\n",
    "              metrics=['accuracy'])"
   ]
  },
  {
   "cell_type": "markdown",
   "metadata": {},
   "source": [
    "## Create Pipeline "
   ]
  },
  {
   "cell_type": "code",
   "execution_count": 10,
   "metadata": {},
   "outputs": [
    {
     "name": "stdout",
     "output_type": "stream",
     "text": [
      "Found 16 images belonging to 3 classes.\n",
      "Found 3 images belonging to 3 classes.\n"
     ]
    }
   ],
   "source": [
    "batch_size = 1 # should be around 8 if we have 30pics per person\n",
    "# this is the augmentation configuration we will use for training\n",
    "train_datagen = ImageDataGenerator(\n",
    "        rescale=1./255, #normalisation\n",
    "        rotation_range=5, #play around with this\n",
    "        shear_range=0.1,\n",
    "        zoom_range=0.1,\n",
    "        fill_mode='nearest')\n",
    "\n",
    "# this is the augmentation configuration we will use for testing:\n",
    "# only rescaling\n",
    "test_datagen = ImageDataGenerator(rescale=1./255)\n",
    "\n",
    "# this is a generator that will read pictures found in\n",
    "# subfolers of  train_dest_directory+'Train/', and indefinitely generate\n",
    "# batches of augmented image data\n",
    "train_generator = train_datagen.flow_from_directory(\n",
    "        train_dest_directory+'Train/',  # this is the target directory\n",
    "        target_size=(FINAL_HEIGHT, FINAL_WIDTH),  # in case we want to resize images\n",
    "        batch_size=batch_size,\n",
    "        class_mode='categorical')  # since we use binary_crossentropy loss, we need binary labels\n",
    "                              \n",
    "\n",
    "# this is a similar generator, for validation data\n",
    "validation_generator = test_datagen.flow_from_directory(\n",
    "       train_dest_directory+'Test/',\n",
    "        target_size=(FINAL_HEIGHT, FINAL_WIDTH),\n",
    "        batch_size=batch_size,\n",
    "        class_mode='categorical')"
   ]
  },
  {
   "cell_type": "code",
   "execution_count": 11,
   "metadata": {},
   "outputs": [
    {
     "name": "stdout",
     "output_type": "stream",
     "text": [
      "Epoch 1/20\n",
      "16/16 [==============================] - 0s - loss: 1.1022 - acc: 0.1875 - val_loss: 1.0697 - val_acc: 0.3333\n",
      "Epoch 2/20\n",
      "16/16 [==============================] - 0s - loss: 1.1109 - acc: 0.3750 - val_loss: 1.0308 - val_acc: 0.3333\n",
      "Epoch 3/20\n",
      "16/16 [==============================] - 0s - loss: 1.0130 - acc: 0.5000 - val_loss: 0.9779 - val_acc: 0.3333\n",
      "Epoch 4/20\n",
      "16/16 [==============================] - 0s - loss: 0.9446 - acc: 0.5625 - val_loss: 0.8049 - val_acc: 0.6667\n",
      "Epoch 5/20\n",
      "16/16 [==============================] - 0s - loss: 0.7153 - acc: 0.7500 - val_loss: 0.6841 - val_acc: 0.6667\n",
      "Epoch 6/20\n",
      "16/16 [==============================] - 0s - loss: 0.7766 - acc: 0.6250 - val_loss: 0.6249 - val_acc: 1.0000\n",
      "Epoch 7/20\n",
      "16/16 [==============================] - 0s - loss: 0.7314 - acc: 0.7500 - val_loss: 0.6393 - val_acc: 1.0000\n",
      "Epoch 8/20\n",
      "16/16 [==============================] - 0s - loss: 0.4913 - acc: 0.8125 - val_loss: 0.5629 - val_acc: 0.6667\n",
      "Epoch 9/20\n",
      "16/16 [==============================] - 0s - loss: 0.4425 - acc: 0.8125 - val_loss: 0.4642 - val_acc: 0.6667\n",
      "Epoch 10/20\n",
      "16/16 [==============================] - 0s - loss: 0.4026 - acc: 0.8125 - val_loss: 0.3554 - val_acc: 1.0000\n",
      "Epoch 11/20\n",
      "16/16 [==============================] - 0s - loss: 0.4705 - acc: 0.6875 - val_loss: 0.7339 - val_acc: 0.6667\n",
      "Epoch 12/20\n",
      "16/16 [==============================] - 0s - loss: 0.4792 - acc: 0.7500 - val_loss: 0.3264 - val_acc: 1.0000\n",
      "Epoch 13/20\n",
      "16/16 [==============================] - 0s - loss: 0.2389 - acc: 1.0000 - val_loss: 0.2520 - val_acc: 1.0000\n",
      "Epoch 14/20\n",
      "16/16 [==============================] - 0s - loss: 0.3624 - acc: 0.8125 - val_loss: 0.1983 - val_acc: 1.0000\n",
      "Epoch 15/20\n",
      "16/16 [==============================] - 0s - loss: 0.4368 - acc: 0.8125 - val_loss: 0.3237 - val_acc: 1.0000\n",
      "Epoch 16/20\n",
      "16/16 [==============================] - 0s - loss: 0.4100 - acc: 0.7500 - val_loss: 0.3346 - val_acc: 1.0000\n",
      "Epoch 17/20\n",
      "16/16 [==============================] - 0s - loss: 0.3217 - acc: 0.8750 - val_loss: 0.2338 - val_acc: 1.0000\n",
      "Epoch 18/20\n",
      "16/16 [==============================] - 0s - loss: 0.4339 - acc: 0.8125 - val_loss: 0.2966 - val_acc: 1.0000\n",
      "Epoch 19/20\n",
      "16/16 [==============================] - 0s - loss: 0.4498 - acc: 0.9375 - val_loss: 0.0913 - val_acc: 1.0000\n",
      "Epoch 20/20\n",
      "16/16 [==============================] - 0s - loss: 0.3150 - acc: 0.8750 - val_loss: 0.1627 - val_acc: 1.0000\n"
     ]
    }
   ],
   "source": [
    "NIMAGES_IN_TRAIN = np.sum([len(f) for f in files_train.values()])\n",
    "NIMAGES_IN_TEST = np.sum([len(f) for f in files_test.values()])\n",
    "history = model.fit_generator(\n",
    "        train_generator,\n",
    "        steps_per_epoch=NIMAGES_IN_TRAIN // batch_size, \n",
    "        epochs=20, #was 50\n",
    "        validation_data=validation_generator,\n",
    "        validation_steps=NIMAGES_IN_TEST  ) #was 800"
   ]
  },
  {
   "cell_type": "code",
   "execution_count": 12,
   "metadata": {
    "collapsed": true
   },
   "outputs": [],
   "source": [
    "model.save(MODEL_FILENAME)  # creates a HDF5 file 'lfw_people_model.h5'"
   ]
  },
  {
   "cell_type": "code",
   "execution_count": 13,
   "metadata": {
    "collapsed": true
   },
   "outputs": [],
   "source": [
    "# Allows us to resolve Keras internal class labels (back to folder names used in the App)\n",
    "class_dictionary = train_generator.class_indices\n",
    "ids_to_classes = [k for (k,v) in class_dictionary.items()]\n",
    "with open(MODEL_FILENAME.replace(\"h5\", \"pickle\"), 'wb') as handle:\n",
    "    pickle.dump(ids_to_classes, handle, protocol=pickle.HIGHEST_PROTOCOL)"
   ]
  },
  {
   "cell_type": "code",
   "execution_count": 14,
   "metadata": {},
   "outputs": [
    {
     "name": "stdout",
     "output_type": "stream",
     "text": [
      "dict_keys(['val_loss', 'val_acc', 'loss', 'acc'])\n"
     ]
    },
    {
     "data": {
      "image/png": "[encoded data removed]",
      "text/plain": [
       "<matplotlib.figure.Figure at 0x7f1d101adb70>"
      ]
     },
     "metadata": {},
     "output_type": "display_data"
    }
   ],
   "source": [
    "history_dict = history.history\n",
    "print(history_dict.keys())\n",
    "loss_values = history_dict['loss']\n",
    "val_loss_values = history_dict['val_loss']\n",
    "epochs = range(1, len(loss_values) + 1)\n",
    "fig,ax = plt.subplots()\n",
    "# \"bo\" is for \"blue dot\"\n",
    "ax.plot(epochs, loss_values, 'bo',label=\"Training\")\n",
    "# g+ is for \"green crosses\"\n",
    "ax.plot(epochs, val_loss_values, 'g+',label=\"Validation\")\n",
    "ax.set_xlabel('Epochs')\n",
    "ax.set_ylabel('Loss')\n",
    "ax.legend(loc=\"best\")\n",
    "plt.show()"
   ]
  },
  {
   "cell_type": "code",
   "execution_count": 15,
   "metadata": {},
   "outputs": [
    {
     "data": {
      "image/png": "[encoded data removed]",
      "text/plain": [
       "<matplotlib.figure.Figure at 0x7f1d101ad908>"
      ]
     },
     "metadata": {},
     "output_type": "display_data"
    }
   ],
   "source": [
    "acc_values = history_dict['acc']\n",
    "val_acc_values = history_dict['val_acc']\n",
    "epochs = range(1, len(acc_values) + 1)\n",
    "# \"bo\" is for \"blue dot\"\n",
    "fig, ax = plt.subplots()\n",
    "ax.plot(epochs, acc_values, 'bo', label=\"Training\")\n",
    "# b+ is for \"green crosses\"\n",
    "ax.plot(epochs, val_acc_values, 'g+', label=\"Validation\")\n",
    "ax.set_xlabel('Epochs')\n",
    "ax.set_ylabel('Accuracy')\n",
    "ax.legend(loc=\"best\")\n",
    "plt.show()"
   ]
  },
  {
   "cell_type": "code",
   "execution_count": 16,
   "metadata": {},
   "outputs": [
    {
     "name": "stdout",
     "output_type": "stream",
     "text": [
      "face_detection.py       lfw_people_model_2.h5      \u001b[0m\u001b[01;34m__pycache__\u001b[0m/\r\n",
      "face recognition.ipynb  lfw_people_model_2.pickle  Training.ipynb\r\n",
      "\u001b[01;34mimg\u001b[0m/                    Predict.ipynb\r\n",
      "\u001b[01;34mimg_Train_Test\u001b[0m/         predict_label.py\r\n"
     ]
    }
   ],
   "source": [
    "ls"
   ]
  },
  {
   "cell_type": "code",
   "execution_count": 17,
   "metadata": {
    "collapsed": true
   },
   "outputs": [],
   "source": [
    "from PIL import Image"
   ]
  },
  {
   "cell_type": "code",
   "execution_count": 18,
   "metadata": {},
   "outputs": [
    {
     "data": {
      "image/png": "[encoded data removed]",
      "text/plain": [
       "<PIL.JpegImagePlugin.JpegImageFile image mode=RGB size=120x120 at 0x7F1D179AC978>"
      ]
     },
     "execution_count": 18,
     "metadata": {},
     "output_type": "execute_result"
    }
   ],
   "source": [
    "Image.open(\"img_Train_Test/Train/Djork-Arne_Clevert/039a506a-06cd-43b0-8ca9-627d559d8140.jpg\")"
   ]
  },
  {
   "cell_type": "code",
   "execution_count": null,
   "metadata": {
    "collapsed": true
   },
   "outputs": [],
   "source": []
  }
 ],
 "metadata": {
  "kernelspec": {
   "display_name": "Python 3",
   "language": "python",
   "name": "python3"
  },
  "language_info": {
   "codemirror_mode": {
    "name": "ipython",
    "version": 3
   },
   "file_extension": ".py",
   "mimetype": "text/x-python",
   "name": "python",
   "nbconvert_exporter": "python",
   "pygments_lexer": "ipython3",
   "version": "3.6.1"
  }
 },
 "nbformat": 4,
 "nbformat_minor": 2
}
