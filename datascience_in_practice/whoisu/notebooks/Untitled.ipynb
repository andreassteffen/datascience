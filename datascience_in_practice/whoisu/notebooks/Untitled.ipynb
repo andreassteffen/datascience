{
 "cells": [
  {
   "cell_type": "code",
   "execution_count": 2,
   "metadata": {},
   "outputs": [],
   "source": [
    "from keras.models import load_model"
   ]
  },
  {
   "cell_type": "code",
   "execution_count": 8,
   "metadata": {},
   "outputs": [
    {
     "name": "stdout",
     "output_type": "stream",
     "text": [
      "total 3048\r\n",
      "-rw-rw-r--  1 fisc fisc  82509 Oct 23 15:24 face recognition.ipynb\r\n",
      "drwxrwxr-x 10 fisc fisc   4096 Oct 23 15:24 \u001b[0m\u001b[01;34mimg\u001b[0m/\r\n",
      "-rw-rw-r--  1 fisc fisc   1846 Oct 23 15:24 predict_label.py\r\n",
      "-rw-rw-r--  1 fisc fisc     67 Oct 23 15:24 lfw_people_model_2.pickle\r\n",
      "-rw-rw-r--  1 fisc fisc 591368 Oct 23 15:24 lfw_people_model_2.h5\r\n",
      "-rw-rw-r--  1 fisc fisc    934 Oct 23 15:37 face_detection.py\r\n",
      "drwxrwxr-x  4 fisc fisc     29 Oct 23 15:43 \u001b[01;34mimg_Train_Test\u001b[0m/\r\n",
      "-rw-rw-r--  1 fisc fisc 559914 Oct 23 15:56 ImageAugmentationExample.ipynb\r\n",
      "-rw-rw-r--  1 fisc fisc 592216 Oct 23 16:07 try_run_people_model.h5\r\n",
      "-rw-rw-r--  1 fisc fisc    150 Oct 23 16:07 try_run_people_model.pickle\r\n",
      "-rw-rw-r--  1 fisc fisc 592232 Oct 23 16:31 try_run_people_model_2.h5\r\n",
      "-rw-rw-r--  1 fisc fisc    150 Oct 23 16:31 try_run_people_model_2.pickle\r\n",
      "-rw-rw-r--  1 fisc fisc 592232 Oct 23 16:32 try_run_people_model_3.h5\r\n",
      "-rw-rw-r--  1 fisc fisc    150 Oct 23 16:32 try_run_people_model_3.pickle\r\n",
      "-rw-rw-r--  1 fisc fisc   4281 Oct 23 16:36 Predict.ipynb\r\n",
      "-rw-rw-r--  1 fisc fisc   2012 Oct 24 10:27 Rescaling.ipynb\r\n",
      "drwxrwxr-x  2 fisc fisc     77 Oct 24 10:27 \u001b[01;34m__pycache__\u001b[0m/\r\n",
      "drwxrwxr-x 10 fisc fisc   4096 Oct 24 10:27 \u001b[01;34mimages_RATIO_0p3\u001b[0m/\r\n",
      "drwxrwxr-x 10 fisc fisc   4096 Oct 24 10:27 \u001b[01;34mimages_RATIO_0p5\u001b[0m/\r\n",
      "drwxrwxr-x  4 fisc fisc     29 Oct 24 10:29 \u001b[01;34mimages_RATIO_0p5_Train_Test\u001b[0m/\r\n",
      "-rw-rw-r--  1 fisc fisc    150 Oct 24 10:45 dry_run_people_downscaled_0p5.py\r\n",
      "-rw-rw-r--  1 fisc fisc   6362 Oct 24 10:50 Untitled.ipynb\r\n",
      "-rw-rw-r--  1 fisc fisc  36222 Oct 24 10:51 Training.ipynb\r\n"
     ]
    }
   ],
   "source": [
    "ls -ltr"
   ]
  },
  {
   "cell_type": "code",
   "execution_count": 10,
   "metadata": {},
   "outputs": [
    {
     "name": "stdout",
     "output_type": "stream",
     "text": [
      "2.53 s ± 400 ms per loop (mean ± std. dev. of 7 runs, 1 loop each)\n"
     ]
    }
   ],
   "source": [
    "%timeit load_model(\"try_run_people_model_3.h5\")"
   ]
  },
  {
   "cell_type": "code",
   "execution_count": null,
   "metadata": {
    "collapsed": true
   },
   "outputs": [],
   "source": []
  }
 ],
 "metadata": {
  "kernelspec": {
   "display_name": "Python 3",
   "language": "python",
   "name": "python3"
  },
  "language_info": {
   "codemirror_mode": {
    "name": "ipython",
    "version": 3
   },
   "file_extension": ".py",
   "mimetype": "text/x-python",
   "name": "python",
   "nbconvert_exporter": "python",
   "pygments_lexer": "ipython3",
   "version": "3.6.2"
  }
 },
 "nbformat": 4,
 "nbformat_minor": 2
}
