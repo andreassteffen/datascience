{
 "cells": [
  {
   "cell_type": "markdown",
   "metadata": {},
   "source": [
    "## introduction into jupyter/python\n",
    "__a practioner's guide (no theory, little background, just doing)__"
   ]
  },
  {
   "cell_type": "markdown",
   "metadata": {},
   "source": [
    "### navigation in jupyter"
   ]
  },
  {
   "cell_type": "markdown",
   "metadata": {},
   "source": [
    "double-click into this cell (this is markdown)\n",
    "\n",
    "__I can write in bold letter__\n",
    "### this is a headline\n",
    "\n",
    "#### now follows an unordered list\n",
    "* ham\n",
    "* spam\n",
    "* eggs\n",
    "\n",
    "#### and now an ordered list\n",
    "1. imitate\n",
    "2. assimilate\n",
    "3. innovate\n",
    "\n",
    "and this is just normal text.\n",
    "\n",
    "use all this to describe, structure and protocol your analysis"
   ]
  },
  {
   "cell_type": "markdown",
   "metadata": {},
   "source": [
    "#### excercise 1 - get familiar with the menu, markdown and code execution\n",
    "1. insert a new cell below/above\n",
    "2. make a markdown cell out of the cell below and add a list of items (markdown format) \n",
    "3. execute the print statement in a cell\n",
    "\n",
    " `print(\"I will become a good data scientist, I will practice every day, After I wake up I will log into my computer and programm python until my fingers will be chafed.\")`\n",
    "4. clear the output\n",
    "5. delete the cell\n",
    "6. make a copy of the notebook\n",
    "7. rename it\n",
    "8. save it\n",
    "9. BONUS: make yourself familiar with keyboard shortcuts (see Help)"
   ]
  },
  {
   "cell_type": "markdown",
   "metadata": {},
   "source": [
    "### simple python"
   ]
  },
  {
   "cell_type": "code",
   "execution_count": 38,
   "metadata": {
    "collapsed": true
   },
   "outputs": [],
   "source": [
    "# import libraries\n",
    "import math # math functions\n",
    "import seaborn as sns # viz library\n",
    "import pandas as pd # dataframe library"
   ]
  },
  {
   "cell_type": "code",
   "execution_count": 39,
   "metadata": {
    "collapsed": false
   },
   "outputs": [
    {
     "name": "stdout",
     "output_type": "stream",
     "text": [
      "Requirement already satisfied: fuzzywuzzy in /gpfs01/home/ggayq/.local/lib/python3.6/site-packages\r\n"
     ]
    }
   ],
   "source": [
    "# install a new library\n",
    "!pip install fuzzywuzzy"
   ]
  },
  {
   "cell_type": "code",
   "execution_count": 40,
   "metadata": {
    "collapsed": true
   },
   "outputs": [],
   "source": [
    "import fuzzywuzzy as fw"
   ]
  },
  {
   "cell_type": "code",
   "execution_count": 46,
   "metadata": {
    "collapsed": false
   },
   "outputs": [
    {
     "data": {
      "text/plain": [
       "120.0"
      ]
     },
     "execution_count": 46,
     "metadata": {},
     "output_type": "execute_result"
    }
   ],
   "source": [
    "# can be used as a calculator\n",
    "230 - 220 * 0.5"
   ]
  },
  {
   "cell_type": "code",
   "execution_count": 47,
   "metadata": {
    "collapsed": false
   },
   "outputs": [
    {
     "data": {
      "text/plain": [
       "True"
      ]
     },
     "execution_count": 47,
     "metadata": {},
     "output_type": "execute_result"
    }
   ],
   "source": [
    "# simple boolean statements\n",
    "230 - 220 * 0.5 == math.factorial(5)"
   ]
  },
  {
   "cell_type": "code",
   "execution_count": 48,
   "metadata": {
    "collapsed": true
   },
   "outputs": [],
   "source": [
    "# assign a variable\n",
    "first_name = 'Max'\n",
    "name = 'Mustermann'"
   ]
  },
  {
   "cell_type": "code",
   "execution_count": 65,
   "metadata": {
    "collapsed": false
   },
   "outputs": [
    {
     "name": "stdout",
     "output_type": "stream",
     "text": [
      "Max Mustermann\n"
     ]
    }
   ],
   "source": [
    "print(first_name, name)"
   ]
  },
  {
   "cell_type": "code",
   "execution_count": 50,
   "metadata": {
    "collapsed": true
   },
   "outputs": [],
   "source": [
    "# datastructures\n",
    "mylist = ['ham','eggs','spam']\n",
    "mydict = {'ham':'Schinken','eggs':'Eier','spam':'Frühstücksfleisch'}"
   ]
  },
  {
   "cell_type": "code",
   "execution_count": 54,
   "metadata": {
    "collapsed": false
   },
   "outputs": [
    {
     "name": "stdout",
     "output_type": "stream",
     "text": [
      "ham\n",
      "eggs\n",
      "spam\n"
     ]
    }
   ],
   "source": [
    "# loop over list\n",
    "for ele in mylist:\n",
    "    print(ele)"
   ]
  },
  {
   "cell_type": "code",
   "execution_count": 56,
   "metadata": {
    "collapsed": false
   },
   "outputs": [
    {
     "name": "stdout",
     "output_type": "stream",
     "text": [
      "ham translates to Schinken\n",
      "eggs translates to Eier\n",
      "spam translates to Frühstücksfleisch\n"
     ]
    }
   ],
   "source": [
    "# loop over dictionary keys and string formatting\n",
    "for key in mydict.keys():\n",
    "    print(\"{} translates to {}\".format(key, mydict[key]))"
   ]
  },
  {
   "cell_type": "code",
   "execution_count": 57,
   "metadata": {
    "collapsed": true
   },
   "outputs": [],
   "source": [
    "# a function \n",
    "def translate_english_to_german(word):\n",
    "    mydict = {'ham':'Schinken','eggs':'Eier','spam':'Frühstücksfleisch'}\n",
    "    return mydict.get(word)"
   ]
  },
  {
   "cell_type": "code",
   "execution_count": 60,
   "metadata": {
    "collapsed": false
   },
   "outputs": [
    {
     "name": "stdout",
     "output_type": "stream",
     "text": [
      "Schinken\n"
     ]
    }
   ],
   "source": [
    "# use function\n",
    "print(translate_english_to_german('ham'))"
   ]
  },
  {
   "cell_type": "code",
   "execution_count": 61,
   "metadata": {
    "collapsed": false
   },
   "outputs": [
    {
     "name": "stdout",
     "output_type": "stream",
     "text": [
      "Schinken\n"
     ]
    }
   ],
   "source": [
    "# if ... then\n",
    "curword = 'ham'\n",
    "if curword in mydict:\n",
    "    print(translate_english_to_german('ham'))\n",
    "else:\n",
    "    print('I haven\\'t yet learnt the word')"
   ]
  },
  {
   "cell_type": "markdown",
   "metadata": {},
   "source": [
    "#### excercise 2 - play with python\n",
    "1. make your own dictionary english to your own language (just 5 words)\n",
    "2. write a translation function\n",
    "3. apply translation function on word of your dictionary and on word which is not yet part. what is the output for the latter\n",
    "4. BONUS: iterate over a list of words and translate each word. if word is not part of the dictionary print out that you have not yet learnt the word"
   ]
  },
  {
   "cell_type": "markdown",
   "metadata": {},
   "source": [
    "### learn a little pandas"
   ]
  },
  {
   "cell_type": "code",
   "execution_count": null,
   "metadata": {
    "collapsed": true
   },
   "outputs": [],
   "source": []
  }
 ],
 "metadata": {
  "kernelspec": {
   "display_name": "Python 3",
   "language": "python",
   "name": "python3"
  },
  "language_info": {
   "codemirror_mode": {
    "name": "ipython",
    "version": 3
   },
   "file_extension": ".py",
   "mimetype": "text/x-python",
   "name": "python",
   "nbconvert_exporter": "python",
   "pygments_lexer": "ipython3",
   "version": "3.6.0"
  }
 },
 "nbformat": 4,
 "nbformat_minor": 2
}
